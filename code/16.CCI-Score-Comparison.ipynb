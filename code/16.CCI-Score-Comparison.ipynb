{
 "cells": [
  {
   "cell_type": "code",
   "execution_count": 1,
   "id": "47273834",
   "metadata": {},
   "outputs": [],
   "source": [
    "import cell2cell as c2c\n",
    "\n",
    "import numpy as np\n",
    "import pandas as pd\n",
    "\n",
    "import scipy\n",
    "\n",
    "from cci_distance_correlation import get_correlation\n",
    "from ga_results import load_ga_results, organize_ga_results, plot_run_results\n",
    "\n",
    "import matplotlib.pyplot as plt\n",
    "from matplotlib_venn import venn2_unweighted, venn3_unweighted\n",
    "%matplotlib inline"
   ]
  },
  {
   "cell_type": "code",
   "execution_count": 2,
   "id": "5ca8a8cc",
   "metadata": {},
   "outputs": [],
   "source": [
    "import os\n",
    "\n",
    "output_folder = '../results/Comparison-CCI-scores/'\n",
    "if not os.path.isdir(output_folder):\n",
    "    os.mkdir(output_folder)"
   ]
  },
  {
   "cell_type": "code",
   "execution_count": 3,
   "id": "a50ae2c1",
   "metadata": {},
   "outputs": [],
   "source": [
    "files = dict()\n",
    "files['output_folder'] = output_folder"
   ]
  },
  {
   "cell_type": "markdown",
   "id": "7a257d68",
   "metadata": {},
   "source": [
    "# Load Data"
   ]
  },
  {
   "cell_type": "code",
   "execution_count": 4,
   "id": "6df67f31",
   "metadata": {
    "scrolled": true
   },
   "outputs": [
    {
     "name": "stdout",
     "output_type": "stream",
     "text": [
      "../data/GA-Bray-Curtis/00b38259-fcc5-4b80-ace5-dbdfd1ac182d.json\n",
      "../data/GA-Bray-Curtis/015bcbfb-254f-4d44-9f0c-a4cd42e3590a.json\n",
      "../data/GA-Bray-Curtis/01f22080-3be6-4008-b872-94fff7e6c8be.json\n",
      "../data/GA-Bray-Curtis/05dcee41-23eb-4479-9352-c2384919d030.json\n",
      "../data/GA-Bray-Curtis/07fd442e-7fe6-4d4c-b93d-cd9b4c5c0ff9.json\n",
      "../data/GA-Bray-Curtis/09e155e0-fdb3-4454-9fd2-c6e6beca8f17.json\n",
      "../data/GA-Bray-Curtis/0c3cac41-6dc9-40b8-8d86-2d0b8eb251ef.json\n",
      "../data/GA-Bray-Curtis/1565a6c3-ec25-48c3-a876-0e125a8135f8.json\n",
      "../data/GA-Bray-Curtis/16454cb9-63ff-4f87-bead-d00da5c3d494.json\n",
      "../data/GA-Bray-Curtis/16853cac-daa6-4d5a-a4c2-2f4f52c8e446.json\n",
      "../data/GA-Bray-Curtis/1c6adf2c-294e-4a7b-8d9d-e21e6b480104.json\n",
      "../data/GA-Bray-Curtis/1c882920-35fa-4340-8b58-37c0c26c52dc.json\n",
      "../data/GA-Bray-Curtis/1d303674-1c7f-4cce-b298-a368bcd57b60.json\n",
      "../data/GA-Bray-Curtis/1ef12ff3-04d8-4c8b-a9c8-f74eabd6b845.json\n",
      "../data/GA-Bray-Curtis/2567b51a-1ff0-4b88-94cc-ab7ae2142ff2.json\n",
      "../data/GA-Bray-Curtis/25b04bce-9d46-4112-8f7a-3adf1303e333.json\n",
      "../data/GA-Bray-Curtis/2653acf9-8ba2-4ad3-8181-8ce6d76b6273.json\n",
      "../data/GA-Bray-Curtis/2707b610-f93d-4010-8ff4-183a1b3af4e6.json\n",
      "../data/GA-Bray-Curtis/29618a88-7697-4bf9-9f31-8ee33450a827.json\n",
      "../data/GA-Bray-Curtis/2c76edcc-e488-4247-a77c-58452f22dfd8.json\n",
      "../data/GA-Bray-Curtis/2da9e517-087f-433f-ac6f-3dd984d4350d.json\n",
      "../data/GA-Bray-Curtis/2e6cd93f-84d6-4343-b8b2-bb2831003f4f.json\n",
      "../data/GA-Bray-Curtis/33717b20-05f2-4404-8d65-a9af6fd2bef3.json\n",
      "../data/GA-Bray-Curtis/349a2f04-aee6-46e6-9f90-1bc5a8354216.json\n",
      "../data/GA-Bray-Curtis/363c3529-c9df-4f72-93e2-3e4a2f721316.json\n",
      "../data/GA-Bray-Curtis/37d02a66-a651-4860-afe2-0b744b90fd91.json\n",
      "../data/GA-Bray-Curtis/3809ac0b-924a-4269-b75b-cd2c4ca70792.json\n",
      "../data/GA-Bray-Curtis/393ec1bf-48e7-4992-ac7f-e62e494cdccc.json\n",
      "../data/GA-Bray-Curtis/3b8de73a-0b1a-43a8-803f-2487eacd27ed.json\n",
      "../data/GA-Bray-Curtis/3c2a0b3a-799d-4b78-ae16-5cebe5f0db4c.json\n",
      "../data/GA-Bray-Curtis/4248abf5-bcf0-4f4c-8235-1f0eeeabdc98.json\n",
      "../data/GA-Bray-Curtis/4335577e-adcc-4280-9c05-eb610744f9c7.json\n",
      "../data/GA-Bray-Curtis/4a03ca14-ada9-4567-92fa-632f42f9b5eb.json\n",
      "../data/GA-Bray-Curtis/5d724943-38ca-4724-9535-e6af872d3c0e.json\n",
      "../data/GA-Bray-Curtis/5e2561f1-7b91-47ce-a578-af61c91f4be1.json\n",
      "../data/GA-Bray-Curtis/5ec761fc-a17c-4f8f-a329-c20334e69eb8.json\n",
      "../data/GA-Bray-Curtis/5ec9134b-9d00-467b-8a2f-5a7f35231ae1.json\n",
      "../data/GA-Bray-Curtis/62421211-3243-4731-9d9f-e120e2d5cabb.json\n",
      "../data/GA-Bray-Curtis/64fd861b-f307-4eac-94be-09f7ed36ca10.json\n",
      "../data/GA-Bray-Curtis/6d68235e-b5a6-4f1f-9301-dda45103d692.json\n",
      "../data/GA-Bray-Curtis/6da39903-f4b9-482e-9c8a-c7eb18639e9e.json\n",
      "../data/GA-Bray-Curtis/7073842d-81be-4ace-8630-003ed68b0082.json\n",
      "../data/GA-Bray-Curtis/7758d1cf-b2cd-45c4-a12f-1fc63d069731.json\n",
      "../data/GA-Bray-Curtis/789c6b6a-b632-4c10-a75c-61135bf63a45.json\n",
      "../data/GA-Bray-Curtis/80028c27-7824-4f17-8d8f-698b7d104119.json\n",
      "../data/GA-Bray-Curtis/866338bf-02a7-49a5-99b3-d0f1f05f0a13.json\n",
      "../data/GA-Bray-Curtis/89027def-3637-4763-81a0-0d9e0a42b815.json\n",
      "../data/GA-Bray-Curtis/8bf25fb4-63b2-425b-bbfd-9f3a241bf22f.json\n",
      "../data/GA-Bray-Curtis/8c8cf7d4-4434-4b6d-a9be-b5be2d16982f.json\n",
      "../data/GA-Bray-Curtis/8d1577b0-164e-4dce-b46a-a76f58f59e52.json\n",
      "../data/GA-Bray-Curtis/9008d7e1-9171-4355-b2d8-00ca5a6396ee.json\n",
      "../data/GA-Bray-Curtis/938086a2-4af1-4569-abe5-4024e0e1c740.json\n",
      "../data/GA-Bray-Curtis/93aace79-ee83-4337-95e0-e43d91f08ac6.json\n",
      "../data/GA-Bray-Curtis/93d51e08-3a24-4079-88a3-63048b6408eb.json\n",
      "../data/GA-Bray-Curtis/93d8e2ef-d504-4a17-b080-ccfe9fc0aee2.json\n",
      "../data/GA-Bray-Curtis/958ab2be-45a1-4e74-98e3-c4d087aae8a2.json\n",
      "../data/GA-Bray-Curtis/95c92b3e-bc40-4ecf-b6c8-dfe788daaa0a.json\n",
      "../data/GA-Bray-Curtis/96c7353c-2bb4-45ca-b516-027b4bb10756.json\n",
      "../data/GA-Bray-Curtis/994ec0be-faff-4825-9976-f21492376367.json\n",
      "../data/GA-Bray-Curtis/997ed953-4f71-4c38-9079-e3c6b5ad09ac.json\n",
      "../data/GA-Bray-Curtis/9ba5c804-2913-49c1-aca2-0d42fd1ef96c.json\n",
      "../data/GA-Bray-Curtis/a1409946-bcc4-4fd4-b920-16b835d45f03.json\n",
      "../data/GA-Bray-Curtis/a2480628-8c1b-4447-b19f-017427054c30.json\n",
      "../data/GA-Bray-Curtis/a5a0aabf-982a-44a8-8980-d67fced17933.json\n",
      "../data/GA-Bray-Curtis/a719638f-805f-4514-8abd-ccaaa36d6c5c.json\n",
      "../data/GA-Bray-Curtis/aa845ba3-6dc5-412a-a5e7-f44b81a4ac84.json\n",
      "../data/GA-Bray-Curtis/b119248a-9f09-46e8-8978-871e160604d6.json\n",
      "../data/GA-Bray-Curtis/b166794f-ff77-4a89-820f-643544c1c3a7.json\n",
      "../data/GA-Bray-Curtis/b23ce3c1-b609-4898-adb0-a610e7dca969.json\n",
      "../data/GA-Bray-Curtis/b7cffdf7-5779-4e78-a92a-e4abdeb09b2c.json\n",
      "../data/GA-Bray-Curtis/bc04ffb4-afbe-46d4-9624-d014998ea202.json\n",
      "../data/GA-Bray-Curtis/bc1a5841-ee2d-4b8e-9ea7-495cde63848c.json\n",
      "../data/GA-Bray-Curtis/be122afc-abf7-4b3e-bc4f-1610db29af32.json\n",
      "../data/GA-Bray-Curtis/c2f85585-92aa-41f6-853f-c414a20740c4.json\n",
      "../data/GA-Bray-Curtis/c32ae3f1-a87c-4e07-bc68-c22c2579faab.json\n",
      "../data/GA-Bray-Curtis/c536dcfc-3327-4cb9-b9fd-317e61f365d2.json\n",
      "../data/GA-Bray-Curtis/c777161c-6b25-4bd2-b97e-64a1720434ff.json\n",
      "../data/GA-Bray-Curtis/cea267e8-e51a-4b25-8695-5232f1f321f9.json\n",
      "../data/GA-Bray-Curtis/cefd3a3c-1cde-43a2-bbd7-ffb3b0ff2887.json\n",
      "../data/GA-Bray-Curtis/d0a088f0-3fa8-4019-939c-7a30d2e59acb.json\n",
      "../data/GA-Bray-Curtis/d5b79dbd-dbc9-41c7-8ec3-475a95328e6f.json\n",
      "../data/GA-Bray-Curtis/d89b63f3-2775-4c50-8ee2-b3a547cf3266.json\n",
      "../data/GA-Bray-Curtis/db4fa607-857f-4906-b1e8-162819ec33b3.json\n",
      "../data/GA-Bray-Curtis/db8f9554-cad2-490d-abe7-e8b1f83cba51.json\n",
      "../data/GA-Bray-Curtis/dc0a6855-06b1-42cf-98f2-6ea75f9dc650.json\n",
      "../data/GA-Bray-Curtis/ddc80ae1-5d50-4e7c-9e1a-3168acc40c17.json\n",
      "../data/GA-Bray-Curtis/deecd110-0ef8-44dd-b34c-384b7bcfa96d.json\n",
      "../data/GA-Bray-Curtis/e534db77-f086-4fc3-98e0-369d8bed140a.json\n",
      "../data/GA-Bray-Curtis/eb74f719-2a8e-45cc-9f87-73ae38d0f1db.json\n",
      "../data/GA-Bray-Curtis/ec533c2b-2d08-45c5-b702-3c9fdcf8a85f.json\n",
      "../data/GA-Bray-Curtis/ed4e6fc8-eca2-4e6d-9d4c-c30331ea8173.json\n",
      "../data/GA-Bray-Curtis/ef191bf4-c896-4533-8bb9-71ae24206daf.json\n",
      "../data/GA-Bray-Curtis/ef85ef1a-c3ac-4c39-b654-6e18874901d8.json\n",
      "../data/GA-Bray-Curtis/f07e54a3-e322-47d2-bd60-dfc3c86e266e.json\n",
      "../data/GA-Bray-Curtis/f41ae18a-e90c-483e-af9b-d0bce06a0249.json\n",
      "../data/GA-Bray-Curtis/f5829833-13ec-41f1-9031-7878dd7898df.json\n",
      "../data/GA-Bray-Curtis/f97de0b7-745a-4c3a-9d7a-6d7e1f5fa41c.json\n",
      "../data/GA-Bray-Curtis/fa467b28-8949-414c-a1a7-5375634e9832.json\n",
      "../data/GA-Bray-Curtis/fdeb36e8-26ee-4514-ba2b-8614ade9a626.json\n",
      "../data/GA-Bray-Curtis/fff95c29-124b-43e6-9dbd-22bc5e984642.json\n"
     ]
    }
   ],
   "source": [
    "ga1 = load_ga_results('../data/GA-Bray-Curtis/')"
   ]
  },
  {
   "cell_type": "code",
   "execution_count": 5,
   "id": "f631054f",
   "metadata": {
    "scrolled": true
   },
   "outputs": [
    {
     "name": "stdout",
     "output_type": "stream",
     "text": [
      "../data/GA-LR-Count/0054565f-fa7c-4517-ae47-41f66391fd98.json\n",
      "../data/GA-LR-Count/040b576c-0e38-4d7d-8b05-5a4db7bbd5a3.json\n",
      "../data/GA-LR-Count/0493687c-9b0b-41dc-82ff-902f33a8534a.json\n",
      "../data/GA-LR-Count/0506a8e2-78a8-41b3-aef7-9415707ab8f0.json\n",
      "../data/GA-LR-Count/05dc8647-1387-491a-abad-af9495371c4c.json\n",
      "../data/GA-LR-Count/06ffa4cc-04ff-4548-86fc-7e1d32e5ef0d.json\n",
      "../data/GA-LR-Count/08d29508-9e23-4a5b-9f08-9697df7262c0.json\n",
      "../data/GA-LR-Count/0d9c927d-6670-40a9-a998-6a528203b205.json\n",
      "../data/GA-LR-Count/0da4272a-8cf1-4bc0-b8d0-e441242ce9d0.json\n",
      "../data/GA-LR-Count/1048a6ac-b437-4268-a9c5-22b41afd87c1.json\n",
      "../data/GA-LR-Count/12552e43-79f3-4e86-8a35-e98a1452200f.json\n",
      "../data/GA-LR-Count/14e6abea-4314-4076-a081-95424898cc8c.json\n",
      "../data/GA-LR-Count/16752b51-09b2-4aca-9dd5-f17b1fd802bf.json\n",
      "../data/GA-LR-Count/196a4924-fa6a-49a6-84d2-5f44bb85e024.json\n",
      "../data/GA-LR-Count/1ad72989-c229-4e93-8678-a9dcd7fd0d09.json\n",
      "../data/GA-LR-Count/1d01f168-b559-4aee-b919-a1097caea34f.json\n",
      "../data/GA-LR-Count/254655c1-a141-40f1-aa63-f739283d455b.json\n",
      "../data/GA-LR-Count/261d2523-2d02-4b83-9272-76ab3f0c75db.json\n",
      "../data/GA-LR-Count/26dece57-50ba-4a12-8208-cc6754edfcae.json\n",
      "../data/GA-LR-Count/2720cebb-cd64-4425-8302-ed45bfd708d8.json\n",
      "../data/GA-LR-Count/273ee601-8124-420b-a8ae-56fad8d10d67.json\n",
      "../data/GA-LR-Count/2adb64f0-56a3-4499-9000-960ad898d4c2.json\n",
      "../data/GA-LR-Count/2c6fba19-01f0-47dd-8775-cd173b384709.json\n",
      "../data/GA-LR-Count/30669d24-f140-4bef-a784-38d15907109d.json\n",
      "../data/GA-LR-Count/3299adf4-a503-4a61-96c1-fa7e456881e5.json\n",
      "../data/GA-LR-Count/3cac4129-b321-468a-ad77-50bacf8e1b05.json\n",
      "../data/GA-LR-Count/3e5f8ee5-0cab-4bb2-ae19-8a8f75c0b5fb.json\n",
      "../data/GA-LR-Count/3f00e820-9f19-42b1-9f7a-71a7d9792275.json\n",
      "../data/GA-LR-Count/3f88fc86-0a56-4cd5-a2ed-87e0ce0aee68.json\n",
      "../data/GA-LR-Count/44f6c572-b9eb-4af5-a76f-9c2b11949446.json\n",
      "../data/GA-LR-Count/494414d5-aaa0-4701-927d-97b0ff917f3e.json\n",
      "../data/GA-LR-Count/4c49aa9c-45f9-44c1-9ddf-f212815de3ca.json\n",
      "../data/GA-LR-Count/4fc855ea-a95a-408b-9261-315ef26068d2.json\n",
      "../data/GA-LR-Count/53f6f1ea-a4da-4f67-83ec-7c8fc9f4be48.json\n",
      "../data/GA-LR-Count/569bb6a5-65be-40b8-888c-64e0cd463cf8.json\n",
      "../data/GA-LR-Count/59e26182-35c1-437f-b79c-b0e1c2366427.json\n",
      "../data/GA-LR-Count/609c34a4-0cf0-4f37-a7e2-76e9d9b8847e.json\n",
      "../data/GA-LR-Count/638b3ba3-10c3-474b-961a-79ad4e18d8dd.json\n",
      "../data/GA-LR-Count/63f3b86b-0b2d-449f-b2ff-941c194b9501.json\n",
      "../data/GA-LR-Count/6832cbaa-2319-4aff-84f9-bbd0403a7788.json\n",
      "../data/GA-LR-Count/6d07024c-c1d9-45fb-bf34-06df99957a97.json\n",
      "../data/GA-LR-Count/6eae31bf-d994-4fe3-a63a-14b3ffd888e6.json\n",
      "../data/GA-LR-Count/6ed39abb-8cb7-4506-bd46-39f80afb14d3.json\n",
      "../data/GA-LR-Count/6f1c3436-07c9-4ac1-b5ff-bdc70d605a2a.json\n",
      "../data/GA-LR-Count/6f278f8f-62d1-429a-9ac5-262ba553dc65.json\n",
      "../data/GA-LR-Count/73f8488b-532e-4e97-8ddb-c905b00a4ebf.json\n",
      "../data/GA-LR-Count/766c0447-b5c7-4f17-a329-a1917e351a52.json\n",
      "../data/GA-LR-Count/7a5b2eae-ae0f-4677-a57f-a84f40567c50.json\n",
      "../data/GA-LR-Count/84446e71-08b5-4b9f-9d43-1c473c136f59.json\n",
      "../data/GA-LR-Count/8561ce5b-3ac6-4bea-9f1e-7bfc142180cf.json\n",
      "../data/GA-LR-Count/87377654-5da0-477a-bde2-5c28ab1bffe8.json\n",
      "../data/GA-LR-Count/8886f538-f703-4db7-83ae-f3d92aefa916.json\n",
      "../data/GA-LR-Count/89e2e24e-b88b-4467-aca8-9880cebe9fe1.json\n",
      "../data/GA-LR-Count/8ae6e039-a6a0-4b2f-b931-a71e3fbb1047.json\n",
      "../data/GA-LR-Count/8eacd764-d193-4d3d-8e90-b685cf22bf59.json\n",
      "../data/GA-LR-Count/9086d69b-1b0a-4033-913d-fb56862917b4.json\n",
      "../data/GA-LR-Count/9393dd06-797c-4b89-b9c8-c4e8fb9cdbf2.json\n",
      "../data/GA-LR-Count/96e509c7-d308-4a28-a7c7-02a96259e411.json\n",
      "../data/GA-LR-Count/9785204d-e8b8-4ece-b968-7ff5e00f3075.json\n",
      "../data/GA-LR-Count/9a10d5e3-8b50-420a-bd35-f2a11b509bcd.json\n",
      "../data/GA-LR-Count/9a697323-db0d-41d9-b186-8f6cdd77bac0.json\n",
      "../data/GA-LR-Count/9cf22791-a2be-4c0e-8152-a9b35c02b8f2.json\n",
      "../data/GA-LR-Count/9d8cb86e-5d42-49af-bb99-1771eead1f5f.json\n",
      "../data/GA-LR-Count/a1026152-b6fb-4649-a5f5-0b4a5b7d8008.json\n",
      "../data/GA-LR-Count/a234b721-69a0-4121-9c12-625b0147664c.json\n",
      "../data/GA-LR-Count/a3242780-570e-42e9-b82b-c85847003a94.json\n",
      "../data/GA-LR-Count/a4ec05c2-9dc4-4000-907e-ef010fb1ab20.json\n",
      "../data/GA-LR-Count/a531e0b0-3c00-4923-b68a-1d3919f0a470.json\n",
      "../data/GA-LR-Count/a5ba6888-45cc-4ea8-a786-bda1a83542fc.json\n",
      "../data/GA-LR-Count/a63ce6ef-75f8-4893-8d37-862c5f733184.json\n",
      "../data/GA-LR-Count/a85ed29e-0e40-4db8-9ebc-80f1e6c0c785.json\n",
      "../data/GA-LR-Count/a8d98cfd-a36d-48e7-a274-97567ba09e84.json\n",
      "../data/GA-LR-Count/ad0341ae-788e-4230-b566-2c9eb2c12ffb.json\n",
      "../data/GA-LR-Count/ad0b1faf-46d5-4a00-aeab-bd5c0abf5b80.json\n",
      "../data/GA-LR-Count/ae97aef0-653a-43f8-a207-36a2ef295532.json\n",
      "../data/GA-LR-Count/b000c548-d4d1-4e7d-b92b-c5ce390f4255.json\n",
      "../data/GA-LR-Count/b6643b7a-cc0d-4cc2-a013-0e90e43960dc.json\n",
      "../data/GA-LR-Count/b7e96a06-57ab-4c8f-acce-e341896c2456.json\n",
      "../data/GA-LR-Count/b9875478-f4d6-4c3d-94f1-fb324d219041.json\n",
      "../data/GA-LR-Count/bd149cc7-fba6-41ab-b467-ac80c7913bbb.json\n",
      "../data/GA-LR-Count/bd2ed679-01b1-4fc7-99ec-28d4ddd9d390.json\n",
      "../data/GA-LR-Count/be99be3c-7245-4714-ac86-f3c0bfc9eaf4.json\n",
      "../data/GA-LR-Count/beca3042-f4b1-4a8f-b6ef-cde57f605ccd.json\n",
      "../data/GA-LR-Count/c543859d-f956-4ed0-b25d-5bdedf5c2c1a.json\n",
      "../data/GA-LR-Count/c63067c6-f801-421a-8c1b-9fa8ee2150ef.json\n",
      "../data/GA-LR-Count/cb9c3ed7-4208-414f-8fe0-d1a6c41f2782.json\n",
      "../data/GA-LR-Count/cd0d72c4-130c-4b9f-a198-39c15965663e.json\n",
      "../data/GA-LR-Count/ce49a8ab-53b7-4da9-8cb5-8c110557a38e.json\n",
      "../data/GA-LR-Count/ce6770e6-e3e9-4ad1-8db6-2d6116a2a70f.json\n",
      "../data/GA-LR-Count/d284eb73-79c0-420a-8565-bd660c9245eb.json\n",
      "../data/GA-LR-Count/d74f4b60-a77c-4441-ad9e-62cdb7a12711.json\n",
      "../data/GA-LR-Count/e1bf45f8-40a9-4d82-a8ec-3cc2550baabd.json\n",
      "../data/GA-LR-Count/e26c63cf-c692-4dac-a199-02d1aab6b0b7.json\n",
      "../data/GA-LR-Count/e6c520d2-1538-4f12-aa4e-a2842c1df528.json\n",
      "../data/GA-LR-Count/ead89de4-6416-4dc4-9c3e-79c2c6d1b5f5.json\n",
      "../data/GA-LR-Count/ebe4d6af-0576-4a73-a264-091ce19b26c5.json\n",
      "../data/GA-LR-Count/ee546fb3-6553-4d68-84cd-6dcbe73b12bb.json\n",
      "../data/GA-LR-Count/f2e50296-934b-492f-8c9a-ab301097efab.json\n",
      "../data/GA-LR-Count/f3177daa-7405-4f09-927c-cce5fa95d624.json\n",
      "../data/GA-LR-Count/f78b3680-5a96-4bfc-b90f-f291621da6fd.json\n"
     ]
    }
   ],
   "source": [
    "ga2 = load_ga_results('../data/GA-LR-Count/')"
   ]
  },
  {
   "cell_type": "code",
   "execution_count": 6,
   "id": "1d2b1604",
   "metadata": {
    "scrolled": true
   },
   "outputs": [
    {
     "name": "stdout",
     "output_type": "stream",
     "text": [
      "../data/GA-ICELLNET/0141aa97-893c-4d25-9d69-5a1cde3c36b6.json\n",
      "../data/GA-ICELLNET/043c0c44-cb36-4933-aa45-9ba70e004137.json\n",
      "../data/GA-ICELLNET/04eeaf98-7f8d-4b90-afcc-a4f9f2294777.json\n",
      "../data/GA-ICELLNET/07ec168f-f388-4b7e-a49a-604786ee3f3c.json\n",
      "../data/GA-ICELLNET/09b258c9-fdfc-494e-b9e5-64db43d0fe1b.json\n",
      "../data/GA-ICELLNET/0cfdcee9-0f8e-4358-9c3a-0a796ed09399.json\n",
      "../data/GA-ICELLNET/0e6b3adc-9f2b-4dcd-a22e-6674784b5c72.json\n",
      "../data/GA-ICELLNET/0ede2cc0-45d3-4766-8a45-7d54a3e59f71.json\n",
      "../data/GA-ICELLNET/100ca935-c1eb-4b07-a726-84a0c19291d4.json\n",
      "../data/GA-ICELLNET/125c57d5-52e8-47e9-aea0-b5b2682cc551.json\n",
      "../data/GA-ICELLNET/189658b0-cf4d-4192-ad93-99c4ca5d551c.json\n",
      "../data/GA-ICELLNET/1a21bc2b-5e9c-4c4b-b482-01cef524b8e2.json\n",
      "../data/GA-ICELLNET/1b3a7d48-b2b6-4da1-bbd3-cf2658b7129a.json\n",
      "../data/GA-ICELLNET/1b60b00f-fe09-4777-95be-70f4d42281a2.json\n",
      "../data/GA-ICELLNET/1c428010-feb4-499d-8fce-4ec6e5dea6cb.json\n",
      "../data/GA-ICELLNET/1f6be7f3-70ae-4f47-b4fa-409f79b3ebfe.json\n",
      "../data/GA-ICELLNET/252b1ebf-0624-47d8-95d5-c28f9cd77e03.json\n",
      "../data/GA-ICELLNET/276be70c-fc7f-43fd-a65c-b7b0f38b4ddb.json\n",
      "../data/GA-ICELLNET/2875150e-7312-457a-92cd-d6a84fec616d.json\n",
      "../data/GA-ICELLNET/2a62150b-ad03-408f-8392-b9bdd6305121.json\n",
      "../data/GA-ICELLNET/2ab5cf8e-ebd2-43bc-b0e5-18bd6390faaa.json\n",
      "../data/GA-ICELLNET/2f2572d4-b9fa-4e84-93bc-87b6261d58f1.json\n",
      "../data/GA-ICELLNET/348aecab-209d-475a-8df3-61fa4a16925d.json\n",
      "../data/GA-ICELLNET/350f73fe-d489-4a95-80bf-86c9d6fe4bc1.json\n",
      "../data/GA-ICELLNET/369b0e24-031a-4036-8848-1ee56babcaf9.json\n",
      "../data/GA-ICELLNET/36f13b48-5453-401a-9dfb-34d5bb62f7d4.json\n",
      "../data/GA-ICELLNET/3cab52a6-1450-45c1-b905-b1730da6e2e2.json\n",
      "../data/GA-ICELLNET/3dda82ca-092c-460b-81fd-42f982751ad1.json\n",
      "../data/GA-ICELLNET/40989ce3-b1b9-478b-9a44-fb9322d89a7e.json\n",
      "../data/GA-ICELLNET/49a9f8a6-ab6b-4903-9bfc-0f3bc447a309.json\n",
      "../data/GA-ICELLNET/4b0ce76a-bc96-4ba7-be64-a4e49b1c4bd3.json\n",
      "../data/GA-ICELLNET/4b552d5f-937f-411d-8fd9-716588cb9c2b.json\n",
      "../data/GA-ICELLNET/51a7c32f-27cb-41b8-ae19-6b0231797203.json\n",
      "../data/GA-ICELLNET/530a9957-ff2d-4b94-9ab6-3500d05a4007.json\n",
      "../data/GA-ICELLNET/55e1dc91-8d02-4acd-8af0-3b2d955ec262.json\n",
      "../data/GA-ICELLNET/588ea07b-579d-4aec-8d51-5f8f720474c9.json\n",
      "../data/GA-ICELLNET/5e3346fa-656c-4cb0-9bea-f2479c800848.json\n",
      "../data/GA-ICELLNET/5e522baf-afbd-4232-9f77-0f1e6184f618.json\n",
      "../data/GA-ICELLNET/64c71e7d-cac6-4e46-81da-f55b59996a56.json\n",
      "../data/GA-ICELLNET/653585ca-7dde-439e-beea-0202d47b2c9d.json\n",
      "../data/GA-ICELLNET/693baa61-0e9c-4161-964f-90b94486987d.json\n",
      "../data/GA-ICELLNET/6cc43d30-e387-46d9-8754-32252d95a3fa.json\n",
      "../data/GA-ICELLNET/701308ad-a9cc-4e20-ba35-ecf1eeaef3e3.json\n",
      "../data/GA-ICELLNET/72b8387a-fe2f-491b-b3c3-1f0f273ff6e0.json\n",
      "../data/GA-ICELLNET/733b9245-2181-4496-9428-f72680930289.json\n",
      "../data/GA-ICELLNET/73534bdb-1f33-488b-b439-35adba88aed2.json\n",
      "../data/GA-ICELLNET/74c26a41-9d19-44c1-a238-c107af6c6c20.json\n",
      "../data/GA-ICELLNET/7cbf9992-c0bd-40d3-9dd1-f11c3c6db30e.json\n",
      "../data/GA-ICELLNET/7dd174a4-2bdb-41da-87ae-565b49bc15c6.json\n",
      "../data/GA-ICELLNET/7ffb15ef-9642-4075-bc8e-cd2f115d2b50.json\n",
      "../data/GA-ICELLNET/8379b93d-f752-48d3-9e9e-9e9412a06c6f.json\n",
      "../data/GA-ICELLNET/848ba72b-5a0f-4269-b48d-9a0e75fb59d8.json\n",
      "../data/GA-ICELLNET/886e9d68-8a6f-4427-ba8b-6dfd118f5dbc.json\n",
      "../data/GA-ICELLNET/8f528261-db8a-499a-94dd-50bed15d37e7.json\n",
      "../data/GA-ICELLNET/90368a49-0bd3-43f0-99b4-d042b408e5cb.json\n",
      "../data/GA-ICELLNET/9a306d9c-7621-476a-8b2b-f457632dd8fe.json\n",
      "../data/GA-ICELLNET/9c21695e-dda4-4f62-9642-fd25db6c7e2d.json\n",
      "../data/GA-ICELLNET/9e6d8c52-801e-4d8c-bb07-66db3d89438e.json\n",
      "../data/GA-ICELLNET/a0049d68-0cc5-45ed-831c-c8cd9fca860d.json\n",
      "../data/GA-ICELLNET/a6efb6a1-96d4-4587-9fa7-83a6c410bb3e.json\n",
      "../data/GA-ICELLNET/ab660410-6d26-4f66-9ba0-07b001a338c3.json\n",
      "../data/GA-ICELLNET/ac5509d5-7563-431e-a8d5-e3dd815173d8.json\n",
      "../data/GA-ICELLNET/adeb8127-6a70-404b-b2ed-f0c17b713f0e.json\n",
      "../data/GA-ICELLNET/aeba9783-37ff-461f-835e-781140b58a1d.json\n",
      "../data/GA-ICELLNET/b1a7cbe2-4cb3-42ec-babb-b1a6ea09a807.json\n",
      "../data/GA-ICELLNET/b2bf84d9-8f4b-41ea-9b29-9359a7be8f8f.json\n",
      "../data/GA-ICELLNET/b42035eb-941e-4b5a-86a8-d22bbfcc59bd.json\n",
      "../data/GA-ICELLNET/b5abecfb-6590-42bc-9577-28a261e568c8.json\n",
      "../data/GA-ICELLNET/b81802a7-43b0-45aa-b664-1351f0059d44.json\n",
      "../data/GA-ICELLNET/ba75d0d5-a074-4edd-9369-74ee50950dd4.json\n",
      "../data/GA-ICELLNET/baa3e334-5136-4c01-a445-7c12a95b8493.json\n",
      "../data/GA-ICELLNET/c02d6346-c991-40de-96f0-5a56ee6d4011.json\n",
      "../data/GA-ICELLNET/c145dd97-d885-4a07-b1a0-e2b8b335ca36.json\n",
      "../data/GA-ICELLNET/c2e462b3-5163-4d14-b152-0b9b8fe416bc.json\n",
      "../data/GA-ICELLNET/c4bdedfb-a63b-408e-803a-49710e685b44.json\n",
      "../data/GA-ICELLNET/c5475c8e-2ee0-419b-bdc2-01ddc6feed44.json\n",
      "../data/GA-ICELLNET/cb4b4ea2-edf7-4d09-96fb-f7a24da19126.json\n",
      "../data/GA-ICELLNET/cdcce419-2e51-4266-9ee8-45bc28c37a6b.json\n",
      "../data/GA-ICELLNET/d0d09e1d-ca04-4ecd-a14a-341cdbd178cf.json\n",
      "../data/GA-ICELLNET/d218f12c-358e-4d90-b997-98ce378a16b6.json\n",
      "../data/GA-ICELLNET/d65d8f76-5a76-4106-8faa-0db95f814323.json\n",
      "../data/GA-ICELLNET/d6e0bdc4-7be5-423b-8fd7-b2e6a2c49ebd.json\n",
      "../data/GA-ICELLNET/d912a7e2-a4a9-458b-8065-baf6aa088339.json\n",
      "../data/GA-ICELLNET/dab1b09c-2e7e-4587-a1f6-6428d04a2ecf.json\n",
      "../data/GA-ICELLNET/db542722-e200-4e91-b11d-cc41d32fe579.json\n",
      "../data/GA-ICELLNET/dd883e2c-fe27-43fe-ae29-621ea36d81be.json\n",
      "../data/GA-ICELLNET/dfb7125d-6636-4e58-846e-f66c4353ac1c.json\n",
      "../data/GA-ICELLNET/dfcb09b0-f49c-4781-a9b1-692bfc0ed359.json\n",
      "../data/GA-ICELLNET/e50d36a4-7370-4868-b321-85acfe1fee87.json\n",
      "../data/GA-ICELLNET/e67afdcf-a6b0-419b-a9e5-1fcc690db81f.json\n",
      "../data/GA-ICELLNET/e7bd7fa3-430a-4e93-82a9-9768974b6286.json\n",
      "../data/GA-ICELLNET/ea129b3e-0dbb-4d6f-a082-0c1325d51f8c.json\n",
      "../data/GA-ICELLNET/eb3474ce-f961-47f4-9ca7-2a350c6aaec5.json\n",
      "../data/GA-ICELLNET/ed08dc6f-855c-4721-b47e-105c96db600a.json\n",
      "../data/GA-ICELLNET/eeae80ef-103d-4360-8021-20b8fddfae11.json\n",
      "../data/GA-ICELLNET/ef4da940-fcdf-445e-b9fb-d1a8e65f7d7d.json\n",
      "../data/GA-ICELLNET/f200fbe1-2bb7-4a1c-ab95-c063602863f9.json\n",
      "../data/GA-ICELLNET/f85a0bf7-4514-4530-9592-f4faef6f652b.json\n",
      "../data/GA-ICELLNET/f87d50b0-cb65-4843-bd43-672921abca82.json\n",
      "../data/GA-ICELLNET/fb5760d7-2474-413d-ac8a-f23d56631685.json\n"
     ]
    }
   ],
   "source": [
    "ga3 = load_ga_results('../data/GA-ICELLNET/')"
   ]
  },
  {
   "cell_type": "code",
   "execution_count": 7,
   "id": "67309469",
   "metadata": {},
   "outputs": [],
   "source": [
    "lr_ga1 = pd.read_csv('../data/PPI-Networks/Celegans-GA-BrayCurtis-Selected-LR-pairs.csv')"
   ]
  },
  {
   "cell_type": "code",
   "execution_count": 8,
   "id": "4d8ad7db",
   "metadata": {},
   "outputs": [],
   "source": [
    "lr_ga2 = pd.read_csv('../data/PPI-Networks/Celegans-GA-LRCount-Selected-LR-pairs.csv')"
   ]
  },
  {
   "cell_type": "code",
   "execution_count": 9,
   "id": "2d49b7b3",
   "metadata": {},
   "outputs": [],
   "source": [
    "lr_ga3 = pd.read_csv('../data/PPI-Networks/Celegans-GA-ICELLNET-Selected-LR-pairs.csv')"
   ]
  },
  {
   "cell_type": "code",
   "execution_count": 10,
   "id": "92cace6a",
   "metadata": {},
   "outputs": [],
   "source": [
    "lr_init = pd.read_excel('../data/PPI-Networks/Celegans-Curated-LR-pairs.xlsx')"
   ]
  },
  {
   "cell_type": "markdown",
   "id": "02b8859a",
   "metadata": {},
   "source": [
    "# Analysis"
   ]
  },
  {
   "cell_type": "markdown",
   "id": "e35269c2",
   "metadata": {},
   "source": [
    "**Structure data for visualization**"
   ]
  },
  {
   "cell_type": "code",
   "execution_count": 11,
   "id": "6a0dfe7f",
   "metadata": {},
   "outputs": [],
   "source": [
    "df_ga1 = organize_ga_results(ga1, initial_corr=0.2068)\n",
    "df_ga2 = organize_ga_results(ga2, initial_corr=0.2501)\n",
    "df_ga3 = organize_ga_results(ga3, initial_corr=0.3046)"
   ]
  },
  {
   "cell_type": "code",
   "execution_count": 12,
   "id": "49be1ef8",
   "metadata": {},
   "outputs": [
    {
     "data": {
      "image/png": "[encoded data removed]",
      "text/plain": [
       "<Figure size 432x288 with 1 Axes>"
      ]
     },
     "metadata": {},
     "output_type": "display_data"
    }
   ],
   "source": [
    "plot_run_results([df_ga1, df_ga2, df_ga3], ['Bray-Curtis', 'LR Count', 'ICELLNET'])\n",
    "plt.savefig(files['output_folder'] + 'Comparison-CCI-scores-GA-runs.pdf',\n",
    "            dpi=300,\n",
    "            bbox_inches='tight')"
   ]
  },
  {
   "cell_type": "markdown",
   "id": "26e3da26",
   "metadata": {},
   "source": [
    "**Compare distributions of optimal correlations from all GA runs**"
   ]
  },
  {
   "cell_type": "code",
   "execution_count": 13,
   "id": "726ade86",
   "metadata": {},
   "outputs": [
    {
     "data": {
      "text/plain": [
       "MannwhitneyuResult(statistic=8339.0, pvalue=3.427277273614565e-16)"
      ]
     },
     "execution_count": 13,
     "metadata": {},
     "output_type": "execute_result"
    }
   ],
   "source": [
    "scipy.stats.mannwhitneyu(ga1[2], ga2[2])"
   ]
  },
  {
   "cell_type": "code",
   "execution_count": 14,
   "id": "9f61ca02",
   "metadata": {},
   "outputs": [
    {
     "data": {
      "text/plain": [
       "MannwhitneyuResult(statistic=4624.0, pvalue=0.358884607038336)"
      ]
     },
     "execution_count": 14,
     "metadata": {},
     "output_type": "execute_result"
    }
   ],
   "source": [
    "scipy.stats.mannwhitneyu(ga1[2], ga3[2])"
   ]
  },
  {
   "cell_type": "code",
   "execution_count": 15,
   "id": "7150771b",
   "metadata": {},
   "outputs": [
    {
     "data": {
      "text/plain": [
       "MannwhitneyuResult(statistic=1022.0, pvalue=2.5126263129703426e-22)"
      ]
     },
     "execution_count": 15,
     "metadata": {},
     "output_type": "execute_result"
    }
   ],
   "source": [
    "scipy.stats.mannwhitneyu(ga2[2], ga3[2])"
   ]
  },
  {
   "cell_type": "code",
   "execution_count": 16,
   "id": "fa8f828a",
   "metadata": {},
   "outputs": [
    {
     "data": {
      "image/png": "[encoded data removed]",
      "text/plain": [
       "<Figure size 432x288 with 1 Axes>"
      ]
     },
     "metadata": {
      "needs_background": "light"
     },
     "output_type": "display_data"
    }
   ],
   "source": [
    "bins = np.histogram(np.hstack((ga1[2], ga2[2], ga3[2])), bins=25)[1]\n",
    "\n",
    "_ = plt.hist(ga1[2], bins=bins, alpha=0.5, label='Bray-Curtis')\n",
    "_ = plt.hist(ga2[2], bins=bins, alpha=0.5, label='LR Count')\n",
    "_ = plt.hist(ga3[2], bins=bins, alpha=0.5, label='ICELLNET')\n",
    "\n",
    "plt.axvline(x=np.nanmedian(ga1[2]), c='C0', ls='--')\n",
    "plt.axvline(x=np.nanmedian(ga2[2]), c='C1',ls='--')\n",
    "plt.axvline(x=np.nanmedian(ga3[2]), c='C2',ls='--')\n",
    "\n",
    "plt.legend()\n",
    "plt.xlabel('Abs(Spearman score)', fontsize=18)\n",
    "plt.ylabel('Frequency', fontsize=18)\n",
    "\n",
    "plt.savefig(files['output_folder'] + 'Comparison-CCI-scores-Opt-Dist.pdf',\n",
    "            dpi=300,\n",
    "            bbox_inches='tight')"
   ]
  },
  {
   "cell_type": "code",
   "execution_count": 17,
   "id": "c8729a61",
   "metadata": {},
   "outputs": [
    {
     "data": {
      "text/plain": [
       "(0.6639484646662313, 0.6451763535609416, 0.6652914607428215)"
      ]
     },
     "execution_count": 17,
     "metadata": {},
     "output_type": "execute_result"
    }
   ],
   "source": [
    "np.nanmedian(ga1[2]), np.nanmedian(ga2[2]) , np.nanmedian(ga3[2]) "
   ]
  },
  {
   "cell_type": "markdown",
   "id": "f56f612c",
   "metadata": {},
   "source": [
    "## Bray-Curtis / LR Count / ICELLNET"
   ]
  },
  {
   "cell_type": "markdown",
   "id": "3212c1ad",
   "metadata": {},
   "source": [
    "**Compare CORE LR pairs**"
   ]
  },
  {
   "cell_type": "code",
   "execution_count": 18,
   "id": "edd46009",
   "metadata": {},
   "outputs": [],
   "source": [
    "ligands1 = lr_ga1['Ligand_symbol'].unique().tolist()\n",
    "ligands2 = lr_ga2['Ligand_symbol'].unique().tolist()\n",
    "ligands3 = lr_ga3['Ligand_symbol'].unique().tolist()"
   ]
  },
  {
   "cell_type": "code",
   "execution_count": 19,
   "id": "141fb34a",
   "metadata": {},
   "outputs": [],
   "source": [
    "receptors1 = lr_ga1['Receptor_symbol'].unique().tolist()\n",
    "receptors2 = lr_ga2['Receptor_symbol'].unique().tolist()\n",
    "receptors3 = lr_ga3['Receptor_symbol'].unique().tolist()"
   ]
  },
  {
   "cell_type": "code",
   "execution_count": 20,
   "id": "cc6c9dd8",
   "metadata": {},
   "outputs": [],
   "source": [
    "lr1 = lr_ga1.apply(lambda row: row['Ligand_symbol'] + ' / ' + row['Receptor_symbol'], axis=1).values.tolist()\n",
    "lr2 = lr_ga2.apply(lambda row: row['Ligand_symbol'] + ' / ' + row['Receptor_symbol'], axis=1).values.tolist()\n",
    "lr3 = lr_ga3.apply(lambda row: row['Ligand_symbol'] + ' / ' + row['Receptor_symbol'], axis=1).values.tolist()"
   ]
  },
  {
   "cell_type": "code",
   "execution_count": 21,
   "id": "83704c4a",
   "metadata": {},
   "outputs": [
    {
     "data": {
      "image/png": "[encoded data removed]",
      "text/plain": [
       "<Figure size 1296x432 with 3 Axes>"
      ]
     },
     "metadata": {},
     "output_type": "display_data"
    }
   ],
   "source": [
    "fig, axn = plt.subplots(1, 3, figsize=(18, 6))\n",
    "\n",
    "pairs = [(ligands1, ligands2, ligands3), (receptors1, receptors2, receptors3), (lr1, lr2, lr3)]\n",
    "titles = ['Ligands', 'Receptors', 'Ligand-Receptor Pairs']\n",
    "\n",
    "for ax, pair, t in zip(axn.flatten(), pairs, titles):\n",
    "    p1, p2, p3 = pair[0], pair[1], pair[2]\n",
    "    vd = venn3_unweighted([set(p1), set(p2), set(p3)], ('Bray-Curtis', 'LR Count', 'ICELLNET'), alpha=0.4, ax=ax)\n",
    "    ax.set_title(t, size=22)\n",
    "plt.savefig(files['output_folder'] + 'Comparison-CCI-scores-Core2-LRs.pdf',\n",
    "            dpi=300,\n",
    "            bbox_inches='tight')"
   ]
  },
  {
   "cell_type": "code",
   "execution_count": 22,
   "id": "d6f498df",
   "metadata": {},
   "outputs": [
    {
     "data": {
      "text/plain": [
       "['K05F1.5 / dma-1',\n",
       " 'col-99 / ddr-1',\n",
       " 'cwn-1 / mig-1',\n",
       " 'grd-11 / ptc-1',\n",
       " 'let-2 / pat-3',\n",
       " 'let-756 / ver-1',\n",
       " 'lin-44 / cfz-2',\n",
       " 'mab-20 / plx-2',\n",
       " 'mec-5 / mec-10',\n",
       " 'mnr-1 / dma-1',\n",
       " 'mom-2 / lin-18',\n",
       " 'qua-1 / ptc-3',\n",
       " 'smp-2 / plx-2',\n",
       " 'wrt-5 / ptc-1']"
      ]
     },
     "execution_count": 22,
     "metadata": {},
     "output_type": "execute_result"
    }
   ],
   "source": [
    "sorted(set(lr1) & set(lr2) & set(lr3))"
   ]
  },
  {
   "cell_type": "code",
   "execution_count": 23,
   "id": "22e25842",
   "metadata": {},
   "outputs": [
    {
     "data": {
      "text/plain": [
       "{'K05F1.5',\n",
       " 'col-99',\n",
       " 'cwn-1',\n",
       " 'grd-11',\n",
       " 'let-2',\n",
       " 'let-756',\n",
       " 'lin-44',\n",
       " 'mab-20',\n",
       " 'mec-5',\n",
       " 'mnr-1',\n",
       " 'mom-2',\n",
       " 'qua-1',\n",
       " 'smp-1',\n",
       " 'smp-2',\n",
       " 'wrt-5'}"
      ]
     },
     "execution_count": 23,
     "metadata": {},
     "output_type": "execute_result"
    }
   ],
   "source": [
    "set(ligands1) & set(ligands2) & set(ligands3)"
   ]
  },
  {
   "cell_type": "code",
   "execution_count": 27,
   "id": "57650ba6",
   "metadata": {},
   "outputs": [
    {
     "data": {
      "text/plain": [
       "{'cfz-2',\n",
       " 'ddr-1',\n",
       " 'dma-1',\n",
       " 'glp-1',\n",
       " 'lin-17',\n",
       " 'lin-18',\n",
       " 'mec-10',\n",
       " 'mig-1',\n",
       " 'pat-3',\n",
       " 'plx-2',\n",
       " 'ptc-1',\n",
       " 'ptc-3',\n",
       " 'ver-1'}"
      ]
     },
     "execution_count": 27,
     "metadata": {},
     "output_type": "execute_result"
    }
   ],
   "source": [
    "set(receptors1) & set(receptors2) & set(receptors3)"
   ]
  },
  {
   "cell_type": "code",
   "execution_count": null,
   "id": "cdfc5086",
   "metadata": {},
   "outputs": [],
   "source": []
  }
 ],
 "metadata": {
  "kernelspec": {
   "display_name": "Python 3 (ipykernel)",
   "language": "python",
   "name": "python3"
  },
  "language_info": {
   "codemirror_mode": {
    "name": "ipython",
    "version": 3
   },
   "file_extension": ".py",
   "mimetype": "text/x-python",
   "name": "python",
   "nbconvert_exporter": "python",
   "pygments_lexer": "ipython3",
   "version": "3.7.8"
  }
 },
 "nbformat": 4,
 "nbformat_minor": 5
}
