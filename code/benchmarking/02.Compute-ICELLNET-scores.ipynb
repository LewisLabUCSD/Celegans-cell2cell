{
 "cells": [
  {
   "cell_type": "code",
   "execution_count": 1,
   "metadata": {},
   "outputs": [],
   "source": [
    "import cell2cell as c2c\n",
    "\n",
    "import numpy as np\n",
    "import pandas as pd\n",
    "\n",
    "import matplotlib as mlp\n",
    "import matplotlib.pyplot as plt\n",
    "import seaborn as sns\n",
    "%matplotlib inline"
   ]
  },
  {
   "cell_type": "markdown",
   "metadata": {},
   "source": [
    "# Analysis Setup\n",
    "\n",
    "Here, all inputs and parameters needed for the analysis are defined"
   ]
  },
  {
   "cell_type": "markdown",
   "metadata": {},
   "source": [
    "**Location of files**"
   ]
  },
  {
   "cell_type": "code",
   "execution_count": 2,
   "metadata": {},
   "outputs": [],
   "source": [
    "data_folder = '../../data/'"
   ]
  },
  {
   "cell_type": "code",
   "execution_count": null,
   "metadata": {},
   "outputs": [],
   "source": [
    "import os\n",
    "\n",
    "output_folder = '../../results/Benchmarking/'\n",
    "if not os.path.isdir(output_folder):\n",
    "    os.makedirs(output_folder, exist_ok=True)"
   ]
  },
  {
   "cell_type": "code",
   "execution_count": 3,
   "metadata": {},
   "outputs": [],
   "source": [
    "files = dict()\n",
    "files['rnaseq'] = data_folder + '/RNA-Seq/Celegans_RNASeqData_Cell.xlsx'\n",
    "files['metadata'] = data_folder + '/RNA-Seq/Celegans_cell_metadata.tsv'\n",
    "files['ppi'] = data_folder + '/PPI-Networks/Celegans-Curated-LR-pairs.xlsx'\n",
    "files['output_folder'] = output_folder"
   ]
  },
  {
   "cell_type": "markdown",
   "metadata": {},
   "source": [
    "**RNA-seq data manipulation**\n",
    "\n",
    "- <font color=\"green\">'gene_col'</font> is the name of the column containing the list or names of genes in the dataset.\n",
    "- <font color=\"green\">'drop_nangenes'</font> is a boolean decision to remove genes with NaN values.\n",
    "- <font color=\"green\">'log_transform'</font> is a boolean decision to log-transform the dataset."
   ]
  },
  {
   "cell_type": "code",
   "execution_count": 4,
   "metadata": {},
   "outputs": [],
   "source": [
    "rnaseq_setup = dict()\n",
    "rnaseq_setup['gene_col'] = 'gene_id'\n",
    "rnaseq_setup['drop_nangenes'] = True\n",
    "rnaseq_setup['log_transform'] = False"
   ]
  },
  {
   "cell_type": "markdown",
   "metadata": {},
   "source": [
    "**Metadata columns**\n",
    "\n",
    "- <font color=\"green\">'sample_col'</font> is the name of the column containing the sample or cell names in RNA-seq data (equivalent to the columns in rnaseq_data).\n",
    "- <font color=\"green\">'group_col'</font> is the name of the column containing the labels for the respective samples or cells in order to group/color them in downstream analyses."
   ]
  },
  {
   "cell_type": "code",
   "execution_count": 5,
   "metadata": {},
   "outputs": [],
   "source": [
    "meta_setup = dict()\n",
    "meta_setup['sample_col'] = '#SampleID'\n",
    "meta_setup['group_col'] = 'Groups'"
   ]
  },
  {
   "cell_type": "markdown",
   "metadata": {},
   "source": [
    "**Columns for PPI network**\n",
    "\n",
    "- <font color=\"green\">'protein_cols'</font> is a list containing the names of the first and second interactors."
   ]
  },
  {
   "cell_type": "code",
   "execution_count": 6,
   "metadata": {},
   "outputs": [],
   "source": [
    "ppi_setup = dict()\n",
    "ppi_setup['protein_cols'] = ['Ligand_WB', 'Receptor_WB']"
   ]
  },
  {
   "cell_type": "markdown",
   "metadata": {},
   "source": [
    "**Cutoffs setup for binarizing gene expression**\n",
    "\n",
    "- <font color=\"green\">'type'</font> is the type of cutoff to use. \n",
    "    - 'constant_value'\n",
    "    - 'local_percentile'\n",
    "    - 'global_percentile'\n",
    "    - None\n",
    "- <font color=\"green\">'parameter'</font> is the corresponding parameter for the type of cutoff. If percentile is used, it should be a value between 0 and 1. E.g. a value of 0.75 represents the 75-th percentile, and the cutoff to binarize the gene expression will be that value."
   ]
  },
  {
   "cell_type": "code",
   "execution_count": 7,
   "metadata": {},
   "outputs": [],
   "source": [
    "# cutoff_setup = dict()\n",
    "# cutoff_setup['type'] = 'constant_value'\n",
    "# cutoff_setup['parameter'] = 10 # TPM"
   ]
  },
  {
   "cell_type": "markdown",
   "metadata": {},
   "source": [
    "**General Analysis setups**\n",
    "\n",
    "- <font color=\"green\">'communication_score'</font> is the type of communication score used to detect active pathways between each pair of cell. It can be:\n",
    "    - 'expression_thresholding'\n",
    "    - 'expression_product'\n",
    "    - 'expression_correlation'\n",
    "    - 'differential_combinations'\n",
    "- <font color=\"green\">'cci_score'</font> is the scoring function to aggregate the communication scores. It can be:\n",
    "    - 'bray_curtis'\n",
    "    - 'jaccard'\n",
    "    - 'count'\n",
    "- <font color=\"green\">'cci_type'</font> is the type of interaction between two cells. If it is undirected, ligand and receptor are considered from both cells. If it is directed, ligands from one cell and receptors from the other are considered separately with respect to ligands from the second cell and receptor from the first one. So, it can be:\n",
    "    - 'undirected'\n",
    "    - 'directed"
   ]
  },
  {
   "cell_type": "code",
   "execution_count": 8,
   "metadata": {},
   "outputs": [],
   "source": [
    "analysis_setup = dict()\n",
    "analysis_setup['communication_score'] = 'expression_product'\n",
    "analysis_setup['cci_score'] = 'icellnet'\n",
    "analysis_setup['cci_type'] = 'undirected'"
   ]
  },
  {
   "cell_type": "markdown",
   "metadata": {},
   "source": [
    "# Load Data"
   ]
  },
  {
   "cell_type": "markdown",
   "metadata": {},
   "source": [
    "**RNA-seq**"
   ]
  },
  {
   "cell_type": "code",
   "execution_count": 9,
   "metadata": {},
   "outputs": [
    {
     "name": "stdout",
     "output_type": "stream",
     "text": [
      "Opening RNAseq datasets from ..//ICELLNET/Celegans_RNASeqData_Cell.xlsx\n",
      "..//ICELLNET/Celegans_RNASeqData_Cell.xlsx was correctly loaded\n"
     ]
    }
   ],
   "source": [
    "rnaseq_data = c2c.io.load_rnaseq(rnaseq_file=files['rnaseq'],\n",
    "                                 gene_column=rnaseq_setup['gene_col'],\n",
    "                                 drop_nangenes=rnaseq_setup['drop_nangenes'],\n",
    "                                 log_transformation=rnaseq_setup['log_transform'],\n",
    "                                 format='auto')"
   ]
  },
  {
   "cell_type": "code",
   "execution_count": 10,
   "metadata": {},
   "outputs": [],
   "source": [
    "rnaseq_data = rnaseq_data.applymap(lambda x: np.log2(x+1))"
   ]
  },
  {
   "cell_type": "markdown",
   "metadata": {},
   "source": [
    "**Metadata for cell types**"
   ]
  },
  {
   "cell_type": "code",
   "execution_count": 11,
   "metadata": {},
   "outputs": [
    {
     "name": "stdout",
     "output_type": "stream",
     "text": [
      "..//ICELLNET/Celegans_cell_metadata.tsv was correctly loaded\n"
     ]
    }
   ],
   "source": [
    "meta = c2c.io.load_metadata(metadata_file=files['metadata'],\n",
    "                            cell_labels=rnaseq_data.columns,\n",
    "                            format='auto')"
   ]
  },
  {
   "cell_type": "markdown",
   "metadata": {},
   "source": [
    "**PPI network**"
   ]
  },
  {
   "cell_type": "code",
   "execution_count": 12,
   "metadata": {},
   "outputs": [
    {
     "name": "stdout",
     "output_type": "stream",
     "text": [
      "Opening PPI datasets from https://github.com/LewisLabUCSD/Ligand-Receptor-Pairs/blob/master/Others/Celegans-2020-Armingol-LR-pairs.xlsx?raw=true\n",
      "https://github.com/LewisLabUCSD/Ligand-Receptor-Pairs/blob/master/Others/Celegans-2020-Armingol-LR-pairs.xlsx?raw=true was correctly loaded\n",
      "Removing bidirectionality of PPI network\n",
      "Simplying PPI network\n"
     ]
    }
   ],
   "source": [
    "ppi_data = c2c.io.load_ppi(ppi_file=files['ppi'],\n",
    "                           interaction_columns=ppi_setup['protein_cols'],\n",
    "                           rnaseq_genes=list(rnaseq_data.index),\n",
    "                           format='auto')"
   ]
  },
  {
   "cell_type": "code",
   "execution_count": 13,
   "metadata": {},
   "outputs": [
    {
     "data": {
      "text/plain": [
       "(245, 3)"
      ]
     },
     "execution_count": 13,
     "metadata": {},
     "output_type": "execute_result"
    }
   ],
   "source": [
    "ppi_data.shape"
   ]
  },
  {
   "cell_type": "markdown",
   "metadata": {},
   "source": [
    "# Labels of LR pairs"
   ]
  },
  {
   "cell_type": "code",
   "execution_count": 14,
   "metadata": {},
   "outputs": [
    {
     "name": "stdout",
     "output_type": "stream",
     "text": [
      "https://github.com/LewisLabUCSD/Ligand-Receptor-Pairs/blob/master/Others/Celegans-2020-Armingol-LR-pairs.xlsx?raw=true was correctly loaded\n"
     ]
    }
   ],
   "source": [
    "lr_pairs = c2c.io.load_table(files['ppi'])"
   ]
  },
  {
   "cell_type": "code",
   "execution_count": 15,
   "metadata": {},
   "outputs": [
    {
     "data": {
      "text/html": [
       "<div>\n",
       "<style scoped>\n",
       "    .dataframe tbody tr th:only-of-type {\n",
       "        vertical-align: middle;\n",
       "    }\n",
       "\n",
       "    .dataframe tbody tr th {\n",
       "        vertical-align: top;\n",
       "    }\n",
       "\n",
       "    .dataframe thead th {\n",
       "        text-align: right;\n",
       "    }\n",
       "</style>\n",
       "<table border=\"1\" class=\"dataframe\">\n",
       "  <thead>\n",
       "    <tr style=\"text-align: right;\">\n",
       "      <th></th>\n",
       "      <th>Ligand_WB</th>\n",
       "      <th>Receptor_WB</th>\n",
       "      <th>Ligand_symbol</th>\n",
       "      <th>Receptor_symbol</th>\n",
       "      <th>LR Function</th>\n",
       "      <th>L Function</th>\n",
       "      <th>R Function</th>\n",
       "      <th>Ligand_desc</th>\n",
       "      <th>Receptor_desc</th>\n",
       "    </tr>\n",
       "  </thead>\n",
       "  <tbody>\n",
       "    <tr>\n",
       "      <th>0</th>\n",
       "      <td>WBGene00000182</td>\n",
       "      <td>WBGene00004040</td>\n",
       "      <td>arf-1.2</td>\n",
       "      <td>pld-1</td>\n",
       "      <td>Cell adhesion</td>\n",
       "      <td>ADP-ribosylation factor 1</td>\n",
       "      <td>Phospholipase D2</td>\n",
       "      <td>Is an ortholog of human ARF1 (ADP ribosylation...</td>\n",
       "      <td>Is an ortholog of human PLD2 (phospholipase D2...</td>\n",
       "    </tr>\n",
       "    <tr>\n",
       "      <th>1</th>\n",
       "      <td>WBGene00000903</td>\n",
       "      <td>WBGene00004860</td>\n",
       "      <td>daf-7</td>\n",
       "      <td>sma-6</td>\n",
       "      <td>TGF-B signaling</td>\n",
       "      <td>GDF11</td>\n",
       "      <td>BMPRIB</td>\n",
       "      <td>Is an ortholog of human GDF11 (growth differen...</td>\n",
       "      <td>Is an ortholog of human BMPR1A (bone morphogen...</td>\n",
       "    </tr>\n",
       "    <tr>\n",
       "      <th>2</th>\n",
       "      <td>WBGene00005647</td>\n",
       "      <td>WBGene00008779</td>\n",
       "      <td>srp-6</td>\n",
       "      <td>F14B4.1</td>\n",
       "      <td>Wnt signaling</td>\n",
       "      <td>Serpin family (Blocks wnt signaling)</td>\n",
       "      <td>Wnt-Receptor</td>\n",
       "      <td>Is an ortholog of human SERPINB10 (serpin fami...</td>\n",
       "      <td>Is predicted to have Wnt-activated receptor ac...</td>\n",
       "    </tr>\n",
       "    <tr>\n",
       "      <th>3</th>\n",
       "      <td>WBGene00000074</td>\n",
       "      <td>WBGene00003930</td>\n",
       "      <td>adm-2</td>\n",
       "      <td>pat-3</td>\n",
       "      <td>Cell adhesion</td>\n",
       "      <td>ADAM</td>\n",
       "      <td>Integrin</td>\n",
       "      <td>Is an ortholog of several human genes includin...</td>\n",
       "      <td>Is an ortholog of human ITGB1 (integrin subuni...</td>\n",
       "    </tr>\n",
       "    <tr>\n",
       "      <th>4</th>\n",
       "      <td>WBGene00000074</td>\n",
       "      <td>WBGene00003929</td>\n",
       "      <td>adm-2</td>\n",
       "      <td>pat-2</td>\n",
       "      <td>Cell adhesion</td>\n",
       "      <td>ADAM</td>\n",
       "      <td>Integrin</td>\n",
       "      <td>Is an ortholog of several human genes includin...</td>\n",
       "      <td>Is an ortholog of human ITGA5 (integrin subuni...</td>\n",
       "    </tr>\n",
       "  </tbody>\n",
       "</table>\n",
       "</div>"
      ],
      "text/plain": [
       "        Ligand_WB     Receptor_WB Ligand_symbol Receptor_symbol  \\\n",
       "0  WBGene00000182  WBGene00004040       arf-1.2           pld-1   \n",
       "1  WBGene00000903  WBGene00004860         daf-7           sma-6   \n",
       "2  WBGene00005647  WBGene00008779         srp-6         F14B4.1   \n",
       "3  WBGene00000074  WBGene00003930         adm-2           pat-3   \n",
       "4  WBGene00000074  WBGene00003929         adm-2           pat-2   \n",
       "\n",
       "       LR Function                            L Function        R Function  \\\n",
       "0    Cell adhesion             ADP-ribosylation factor 1  Phospholipase D2   \n",
       "1  TGF-B signaling                                 GDF11            BMPRIB   \n",
       "2    Wnt signaling  Serpin family (Blocks wnt signaling)      Wnt-Receptor   \n",
       "3    Cell adhesion                                  ADAM          Integrin   \n",
       "4    Cell adhesion                                  ADAM          Integrin   \n",
       "\n",
       "                                         Ligand_desc  \\\n",
       "0  Is an ortholog of human ARF1 (ADP ribosylation...   \n",
       "1  Is an ortholog of human GDF11 (growth differen...   \n",
       "2  Is an ortholog of human SERPINB10 (serpin fami...   \n",
       "3  Is an ortholog of several human genes includin...   \n",
       "4  Is an ortholog of several human genes includin...   \n",
       "\n",
       "                                       Receptor_desc  \n",
       "0  Is an ortholog of human PLD2 (phospholipase D2...  \n",
       "1  Is an ortholog of human BMPR1A (bone morphogen...  \n",
       "2  Is predicted to have Wnt-activated receptor ac...  \n",
       "3  Is an ortholog of human ITGB1 (integrin subuni...  \n",
       "4  Is an ortholog of human ITGA5 (integrin subuni...  "
      ]
     },
     "execution_count": 15,
     "metadata": {},
     "output_type": "execute_result"
    }
   ],
   "source": [
    "lr_pairs.head()"
   ]
  },
  {
   "cell_type": "code",
   "execution_count": 16,
   "metadata": {},
   "outputs": [],
   "source": [
    "lr_genes = list(set(lr_pairs['Ligand_WB'].unique()).union(set(lr_pairs['Receptor_WB'].unique())))"
   ]
  },
  {
   "cell_type": "code",
   "execution_count": 17,
   "metadata": {},
   "outputs": [
    {
     "data": {
      "text/plain": [
       "190"
      ]
     },
     "execution_count": 17,
     "metadata": {},
     "output_type": "execute_result"
    }
   ],
   "source": [
    "len(lr_genes)"
   ]
  },
  {
   "cell_type": "code",
   "execution_count": 18,
   "metadata": {},
   "outputs": [],
   "source": [
    "labels_dict = dict()\n",
    "for pair in lr_pairs.iterrows():\n",
    "    original = (pair[1]['Ligand_WB'], pair[1]['Receptor_WB'])\n",
    "    new = pair[1]['Ligand_symbol']+' / '+pair[1]['Receptor_symbol']\n",
    "    labels_dict[original] = new "
   ]
  },
  {
   "cell_type": "markdown",
   "metadata": {},
   "source": [
    "# Run Analysis"
   ]
  },
  {
   "cell_type": "markdown",
   "metadata": {},
   "source": [
    "### Cells to include"
   ]
  },
  {
   "cell_type": "code",
   "execution_count": 19,
   "metadata": {},
   "outputs": [],
   "source": [
    "excluded_cells = ['Distal_tip_cells',\n",
    "                  'Sex_myoblasts',\n",
    "                  'Socket_cells',\n",
    "                  'Vulval_precursors',\n",
    "                  'flp-1(+)_interneurons']"
   ]
  },
  {
   "cell_type": "code",
   "execution_count": 20,
   "metadata": {},
   "outputs": [],
   "source": [
    "included_cells = list((set(rnaseq_data.columns)) - set(excluded_cells))"
   ]
  },
  {
   "cell_type": "code",
   "execution_count": 21,
   "metadata": {},
   "outputs": [],
   "source": [
    "rnaseq_df = rnaseq_data.loc[lr_genes, included_cells]"
   ]
  },
  {
   "cell_type": "markdown",
   "metadata": {},
   "source": [
    "### Compute Cell-Cell Interactions"
   ]
  },
  {
   "cell_type": "code",
   "execution_count": 22,
   "metadata": {},
   "outputs": [],
   "source": [
    "if analysis_setup['cci_type'] == 'undirected':\n",
    "    bi_ppi_data = c2c.preprocessing.bidirectional_ppi_for_cci(ppi_data=ppi_data, verbose=False)\n",
    "    ref_ppi = ppi_data\n",
    "else:\n",
    "    bi_ppi_data = ppi_data.copy()\n",
    "    ref_ppi = None"
   ]
  },
  {
   "cell_type": "code",
   "execution_count": 23,
   "metadata": {},
   "outputs": [],
   "source": [
    "# Base scores\n",
    "interaction_space = c2c.core.InteractionSpace(rnaseq_data=rnaseq_data[included_cells],\n",
    "                                              ppi_data=bi_ppi_data,\n",
    "                                              gene_cutoffs=None,\n",
    "                                              communication_score=analysis_setup['communication_score'],\n",
    "                                              cci_score=analysis_setup['cci_score'],\n",
    "                                              cci_type=analysis_setup['cci_type'],\n",
    "                                              verbose=False)\n",
    "\n",
    "# Compute interactions\n",
    "interaction_space.compute_pairwise_cci_scores(use_ppi_score=False, verbose=False)\n",
    "cci_matrix = interaction_space.interaction_elements['cci_matrix'].copy()\n",
    "\n",
    "# Base scores\n",
    "base_scores = interaction_space.interaction_elements['cci_matrix']"
   ]
  },
  {
   "cell_type": "code",
   "execution_count": 24,
   "metadata": {},
   "outputs": [
    {
     "data": {
      "text/plain": [
       "<seaborn.matrix.ClusterGrid at 0x7fb3925890d0>"
      ]
     },
     "execution_count": 24,
     "metadata": {},
     "output_type": "execute_result"
    },
    {
     "data": {
      "image/png": "[encoded data removed]",
      "text/plain": [
       "<Figure size 720x720 with 4 Axes>"
      ]
     },
     "metadata": {
      "needs_background": "light"
     },
     "output_type": "display_data"
    }
   ],
   "source": [
    "norm_base = base_scores / base_scores.max().max()\n",
    "\n",
    "sns.clustermap(norm_base, cmap='Blues')"
   ]
  },
  {
   "cell_type": "code",
   "execution_count": 25,
   "metadata": {},
   "outputs": [],
   "source": [
    "base_scores.to_csv(data_folder + '/Benchmarking/CCI-Matrix-ICELLNET.csv')\n",
    "base_scores.to_csv(output_folder + 'CCI-Matrix-ICELLNET.csv')"
   ]
  },
  {
   "cell_type": "code",
   "execution_count": null,
   "metadata": {},
   "outputs": [],
   "source": []
  }
 ],
 "metadata": {
  "kernelspec": {
   "display_name": "Python 3 (ipykernel)",
   "language": "python",
   "name": "python3"
  },
  "language_info": {
   "codemirror_mode": {
    "name": "ipython",
    "version": 3
   },
   "file_extension": ".py",
   "mimetype": "text/x-python",
   "name": "python",
   "nbconvert_exporter": "python",
   "pygments_lexer": "ipython3",
   "version": "3.7.8"
  }
 },
 "nbformat": 4,
 "nbformat_minor": 4
}
