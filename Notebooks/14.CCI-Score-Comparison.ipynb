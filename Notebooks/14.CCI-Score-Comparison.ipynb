{
 "cells": [
  {
   "cell_type": "code",
   "execution_count": 1,
   "id": "47273834",
   "metadata": {},
   "outputs": [],
   "source": [
    "import cell2cell as c2c\n",
    "\n",
    "import numpy as np\n",
    "import pandas as pd\n",
    "\n",
    "import scipy\n",
    "\n",
    "from cci_distance_correlation import get_correlation\n",
    "from ga_results import load_ga_results, organize_ga_results, plot_run_results\n",
    "\n",
    "import matplotlib.pyplot as plt\n",
    "from matplotlib_venn import venn2_unweighted\n",
    "%matplotlib inline"
   ]
  },
  {
   "cell_type": "code",
   "execution_count": 2,
   "id": "5ca8a8cc",
   "metadata": {},
   "outputs": [],
   "source": [
    "files = dict()\n",
    "files['output_folder'] = '../Figures/'"
   ]
  },
  {
   "cell_type": "markdown",
   "id": "7a257d68",
   "metadata": {},
   "source": [
    "# Load Data"
   ]
  },
  {
   "cell_type": "code",
   "execution_count": 3,
   "id": "6df67f31",
   "metadata": {
    "scrolled": true
   },
   "outputs": [
    {
     "name": "stdout",
     "output_type": "stream",
     "text": [
      "../Data/GA/00b38259-fcc5-4b80-ace5-dbdfd1ac182d.json\n",
      "../Data/GA/015bcbfb-254f-4d44-9f0c-a4cd42e3590a.json\n",
      "../Data/GA/01f22080-3be6-4008-b872-94fff7e6c8be.json\n",
      "../Data/GA/05dcee41-23eb-4479-9352-c2384919d030.json\n",
      "../Data/GA/07fd442e-7fe6-4d4c-b93d-cd9b4c5c0ff9.json\n",
      "../Data/GA/09e155e0-fdb3-4454-9fd2-c6e6beca8f17.json\n",
      "../Data/GA/0c3cac41-6dc9-40b8-8d86-2d0b8eb251ef.json\n",
      "../Data/GA/1565a6c3-ec25-48c3-a876-0e125a8135f8.json\n",
      "../Data/GA/16454cb9-63ff-4f87-bead-d00da5c3d494.json\n",
      "../Data/GA/16853cac-daa6-4d5a-a4c2-2f4f52c8e446.json\n",
      "../Data/GA/1c6adf2c-294e-4a7b-8d9d-e21e6b480104.json\n",
      "../Data/GA/1c882920-35fa-4340-8b58-37c0c26c52dc.json\n",
      "../Data/GA/1d303674-1c7f-4cce-b298-a368bcd57b60.json\n",
      "../Data/GA/1ef12ff3-04d8-4c8b-a9c8-f74eabd6b845.json\n",
      "../Data/GA/2567b51a-1ff0-4b88-94cc-ab7ae2142ff2.json\n",
      "../Data/GA/25b04bce-9d46-4112-8f7a-3adf1303e333.json\n",
      "../Data/GA/2653acf9-8ba2-4ad3-8181-8ce6d76b6273.json\n",
      "../Data/GA/2707b610-f93d-4010-8ff4-183a1b3af4e6.json\n",
      "../Data/GA/29618a88-7697-4bf9-9f31-8ee33450a827.json\n",
      "../Data/GA/2c76edcc-e488-4247-a77c-58452f22dfd8.json\n",
      "../Data/GA/2da9e517-087f-433f-ac6f-3dd984d4350d.json\n",
      "../Data/GA/2e6cd93f-84d6-4343-b8b2-bb2831003f4f.json\n",
      "../Data/GA/33717b20-05f2-4404-8d65-a9af6fd2bef3.json\n",
      "../Data/GA/349a2f04-aee6-46e6-9f90-1bc5a8354216.json\n",
      "../Data/GA/363c3529-c9df-4f72-93e2-3e4a2f721316.json\n",
      "../Data/GA/37d02a66-a651-4860-afe2-0b744b90fd91.json\n",
      "../Data/GA/3809ac0b-924a-4269-b75b-cd2c4ca70792.json\n",
      "../Data/GA/393ec1bf-48e7-4992-ac7f-e62e494cdccc.json\n",
      "../Data/GA/3b8de73a-0b1a-43a8-803f-2487eacd27ed.json\n",
      "../Data/GA/3c2a0b3a-799d-4b78-ae16-5cebe5f0db4c.json\n",
      "../Data/GA/4248abf5-bcf0-4f4c-8235-1f0eeeabdc98.json\n",
      "../Data/GA/4335577e-adcc-4280-9c05-eb610744f9c7.json\n",
      "../Data/GA/4a03ca14-ada9-4567-92fa-632f42f9b5eb.json\n",
      "../Data/GA/5d724943-38ca-4724-9535-e6af872d3c0e.json\n",
      "../Data/GA/5e2561f1-7b91-47ce-a578-af61c91f4be1.json\n",
      "../Data/GA/5ec761fc-a17c-4f8f-a329-c20334e69eb8.json\n",
      "../Data/GA/5ec9134b-9d00-467b-8a2f-5a7f35231ae1.json\n",
      "../Data/GA/62421211-3243-4731-9d9f-e120e2d5cabb.json\n",
      "../Data/GA/64fd861b-f307-4eac-94be-09f7ed36ca10.json\n",
      "../Data/GA/6d68235e-b5a6-4f1f-9301-dda45103d692.json\n",
      "../Data/GA/6da39903-f4b9-482e-9c8a-c7eb18639e9e.json\n",
      "../Data/GA/7073842d-81be-4ace-8630-003ed68b0082.json\n",
      "../Data/GA/7758d1cf-b2cd-45c4-a12f-1fc63d069731.json\n",
      "../Data/GA/789c6b6a-b632-4c10-a75c-61135bf63a45.json\n",
      "../Data/GA/80028c27-7824-4f17-8d8f-698b7d104119.json\n",
      "../Data/GA/866338bf-02a7-49a5-99b3-d0f1f05f0a13.json\n",
      "../Data/GA/89027def-3637-4763-81a0-0d9e0a42b815.json\n",
      "../Data/GA/8bf25fb4-63b2-425b-bbfd-9f3a241bf22f.json\n",
      "../Data/GA/8c8cf7d4-4434-4b6d-a9be-b5be2d16982f.json\n",
      "../Data/GA/8d1577b0-164e-4dce-b46a-a76f58f59e52.json\n",
      "../Data/GA/9008d7e1-9171-4355-b2d8-00ca5a6396ee.json\n",
      "../Data/GA/938086a2-4af1-4569-abe5-4024e0e1c740.json\n",
      "../Data/GA/93aace79-ee83-4337-95e0-e43d91f08ac6.json\n",
      "../Data/GA/93d51e08-3a24-4079-88a3-63048b6408eb.json\n",
      "../Data/GA/93d8e2ef-d504-4a17-b080-ccfe9fc0aee2.json\n",
      "../Data/GA/958ab2be-45a1-4e74-98e3-c4d087aae8a2.json\n",
      "../Data/GA/95c92b3e-bc40-4ecf-b6c8-dfe788daaa0a.json\n",
      "../Data/GA/96c7353c-2bb4-45ca-b516-027b4bb10756.json\n",
      "../Data/GA/994ec0be-faff-4825-9976-f21492376367.json\n",
      "../Data/GA/997ed953-4f71-4c38-9079-e3c6b5ad09ac.json\n",
      "../Data/GA/9ba5c804-2913-49c1-aca2-0d42fd1ef96c.json\n",
      "../Data/GA/a1409946-bcc4-4fd4-b920-16b835d45f03.json\n",
      "../Data/GA/a2480628-8c1b-4447-b19f-017427054c30.json\n",
      "../Data/GA/a5a0aabf-982a-44a8-8980-d67fced17933.json\n",
      "../Data/GA/a719638f-805f-4514-8abd-ccaaa36d6c5c.json\n",
      "../Data/GA/aa845ba3-6dc5-412a-a5e7-f44b81a4ac84.json\n",
      "../Data/GA/b119248a-9f09-46e8-8978-871e160604d6.json\n",
      "../Data/GA/b166794f-ff77-4a89-820f-643544c1c3a7.json\n",
      "../Data/GA/b23ce3c1-b609-4898-adb0-a610e7dca969.json\n",
      "../Data/GA/b7cffdf7-5779-4e78-a92a-e4abdeb09b2c.json\n",
      "../Data/GA/bc04ffb4-afbe-46d4-9624-d014998ea202.json\n",
      "../Data/GA/bc1a5841-ee2d-4b8e-9ea7-495cde63848c.json\n",
      "../Data/GA/be122afc-abf7-4b3e-bc4f-1610db29af32.json\n",
      "../Data/GA/c2f85585-92aa-41f6-853f-c414a20740c4.json\n",
      "../Data/GA/c32ae3f1-a87c-4e07-bc68-c22c2579faab.json\n",
      "../Data/GA/c536dcfc-3327-4cb9-b9fd-317e61f365d2.json\n",
      "../Data/GA/c777161c-6b25-4bd2-b97e-64a1720434ff.json\n",
      "../Data/GA/cea267e8-e51a-4b25-8695-5232f1f321f9.json\n",
      "../Data/GA/cefd3a3c-1cde-43a2-bbd7-ffb3b0ff2887.json\n",
      "../Data/GA/d0a088f0-3fa8-4019-939c-7a30d2e59acb.json\n",
      "../Data/GA/d5b79dbd-dbc9-41c7-8ec3-475a95328e6f.json\n",
      "../Data/GA/d89b63f3-2775-4c50-8ee2-b3a547cf3266.json\n",
      "../Data/GA/db4fa607-857f-4906-b1e8-162819ec33b3.json\n",
      "../Data/GA/db8f9554-cad2-490d-abe7-e8b1f83cba51.json\n",
      "../Data/GA/dc0a6855-06b1-42cf-98f2-6ea75f9dc650.json\n",
      "../Data/GA/ddc80ae1-5d50-4e7c-9e1a-3168acc40c17.json\n",
      "../Data/GA/deecd110-0ef8-44dd-b34c-384b7bcfa96d.json\n",
      "../Data/GA/e534db77-f086-4fc3-98e0-369d8bed140a.json\n",
      "../Data/GA/eb74f719-2a8e-45cc-9f87-73ae38d0f1db.json\n",
      "../Data/GA/ec533c2b-2d08-45c5-b702-3c9fdcf8a85f.json\n",
      "../Data/GA/ed4e6fc8-eca2-4e6d-9d4c-c30331ea8173.json\n",
      "../Data/GA/ef191bf4-c896-4533-8bb9-71ae24206daf.json\n",
      "../Data/GA/ef85ef1a-c3ac-4c39-b654-6e18874901d8.json\n",
      "../Data/GA/f07e54a3-e322-47d2-bd60-dfc3c86e266e.json\n",
      "../Data/GA/f41ae18a-e90c-483e-af9b-d0bce06a0249.json\n",
      "../Data/GA/f5829833-13ec-41f1-9031-7878dd7898df.json\n",
      "../Data/GA/f97de0b7-745a-4c3a-9d7a-6d7e1f5fa41c.json\n",
      "../Data/GA/fa467b28-8949-414c-a1a7-5375634e9832.json\n",
      "../Data/GA/fdeb36e8-26ee-4514-ba2b-8614ade9a626.json\n",
      "../Data/GA/fff95c29-124b-43e6-9dbd-22bc5e984642.json\n"
     ]
    }
   ],
   "source": [
    "ga1 = load_ga_results('../Data/GA/')"
   ]
  },
  {
   "cell_type": "code",
   "execution_count": 4,
   "id": "f631054f",
   "metadata": {
    "scrolled": true
   },
   "outputs": [
    {
     "name": "stdout",
     "output_type": "stream",
     "text": [
      "../Data/GA2/0054565f-fa7c-4517-ae47-41f66391fd98.json\n",
      "../Data/GA2/040b576c-0e38-4d7d-8b05-5a4db7bbd5a3.json\n",
      "../Data/GA2/0493687c-9b0b-41dc-82ff-902f33a8534a.json\n",
      "../Data/GA2/0506a8e2-78a8-41b3-aef7-9415707ab8f0.json\n",
      "../Data/GA2/05dc8647-1387-491a-abad-af9495371c4c.json\n",
      "../Data/GA2/06ffa4cc-04ff-4548-86fc-7e1d32e5ef0d.json\n",
      "../Data/GA2/08d29508-9e23-4a5b-9f08-9697df7262c0.json\n",
      "../Data/GA2/0d9c927d-6670-40a9-a998-6a528203b205.json\n",
      "../Data/GA2/0da4272a-8cf1-4bc0-b8d0-e441242ce9d0.json\n",
      "../Data/GA2/1048a6ac-b437-4268-a9c5-22b41afd87c1.json\n",
      "../Data/GA2/12552e43-79f3-4e86-8a35-e98a1452200f.json\n",
      "../Data/GA2/14e6abea-4314-4076-a081-95424898cc8c.json\n",
      "../Data/GA2/16752b51-09b2-4aca-9dd5-f17b1fd802bf.json\n",
      "../Data/GA2/196a4924-fa6a-49a6-84d2-5f44bb85e024.json\n",
      "../Data/GA2/1ad72989-c229-4e93-8678-a9dcd7fd0d09.json\n",
      "../Data/GA2/1d01f168-b559-4aee-b919-a1097caea34f.json\n",
      "../Data/GA2/254655c1-a141-40f1-aa63-f739283d455b.json\n",
      "../Data/GA2/261d2523-2d02-4b83-9272-76ab3f0c75db.json\n",
      "../Data/GA2/26dece57-50ba-4a12-8208-cc6754edfcae.json\n",
      "../Data/GA2/2720cebb-cd64-4425-8302-ed45bfd708d8.json\n",
      "../Data/GA2/273ee601-8124-420b-a8ae-56fad8d10d67.json\n",
      "../Data/GA2/2adb64f0-56a3-4499-9000-960ad898d4c2.json\n",
      "../Data/GA2/2c6fba19-01f0-47dd-8775-cd173b384709.json\n",
      "../Data/GA2/30669d24-f140-4bef-a784-38d15907109d.json\n",
      "../Data/GA2/3299adf4-a503-4a61-96c1-fa7e456881e5.json\n",
      "../Data/GA2/3cac4129-b321-468a-ad77-50bacf8e1b05.json\n",
      "../Data/GA2/3e5f8ee5-0cab-4bb2-ae19-8a8f75c0b5fb.json\n",
      "../Data/GA2/3f00e820-9f19-42b1-9f7a-71a7d9792275.json\n",
      "../Data/GA2/3f88fc86-0a56-4cd5-a2ed-87e0ce0aee68.json\n",
      "../Data/GA2/44f6c572-b9eb-4af5-a76f-9c2b11949446.json\n",
      "../Data/GA2/494414d5-aaa0-4701-927d-97b0ff917f3e.json\n",
      "../Data/GA2/4c49aa9c-45f9-44c1-9ddf-f212815de3ca.json\n",
      "../Data/GA2/4fc855ea-a95a-408b-9261-315ef26068d2.json\n",
      "../Data/GA2/53f6f1ea-a4da-4f67-83ec-7c8fc9f4be48.json\n",
      "../Data/GA2/569bb6a5-65be-40b8-888c-64e0cd463cf8.json\n",
      "../Data/GA2/59e26182-35c1-437f-b79c-b0e1c2366427.json\n",
      "../Data/GA2/609c34a4-0cf0-4f37-a7e2-76e9d9b8847e.json\n",
      "../Data/GA2/638b3ba3-10c3-474b-961a-79ad4e18d8dd.json\n",
      "../Data/GA2/63f3b86b-0b2d-449f-b2ff-941c194b9501.json\n",
      "../Data/GA2/6832cbaa-2319-4aff-84f9-bbd0403a7788.json\n",
      "../Data/GA2/6d07024c-c1d9-45fb-bf34-06df99957a97.json\n",
      "../Data/GA2/6eae31bf-d994-4fe3-a63a-14b3ffd888e6.json\n",
      "../Data/GA2/6ed39abb-8cb7-4506-bd46-39f80afb14d3.json\n",
      "../Data/GA2/6f1c3436-07c9-4ac1-b5ff-bdc70d605a2a.json\n",
      "../Data/GA2/6f278f8f-62d1-429a-9ac5-262ba553dc65.json\n",
      "../Data/GA2/73f8488b-532e-4e97-8ddb-c905b00a4ebf.json\n",
      "../Data/GA2/766c0447-b5c7-4f17-a329-a1917e351a52.json\n",
      "../Data/GA2/7a5b2eae-ae0f-4677-a57f-a84f40567c50.json\n",
      "../Data/GA2/84446e71-08b5-4b9f-9d43-1c473c136f59.json\n",
      "../Data/GA2/8561ce5b-3ac6-4bea-9f1e-7bfc142180cf.json\n",
      "../Data/GA2/87377654-5da0-477a-bde2-5c28ab1bffe8.json\n",
      "../Data/GA2/8886f538-f703-4db7-83ae-f3d92aefa916.json\n",
      "../Data/GA2/89e2e24e-b88b-4467-aca8-9880cebe9fe1.json\n",
      "../Data/GA2/8ae6e039-a6a0-4b2f-b931-a71e3fbb1047.json\n",
      "../Data/GA2/8eacd764-d193-4d3d-8e90-b685cf22bf59.json\n",
      "../Data/GA2/9086d69b-1b0a-4033-913d-fb56862917b4.json\n",
      "../Data/GA2/9393dd06-797c-4b89-b9c8-c4e8fb9cdbf2.json\n",
      "../Data/GA2/96e509c7-d308-4a28-a7c7-02a96259e411.json\n",
      "../Data/GA2/9785204d-e8b8-4ece-b968-7ff5e00f3075.json\n",
      "../Data/GA2/9a10d5e3-8b50-420a-bd35-f2a11b509bcd.json\n",
      "../Data/GA2/9a697323-db0d-41d9-b186-8f6cdd77bac0.json\n",
      "../Data/GA2/9cf22791-a2be-4c0e-8152-a9b35c02b8f2.json\n",
      "../Data/GA2/9d8cb86e-5d42-49af-bb99-1771eead1f5f.json\n",
      "../Data/GA2/a1026152-b6fb-4649-a5f5-0b4a5b7d8008.json\n",
      "../Data/GA2/a234b721-69a0-4121-9c12-625b0147664c.json\n",
      "../Data/GA2/a3242780-570e-42e9-b82b-c85847003a94.json\n",
      "../Data/GA2/a4ec05c2-9dc4-4000-907e-ef010fb1ab20.json\n",
      "../Data/GA2/a531e0b0-3c00-4923-b68a-1d3919f0a470.json\n",
      "../Data/GA2/a5ba6888-45cc-4ea8-a786-bda1a83542fc.json\n",
      "../Data/GA2/a63ce6ef-75f8-4893-8d37-862c5f733184.json\n",
      "../Data/GA2/a85ed29e-0e40-4db8-9ebc-80f1e6c0c785.json\n",
      "../Data/GA2/a8d98cfd-a36d-48e7-a274-97567ba09e84.json\n",
      "../Data/GA2/ad0341ae-788e-4230-b566-2c9eb2c12ffb.json\n",
      "../Data/GA2/ad0b1faf-46d5-4a00-aeab-bd5c0abf5b80.json\n",
      "../Data/GA2/ae97aef0-653a-43f8-a207-36a2ef295532.json\n",
      "../Data/GA2/b000c548-d4d1-4e7d-b92b-c5ce390f4255.json\n",
      "../Data/GA2/b6643b7a-cc0d-4cc2-a013-0e90e43960dc.json\n",
      "../Data/GA2/b7e96a06-57ab-4c8f-acce-e341896c2456.json\n",
      "../Data/GA2/b9875478-f4d6-4c3d-94f1-fb324d219041.json\n",
      "../Data/GA2/bd149cc7-fba6-41ab-b467-ac80c7913bbb.json\n",
      "../Data/GA2/bd2ed679-01b1-4fc7-99ec-28d4ddd9d390.json\n",
      "../Data/GA2/be99be3c-7245-4714-ac86-f3c0bfc9eaf4.json\n",
      "../Data/GA2/beca3042-f4b1-4a8f-b6ef-cde57f605ccd.json\n",
      "../Data/GA2/c543859d-f956-4ed0-b25d-5bdedf5c2c1a.json\n",
      "../Data/GA2/c63067c6-f801-421a-8c1b-9fa8ee2150ef.json\n",
      "../Data/GA2/cb9c3ed7-4208-414f-8fe0-d1a6c41f2782.json\n",
      "../Data/GA2/cd0d72c4-130c-4b9f-a198-39c15965663e.json\n",
      "../Data/GA2/ce49a8ab-53b7-4da9-8cb5-8c110557a38e.json\n",
      "../Data/GA2/ce6770e6-e3e9-4ad1-8db6-2d6116a2a70f.json\n",
      "../Data/GA2/d284eb73-79c0-420a-8565-bd660c9245eb.json\n",
      "../Data/GA2/d74f4b60-a77c-4441-ad9e-62cdb7a12711.json\n",
      "../Data/GA2/e1bf45f8-40a9-4d82-a8ec-3cc2550baabd.json\n",
      "../Data/GA2/e26c63cf-c692-4dac-a199-02d1aab6b0b7.json\n",
      "../Data/GA2/e6c520d2-1538-4f12-aa4e-a2842c1df528.json\n",
      "../Data/GA2/ead89de4-6416-4dc4-9c3e-79c2c6d1b5f5.json\n",
      "../Data/GA2/ebe4d6af-0576-4a73-a264-091ce19b26c5.json\n",
      "../Data/GA2/ee546fb3-6553-4d68-84cd-6dcbe73b12bb.json\n",
      "../Data/GA2/f2e50296-934b-492f-8c9a-ab301097efab.json\n",
      "../Data/GA2/f3177daa-7405-4f09-927c-cce5fa95d624.json\n",
      "../Data/GA2/f78b3680-5a96-4bfc-b90f-f291621da6fd.json\n"
     ]
    }
   ],
   "source": [
    "ga2 = load_ga_results('../Data/GA2/')"
   ]
  },
  {
   "cell_type": "code",
   "execution_count": 5,
   "id": "67309469",
   "metadata": {},
   "outputs": [],
   "source": [
    "lr_ga1 = pd.read_csv('../Data/PPI-Networks/Celegans-GA-Selected-LR-pairs.csv')"
   ]
  },
  {
   "cell_type": "code",
   "execution_count": 6,
   "id": "4d8ad7db",
   "metadata": {},
   "outputs": [],
   "source": [
    "lr_ga2 = pd.read_csv('../Data/PPI-Networks/Celegans-GA2-Selected-LR-pairs.csv')"
   ]
  },
  {
   "cell_type": "code",
   "execution_count": 7,
   "id": "92cace6a",
   "metadata": {},
   "outputs": [],
   "source": [
    "lr_init = pd.read_excel('../Data/PPI-Networks/Celegans-Curated-LR-pairs.xlsx')"
   ]
  },
  {
   "cell_type": "markdown",
   "id": "02b8859a",
   "metadata": {},
   "source": [
    "# Analysis"
   ]
  },
  {
   "cell_type": "markdown",
   "id": "e35269c2",
   "metadata": {},
   "source": [
    "**Structure data for visualization**"
   ]
  },
  {
   "cell_type": "code",
   "execution_count": 8,
   "id": "6a0dfe7f",
   "metadata": {},
   "outputs": [],
   "source": [
    "df_ga1 = organize_ga_results(ga1, initial_corr=0.2068)\n",
    "df_ga2 = organize_ga_results(ga2, initial_corr=0.2501)"
   ]
  },
  {
   "cell_type": "code",
   "execution_count": 9,
   "id": "49be1ef8",
   "metadata": {},
   "outputs": [
    {
     "data": {
      "image/png": "[encoded data removed]",
      "text/plain": [
       "<Figure size 432x288 with 1 Axes>"
      ]
     },
     "metadata": {},
     "output_type": "display_data"
    }
   ],
   "source": [
    "plot_run_results([df_ga1, df_ga2], ['Bray-Curtis', 'LR count'])\n",
    "plt.savefig(files['output_folder'] + 'Comparison-CCI-scores-GA-runs.pdf',\n",
    "            dpi=300,\n",
    "            bbox_inches='tight')"
   ]
  },
  {
   "cell_type": "markdown",
   "id": "26e3da26",
   "metadata": {},
   "source": [
    "**Compare distributions of optimal correlations from all GA runs**"
   ]
  },
  {
   "cell_type": "code",
   "execution_count": 10,
   "id": "726ade86",
   "metadata": {},
   "outputs": [
    {
     "data": {
      "text/plain": [
       "MannwhitneyuResult(statistic=8339.0, pvalue=3.427277273614565e-16)"
      ]
     },
     "execution_count": 10,
     "metadata": {},
     "output_type": "execute_result"
    }
   ],
   "source": [
    "scipy.stats.mannwhitneyu(ga1[2], ga2[2])"
   ]
  },
  {
   "cell_type": "code",
   "execution_count": 11,
   "id": "fa8f828a",
   "metadata": {},
   "outputs": [
    {
     "data": {
      "image/png": "[encoded data removed]",
      "text/plain": [
       "<Figure size 432x288 with 1 Axes>"
      ]
     },
     "metadata": {
      "needs_background": "light"
     },
     "output_type": "display_data"
    }
   ],
   "source": [
    "bins = np.histogram(np.hstack((ga1[2], ga2[2])), bins=25)[1]\n",
    "\n",
    "_ = plt.hist(ga1[2], bins=bins, alpha=0.5, label='Bray-Curtis')\n",
    "_ = plt.hist(ga2[2], bins=bins, alpha=0.5, label='LR Count')\n",
    "\n",
    "plt.axvline(x=np.nanmedian(ga1[2]), c='C0', ls='--')\n",
    "plt.axvline(x=np.nanmedian(ga2[2]), c='C1',ls='--')\n",
    "\n",
    "plt.legend()\n",
    "plt.xlabel('Abs(Spearman score)', fontsize=18)\n",
    "plt.ylabel('Frequency', fontsize=18)\n",
    "\n",
    "plt.savefig(files['output_folder'] + 'Comparison-CCI-scores-Opt-Dist.pdf',\n",
    "            dpi=300,\n",
    "            bbox_inches='tight')"
   ]
  },
  {
   "cell_type": "code",
   "execution_count": 12,
   "id": "c8729a61",
   "metadata": {},
   "outputs": [
    {
     "data": {
      "text/plain": [
       "(0.6639484646662313, 0.6451763535609416)"
      ]
     },
     "execution_count": 12,
     "metadata": {},
     "output_type": "execute_result"
    }
   ],
   "source": [
    "np.nanmedian(ga1[2]), np.nanmedian(ga2[2]) "
   ]
  },
  {
   "cell_type": "markdown",
   "id": "3212c1ad",
   "metadata": {},
   "source": [
    "**Compare CORE LR pairs**"
   ]
  },
  {
   "cell_type": "code",
   "execution_count": 13,
   "id": "edd46009",
   "metadata": {},
   "outputs": [],
   "source": [
    "ligands1 = lr_ga1['Ligand_symbol'].unique().tolist()\n",
    "ligands2 = lr_ga2['Ligand_symbol'].unique().tolist()"
   ]
  },
  {
   "cell_type": "code",
   "execution_count": 14,
   "id": "141fb34a",
   "metadata": {},
   "outputs": [],
   "source": [
    "receptors1 = lr_ga1['Receptor_symbol'].unique().tolist()\n",
    "receptors2 = lr_ga2['Receptor_symbol'].unique().tolist()"
   ]
  },
  {
   "cell_type": "code",
   "execution_count": 15,
   "id": "cc6c9dd8",
   "metadata": {},
   "outputs": [],
   "source": [
    "lr1 = lr_ga1.apply(lambda row: row['Ligand_symbol'] + ' / ' + row['Receptor_symbol'], axis=1).values.tolist()\n",
    "lr2 = lr_ga2.apply(lambda row: row['Ligand_symbol'] + ' / ' + row['Receptor_symbol'], axis=1).values.tolist()"
   ]
  },
  {
   "cell_type": "code",
   "execution_count": 16,
   "id": "f1ab9651",
   "metadata": {},
   "outputs": [
    {
     "data": {
      "image/png": "[encoded data removed]",
      "text/plain": [
       "<Figure size 864x288 with 3 Axes>"
      ]
     },
     "metadata": {},
     "output_type": "display_data"
    }
   ],
   "source": [
    "fig, axn = plt.subplots(1, 3, figsize=(12, 4))\n",
    "\n",
    "pairs = [(ligands1, ligands2), (receptors1, receptors2), (lr1, lr2)]\n",
    "titles = ['Ligands', 'Receptors', 'Ligand-Receptor Pairs']\n",
    "\n",
    "for ax, pair, t in zip(axn.flatten(), pairs, titles):\n",
    "    p1, p2 = pair[0], pair[1]\n",
    "    vd = venn2_unweighted([set(p1), set(p2)], ('Bray-Curtis', 'LR Count'), alpha=0.4, ax=ax)\n",
    "    vd.get_patch_by_id('10').set_color('#e41a1c')\n",
    "    vd.get_patch_by_id('11').set_color('#990099')\n",
    "    vd.get_patch_by_id('01').set_color('blue')\n",
    "    ax.set_title(t, size=22)\n",
    "plt.savefig(files['output_folder'] + 'Comparison-CCI-scores-Core-LRs.pdf',\n",
    "            dpi=300,\n",
    "            bbox_inches='tight')"
   ]
  },
  {
   "cell_type": "code",
   "execution_count": 17,
   "id": "8a3ad152",
   "metadata": {},
   "outputs": [
    {
     "name": "stdout",
     "output_type": "stream",
     "text": [
      "['arg-1', 'cle-1', 'dbl-1', 'epi-1', 'hsp-1', 'ins-25', 'lag-2', 'srp-7', 'sup-17', 'unc-10', 'unc-129', 'unc-6']\n",
      "['K05F1.5', 'col-99', 'cwn-1', 'daf-7', 'grd-11', 'let-2', 'let-756', 'lin-44', 'mab-20', 'mec-5', 'mnr-1', 'mom-2', 'nid-1', 'qua-1', 'rig-6', 'smp-1', 'smp-2', 'wrt-5']\n",
      "['dsl-5', 'egl-20', 'svh-1']\n"
     ]
    }
   ],
   "source": [
    "pair = (ligands1, ligands2)\n",
    "print(*[sorted(set(pair[0]) - set(pair[1])), sorted(set(pair[0]) & set(pair[1])), sorted(set(pair[1]) - set(pair[0]))],\n",
    "      sep='\\n')"
   ]
  },
  {
   "cell_type": "code",
   "execution_count": 18,
   "id": "bc5fa7ac",
   "metadata": {},
   "outputs": [
    {
     "name": "stdout",
     "output_type": "stream",
     "text": [
      "['C27B7.7', 'F14B4.1', 'cam-1', 'daf-2', 'gpn-1', 'lin-12', 'lon-2', 'sma-10', 'unc-29', 'unc-5']\n",
      "['cfz-2', 'ddr-1', 'dma-1', 'glp-1', 'ina-1', 'lin-17', 'lin-18', 'mec-10', 'mec-4', 'mig-1', 'pat-3', 'plx-1', 'plx-2', 'ptc-1', 'ptc-3', 'ptp-3', 'sma-6', 'ver-1', 'wrk-1']\n",
      "['mom-5', 'svh-2']\n"
     ]
    }
   ],
   "source": [
    "pair = (receptors1, receptors2)\n",
    "print(*[sorted(set(pair[0]) - set(pair[1])), sorted(set(pair[0]) & set(pair[1])), sorted(set(pair[1]) - set(pair[0]))],\n",
    "      sep='\\n')"
   ]
  },
  {
   "cell_type": "code",
   "execution_count": 19,
   "id": "3a7c9cb9",
   "metadata": {},
   "outputs": [
    {
     "name": "stdout",
     "output_type": "stream",
     "text": [
      "['arg-1 / lin-12', 'cle-1 / gpn-1', 'cwn-1 / lin-17', 'dbl-1 / lon-2', 'dbl-1 / sma-10', 'epi-1 / pat-3', 'hsp-1 / F14B4.1', 'ins-25 / daf-2', 'lag-2 / glp-1', 'lin-44 / cam-1', 'smp-1 / plx-1', 'srp-7 / F14B4.1', 'sup-17 / glp-1', 'unc-10 / unc-29', 'unc-129 / unc-5', 'unc-6 / C27B7.7']\n",
      "['K05F1.5 / dma-1', 'col-99 / ddr-1', 'cwn-1 / mig-1', 'daf-7 / sma-6', 'grd-11 / ptc-1', 'let-2 / ina-1', 'let-2 / pat-3', 'let-756 / ver-1', 'lin-44 / cfz-2', 'lin-44 / lin-17', 'mab-20 / plx-2', 'mec-5 / mec-10', 'mec-5 / mec-4', 'mnr-1 / dma-1', 'mom-2 / lin-18', 'nid-1 / ptp-3', 'qua-1 / ptc-3', 'rig-6 / wrk-1', 'smp-2 / plx-1', 'smp-2 / plx-2', 'wrt-5 / ptc-1']\n",
      "['dsl-5 / glp-1', 'egl-20 / mig-1', 'lin-44 / mig-1', 'mom-2 / mig-1', 'mom-2 / mom-5', 'smp-1 / plx-2', 'svh-1 / svh-2']\n"
     ]
    }
   ],
   "source": [
    "pair = (lr1, lr2)\n",
    "print(*[sorted(set(pair[0]) - set(pair[1])), sorted(set(pair[0]) & set(pair[1])), sorted(set(pair[1]) - set(pair[0]))],\n",
    "      sep='\\n')"
   ]
  },
  {
   "cell_type": "markdown",
   "id": "5ee4221c",
   "metadata": {},
   "source": [
    "**Stats for initial list of LR pairs**"
   ]
  },
  {
   "cell_type": "code",
   "execution_count": 20,
   "id": "c53c24a1",
   "metadata": {},
   "outputs": [
    {
     "data": {
      "text/plain": [
       "(127,)"
      ]
     },
     "execution_count": 20,
     "metadata": {},
     "output_type": "execute_result"
    }
   ],
   "source": [
    "lr_init['Ligand_symbol'].unique().shape"
   ]
  },
  {
   "cell_type": "code",
   "execution_count": 21,
   "id": "0e51e267",
   "metadata": {},
   "outputs": [
    {
     "data": {
      "text/plain": [
       "(66,)"
      ]
     },
     "execution_count": 21,
     "metadata": {},
     "output_type": "execute_result"
    }
   ],
   "source": [
    "lr_init['Receptor_symbol'].unique().shape"
   ]
  },
  {
   "cell_type": "code",
   "execution_count": 22,
   "id": "f16f1d85",
   "metadata": {},
   "outputs": [
    {
     "data": {
      "text/plain": [
       "(245, 9)"
      ]
     },
     "execution_count": 22,
     "metadata": {},
     "output_type": "execute_result"
    }
   ],
   "source": [
    "lr_init.shape"
   ]
  },
  {
   "cell_type": "code",
   "execution_count": null,
   "id": "83704c4a",
   "metadata": {},
   "outputs": [],
   "source": []
  }
 ],
 "metadata": {
  "kernelspec": {
   "display_name": "Python 3 (ipykernel)",
   "language": "python",
   "name": "python3"
  },
  "language_info": {
   "codemirror_mode": {
    "name": "ipython",
    "version": 3
   },
   "file_extension": ".py",
   "mimetype": "text/x-python",
   "name": "python",
   "nbconvert_exporter": "python",
   "pygments_lexer": "ipython3",
   "version": "3.7.8"
  }
 },
 "nbformat": 4,
 "nbformat_minor": 5
}
