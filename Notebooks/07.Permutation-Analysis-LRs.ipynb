{
 "cells": [
  {
   "cell_type": "code",
   "execution_count": 1,
   "metadata": {},
   "outputs": [
    {
     "name": "stderr",
     "output_type": "stream",
     "text": [
      "/Users/earmingol/opt/anaconda3/envs/c2c_dev/lib/python3.7/site-packages/skbio/util/_testing.py:15: FutureWarning: pandas.util.testing is deprecated. Use the functions in the public API at pandas.testing instead.\n",
      "  import pandas.util.testing as pdt\n"
     ]
    }
   ],
   "source": [
    "import cell2cell as c2c\n",
    "import matplotlib.pyplot as plt\n",
    "import numpy as np\n",
    "import pandas as pd\n",
    "import seaborn as sns\n",
    "import matplotlib as mlp\n",
    "\n",
    "from cci_distance_correlation import get_correlation\n",
    "\n",
    "from tqdm import tqdm\n",
    "from sklearn.utils import shuffle\n",
    "\n",
    "import json\n",
    "\n",
    "%matplotlib inline"
   ]
  },
  {
   "cell_type": "markdown",
   "metadata": {},
   "source": [
    "# Analysis Setup\n",
    "\n",
    "Here, all inputs and parameters needed for the analysis are defined"
   ]
  },
  {
   "cell_type": "markdown",
   "metadata": {},
   "source": [
    "**Location of files**"
   ]
  },
  {
   "cell_type": "code",
   "execution_count": 2,
   "metadata": {},
   "outputs": [],
   "source": [
    "data_folder = '../Data/'"
   ]
  },
  {
   "cell_type": "code",
   "execution_count": 3,
   "metadata": {},
   "outputs": [],
   "source": [
    "files = dict()\n",
    "files['rnaseq'] = data_folder + '/RNA-Seq/Celegans_RNASeqData_Cell.xlsx'\n",
    "files['metadata'] = data_folder + '/RNA-Seq/Celegans_cell_metadata.tsv'\n",
    "files['ppi'] = data_folder + '/PPI-Networks/Celegans-Curated-LR-pairs.xlsx'\n",
    "files['output_folder'] = '../Figures/'"
   ]
  },
  {
   "cell_type": "markdown",
   "metadata": {},
   "source": [
    "**RNA-seq data manipulation**\n",
    "\n",
    "- <font color=\"green\">'gene_col'</font> is the name of the column containing the list or names of genes in the dataset.\n",
    "- <font color=\"green\">'drop_nangenes'</font> is a boolean decision to remove genes with NaN values.\n",
    "- <font color=\"green\">'log_transform'</font> is a boolean decision to log-transform the dataset."
   ]
  },
  {
   "cell_type": "code",
   "execution_count": 4,
   "metadata": {},
   "outputs": [],
   "source": [
    "rnaseq_setup = dict()\n",
    "rnaseq_setup['gene_col'] = 'gene_id'\n",
    "rnaseq_setup['drop_nangenes'] = True\n",
    "rnaseq_setup['log_transform'] = False"
   ]
  },
  {
   "cell_type": "markdown",
   "metadata": {},
   "source": [
    "**Metadata columns**\n",
    "\n",
    "- <font color=\"green\">'sample_col'</font> is the name of the column containing the sample or cell names in RNA-seq data (equivalent to the columns in rnaseq_data).\n",
    "- <font color=\"green\">'group_col'</font> is the name of the column containing the labels for the respective samples or cells in order to group/color them in downstream analyses."
   ]
  },
  {
   "cell_type": "code",
   "execution_count": 5,
   "metadata": {},
   "outputs": [],
   "source": [
    "meta_setup = dict()\n",
    "meta_setup['sample_col'] = '#SampleID'\n",
    "meta_setup['group_col'] = 'Groups'"
   ]
  },
  {
   "cell_type": "markdown",
   "metadata": {},
   "source": [
    "**Columns for PPI network**\n",
    "\n",
    "- <font color=\"green\">'protein_cols'</font> is a list containing the names of the first and second interactors."
   ]
  },
  {
   "cell_type": "code",
   "execution_count": 6,
   "metadata": {},
   "outputs": [],
   "source": [
    "ppi_setup = dict()\n",
    "ppi_setup['protein_cols'] = ['Ligand_WB', 'Receptor_WB']"
   ]
  },
  {
   "cell_type": "markdown",
   "metadata": {},
   "source": [
    "**Cutoffs setup for binarizing gene expression**\n",
    "\n",
    "- <font color=\"green\">'type'</font> is the type of cutoff to use. \n",
    "    - 'constant_value'\n",
    "    - 'local_percentile'\n",
    "    - 'global_percentile'\n",
    "    - None\n",
    "- <font color=\"green\">'parameter'</font> is the corresponding parameter for the type of cutoff. If percentile is used, it should be a value between 0 and 1. E.g. a value of 0.75 represents the 75-th percentile, and the cutoff to binarize the gene expression will be that value."
   ]
  },
  {
   "cell_type": "code",
   "execution_count": 7,
   "metadata": {},
   "outputs": [],
   "source": [
    "cutoff_setup = dict()\n",
    "cutoff_setup['type'] = 'constant_value'\n",
    "cutoff_setup['parameter'] = 10 # TPM"
   ]
  },
  {
   "cell_type": "markdown",
   "metadata": {},
   "source": [
    "**General Analysis setups**\n",
    "\n",
    "- <font color=\"green\">'communication_score'</font> is the type of communication score used to detect active pathways between each pair of cell. It can be:\n",
    "    - 'expression_thresholding'\n",
    "    - 'expression_product'\n",
    "    - 'expression_correlation'\n",
    "    - 'differential_combinations'\n",
    "- <font color=\"green\">'cci_score'</font> is the scoring function to aggregate the communication scores. It can be:\n",
    "    - 'bray_curtis'\n",
    "    - 'jaccard'\n",
    "    - 'count'\n",
    "- <font color=\"green\">'cci_type'</font> is the type of interaction between two cells. If it is undirected, ligand and receptor are considered from both cells. If it is directed, ligands from one cell and receptors from the other are considered separately with respect to ligands from the second cell and receptor from the first one. So, it can be:\n",
    "    - 'undirected'\n",
    "    - 'directed"
   ]
  },
  {
   "cell_type": "code",
   "execution_count": 8,
   "metadata": {},
   "outputs": [],
   "source": [
    "analysis_setup = dict()\n",
    "analysis_setup['communication_score'] = 'expression_thresholding'\n",
    "analysis_setup['cci_score'] = 'bray_curtis'\n",
    "analysis_setup['cci_type'] = 'undirected'"
   ]
  },
  {
   "cell_type": "markdown",
   "metadata": {},
   "source": [
    "# Load Data"
   ]
  },
  {
   "cell_type": "markdown",
   "metadata": {},
   "source": [
    "**RNA-seq**"
   ]
  },
  {
   "cell_type": "code",
   "execution_count": 9,
   "metadata": {},
   "outputs": [
    {
     "name": "stdout",
     "output_type": "stream",
     "text": [
      "Opening RNAseq datasets from ../Data//RNA-Seq/Celegans_RNASeqData_Cell.xlsx\n",
      "../Data//RNA-Seq/Celegans_RNASeqData_Cell.xlsx was correctly loaded\n"
     ]
    }
   ],
   "source": [
    "rnaseq_data = c2c.io.load_rnaseq(rnaseq_file=files['rnaseq'],\n",
    "                                 gene_column=rnaseq_setup['gene_col'],\n",
    "                                 drop_nangenes=rnaseq_setup['drop_nangenes'],\n",
    "                                 log_transformation=rnaseq_setup['log_transform'],\n",
    "                                 format='auto')"
   ]
  },
  {
   "cell_type": "markdown",
   "metadata": {},
   "source": [
    "**Metadata for cell types**"
   ]
  },
  {
   "cell_type": "code",
   "execution_count": 10,
   "metadata": {},
   "outputs": [
    {
     "name": "stdout",
     "output_type": "stream",
     "text": [
      "../Data//RNA-Seq/Celegans_cell_metadata.tsv was correctly loaded\n"
     ]
    }
   ],
   "source": [
    "meta = c2c.io.load_metadata(metadata_file=files['metadata'],\n",
    "                            rnaseq_data=rnaseq_data,\n",
    "                            sample_col=meta_setup['sample_col'],\n",
    "                            format='auto')"
   ]
  },
  {
   "cell_type": "markdown",
   "metadata": {},
   "source": [
    "**PPI network**"
   ]
  },
  {
   "cell_type": "code",
   "execution_count": 11,
   "metadata": {},
   "outputs": [
    {
     "name": "stdout",
     "output_type": "stream",
     "text": [
      "Opening PPI datasets from ../Data//PPI-Networks/Celegans-Curated-LR-pairs.xlsx\n",
      "../Data//PPI-Networks/Celegans-Curated-LR-pairs.xlsx was correctly loaded\n",
      "Removing bidirectionality of PPI network\n",
      "Simplying PPI network\n"
     ]
    }
   ],
   "source": [
    "original_ppi_data = c2c.io.load_ppi(ppi_file=files['ppi'],\n",
    "                                    interaction_columns=ppi_setup['protein_cols'],\n",
    "                                    rnaseq_genes=list(rnaseq_data.index),\n",
    "                                    format='auto')"
   ]
  },
  {
   "cell_type": "code",
   "execution_count": 12,
   "metadata": {},
   "outputs": [
    {
     "name": "stdout",
     "output_type": "stream",
     "text": [
      "PPI data has 245 PPIs\n",
      "Number of Ligands: 127\n",
      "Number of Receptors: 66\n"
     ]
    }
   ],
   "source": [
    "print('PPI data has {} PPIs'.format(len(original_ppi_data)))\n",
    "print('Number of Ligands: {}'.format(original_ppi_data.A.unique().shape[0]))\n",
    "print('Number of Receptors: {}'.format(original_ppi_data.B.unique().shape[0]))"
   ]
  },
  {
   "cell_type": "code",
   "execution_count": 13,
   "metadata": {},
   "outputs": [
    {
     "name": "stdout",
     "output_type": "stream",
     "text": [
      "Opening PPI datasets from ../Data//PPI-Networks/Celegans-GA-Selected-LR-pairs.csv\n",
      "../Data//PPI-Networks/Celegans-GA-Selected-LR-pairs.csv was correctly loaded\n",
      "Removing bidirectionality of PPI network\n",
      "Simplying PPI network\n"
     ]
    }
   ],
   "source": [
    "ppi_data = c2c.io.load_ppi(data_folder + '/PPI-Networks/Celegans-GA-Selected-LR-pairs.csv',\n",
    "                           interaction_columns=ppi_setup['protein_cols'],\n",
    "                           rnaseq_genes=list(rnaseq_data.index),\n",
    "                           format='auto')\n",
    "ppi_data = ppi_data.drop_duplicates()\n",
    "ppi_data.reset_index(inplace=True, drop=True)"
   ]
  },
  {
   "cell_type": "code",
   "execution_count": 14,
   "metadata": {},
   "outputs": [
    {
     "name": "stdout",
     "output_type": "stream",
     "text": [
      "PPI data has 37 PPIs\n",
      "Number of Ligands: 30\n",
      "Number of Receptors: 29\n"
     ]
    }
   ],
   "source": [
    "print('PPI data has {} PPIs'.format(len(ppi_data)))\n",
    "print('Number of Ligands: {}'.format(ppi_data.A.unique().shape[0]))\n",
    "print('Number of Receptors: {}'.format(ppi_data.B.unique().shape[0]))"
   ]
  },
  {
   "cell_type": "markdown",
   "metadata": {},
   "source": [
    "**Phenotype**"
   ]
  },
  {
   "cell_type": "code",
   "execution_count": 15,
   "metadata": {},
   "outputs": [
    {
     "name": "stdout",
     "output_type": "stream",
     "text": [
      "../Data//Digital-3D-Map/Celegans_Physical_Distances_Min.csv was correctly loaded\n"
     ]
    }
   ],
   "source": [
    "physical_distance = c2c.io.load_table(data_folder + '/Digital-3D-Map/Celegans_Physical_Distances_Min.csv',\n",
    "                                          **{'index_col' : 0})"
   ]
  },
  {
   "cell_type": "markdown",
   "metadata": {},
   "source": [
    "# Run Analysis"
   ]
  },
  {
   "cell_type": "markdown",
   "metadata": {},
   "source": [
    "**Cells to include**"
   ]
  },
  {
   "cell_type": "code",
   "execution_count": 16,
   "metadata": {},
   "outputs": [],
   "source": [
    "manually_excluded = [\n",
    "                     #'Germline'\n",
    "                    ]\n",
    "included_cells = sorted(list((set(rnaseq_data.columns) & set(physical_distance.columns) - set(manually_excluded))))"
   ]
  },
  {
   "cell_type": "markdown",
   "metadata": {},
   "source": [
    "## Permutation of Ligands or Receptors (independently)"
   ]
  },
  {
   "cell_type": "code",
   "execution_count": 17,
   "metadata": {},
   "outputs": [],
   "source": [
    "corr_dist = {'permutation' : dict(),\n",
    "             'label_switching' : dict() \n",
    "            } # A: Ligand; B: Receptor"
   ]
  },
  {
   "cell_type": "code",
   "execution_count": 18,
   "metadata": {},
   "outputs": [],
   "source": [
    "permu_number = 10000"
   ]
  },
  {
   "cell_type": "markdown",
   "metadata": {},
   "source": [
    "**Permutate Ligands**"
   ]
  },
  {
   "cell_type": "code",
   "execution_count": 19,
   "metadata": {},
   "outputs": [
    {
     "name": "stderr",
     "output_type": "stream",
     "text": [
      "100%|██████████| 10000/10000 [52:31<00:00,  3.17it/s]\n"
     ]
    }
   ],
   "source": [
    "shuffle_col = 'A'\n",
    "corr_dist['permutation'][shuffle_col] = []\n",
    "\n",
    "for i in tqdm(range(permu_number)):\n",
    "    shuffled_ppi_data = c2c.preprocessing.shuffle_cols_in_df(ppi_data, shuffle_col)\n",
    "    bi_ppi_data = c2c.preprocessing.bidirectional_ppi_for_cci(ppi_data=shuffled_ppi_data, verbose=False)\n",
    "    interaction_space = c2c.core.InteractionSpace(rnaseq_data=rnaseq_data[included_cells],\n",
    "                                                  ppi_data=bi_ppi_data,\n",
    "                                                  gene_cutoffs=cutoff_setup,\n",
    "                                                  communication_score=analysis_setup['communication_score'],\n",
    "                                                  cci_score=analysis_setup['cci_score'],\n",
    "                                                  cci_type=analysis_setup['cci_type'],\n",
    "                                                  verbose=False)\n",
    "    \n",
    "    interaction_space.compute_pairwise_cci_scores(verbose=False)\n",
    "    \n",
    "    corr_dist['permutation'][shuffle_col].append(get_correlation(physical_distance.loc[included_cells, included_cells],\n",
    "                                                                 interaction_space.interaction_elements['cci_matrix'].loc[included_cells, included_cells],\n",
    "                                                                 corr_type = 'spearman'\n",
    "                                                                 )\n",
    "                                                 )"
   ]
  },
  {
   "cell_type": "markdown",
   "metadata": {},
   "source": [
    "**Permutate Receptors**"
   ]
  },
  {
   "cell_type": "code",
   "execution_count": 20,
   "metadata": {
    "scrolled": true
   },
   "outputs": [
    {
     "name": "stderr",
     "output_type": "stream",
     "text": [
      "100%|██████████| 10000/10000 [51:50<00:00,  3.21it/s]\n"
     ]
    }
   ],
   "source": [
    "shuffle_col = 'B'\n",
    "corr_dist['permutation'][shuffle_col] = []\n",
    "\n",
    "for i in tqdm(range(permu_number)):\n",
    "    shuffled_ppi_data = c2c.preprocessing.shuffle_cols_in_df(ppi_data, shuffle_col)\n",
    "    bi_ppi_data = c2c.preprocessing.bidirectional_ppi_for_cci(ppi_data=shuffled_ppi_data, verbose=False)\n",
    "    interaction_space = c2c.core.InteractionSpace(rnaseq_data=rnaseq_data[included_cells],\n",
    "                                                  ppi_data=bi_ppi_data,\n",
    "                                                  gene_cutoffs=cutoff_setup,\n",
    "                                                  communication_score=analysis_setup['communication_score'],\n",
    "                                                  cci_score=analysis_setup['cci_score'],\n",
    "                                                  cci_type=analysis_setup['cci_type'],\n",
    "                                                  verbose=False)\n",
    "    \n",
    "    interaction_space.compute_pairwise_cci_scores(verbose=False)\n",
    "    \n",
    "    corr_dist['permutation'][shuffle_col].append(get_correlation(physical_distance.loc[included_cells, included_cells],\n",
    "                                                                 interaction_space.interaction_elements['cci_matrix'].loc[included_cells, included_cells],\n",
    "                                                                 corr_type = 'spearman'\n",
    "                                                                 )\n",
    "                                                 )"
   ]
  },
  {
   "cell_type": "markdown",
   "metadata": {},
   "source": [
    "## Switch labels of proteins (ligands or receptors, independently)"
   ]
  },
  {
   "cell_type": "markdown",
   "metadata": {},
   "source": [
    "**Switch Ligand Labels**"
   ]
  },
  {
   "cell_type": "code",
   "execution_count": 21,
   "metadata": {},
   "outputs": [
    {
     "name": "stderr",
     "output_type": "stream",
     "text": [
      "100%|██████████| 10000/10000 [51:59<00:00,  3.21it/s]\n"
     ]
    }
   ],
   "source": [
    "shuffle_col = 'A'\n",
    "corr_dist['label_switching'][shuffle_col] = []\n",
    "\n",
    "for i in tqdm(range(permu_number)):\n",
    "    shuffled_ppi_data = c2c.stats.random_switching_ppi_labels(ppi_data, column='first')\n",
    "    bi_ppi_data = c2c.preprocessing.bidirectional_ppi_for_cci(ppi_data=shuffled_ppi_data, verbose=False)\n",
    "    interaction_space = c2c.core.InteractionSpace(rnaseq_data=rnaseq_data[included_cells],\n",
    "                                                  ppi_data=bi_ppi_data,\n",
    "                                                  gene_cutoffs=cutoff_setup,\n",
    "                                                  communication_score=analysis_setup['communication_score'],\n",
    "                                                  cci_score=analysis_setup['cci_score'],\n",
    "                                                  cci_type=analysis_setup['cci_type'],\n",
    "                                                  verbose=False)\n",
    "    \n",
    "    interaction_space.compute_pairwise_cci_scores(verbose=False)\n",
    "    \n",
    "    corr_dist['label_switching'][shuffle_col].append(get_correlation(physical_distance.loc[included_cells, included_cells],\n",
    "                                                                     interaction_space.interaction_elements['cci_matrix'].loc[included_cells, included_cells],\n",
    "                                                                     corr_type = 'spearman'\n",
    "                                                                     )\n",
    "                                                     )"
   ]
  },
  {
   "cell_type": "markdown",
   "metadata": {},
   "source": [
    "**Switch Receptor Labels**"
   ]
  },
  {
   "cell_type": "code",
   "execution_count": 22,
   "metadata": {},
   "outputs": [
    {
     "name": "stderr",
     "output_type": "stream",
     "text": [
      "100%|██████████| 10000/10000 [51:55<00:00,  3.21it/s]\n"
     ]
    }
   ],
   "source": [
    "shuffle_col = 'B'\n",
    "corr_dist['label_switching'][shuffle_col] = []\n",
    "\n",
    "for i in tqdm(range(permu_number)):\n",
    "    shuffled_ppi_data = c2c.stats.random_switching_ppi_labels(ppi_data, column='second')\n",
    "    bi_ppi_data = c2c.preprocessing.bidirectional_ppi_for_cci(ppi_data=shuffled_ppi_data, verbose=False)\n",
    "    interaction_space = c2c.core.InteractionSpace(rnaseq_data=rnaseq_data[included_cells],\n",
    "                                                  ppi_data=bi_ppi_data,\n",
    "                                                  gene_cutoffs=cutoff_setup,\n",
    "                                                  communication_score=analysis_setup['communication_score'],\n",
    "                                                  cci_score=analysis_setup['cci_score'],\n",
    "                                                  cci_type=analysis_setup['cci_type'],\n",
    "                                                  verbose=False)\n",
    "    \n",
    "    interaction_space.compute_pairwise_cci_scores(verbose=False)\n",
    "    \n",
    "    corr_dist['label_switching'][shuffle_col].append(get_correlation(physical_distance.loc[included_cells, included_cells],\n",
    "                                                                     interaction_space.interaction_elements['cci_matrix'].loc[included_cells, included_cells],\n",
    "                                                                     corr_type = 'spearman'\n",
    "                                                                     )\n",
    "                                                     )"
   ]
  },
  {
   "cell_type": "markdown",
   "metadata": {},
   "source": [
    "## Subsample original PPI network"
   ]
  },
  {
   "cell_type": "code",
   "execution_count": 23,
   "metadata": {
    "scrolled": true
   },
   "outputs": [
    {
     "name": "stderr",
     "output_type": "stream",
     "text": [
      "100%|██████████| 10000/10000 [54:32<00:00,  3.06it/s] \n"
     ]
    }
   ],
   "source": [
    "corr_dist['subsampling'] = []\n",
    "\n",
    "for i in tqdm(range(permu_number)):\n",
    "    subsampled_ppi_data = c2c.preprocessing.subsample_dataframe(df=original_ppi_data, n_samples=ppi_data.shape[0]).reset_index(drop=True)\n",
    "    subsampled_ppi_data = subsampled_ppi_data.assign(score=1.0)\n",
    "    bi_ppi_data = c2c.preprocessing.bidirectional_ppi_for_cci(ppi_data=subsampled_ppi_data, verbose=False)\n",
    "    interaction_space = c2c.core.InteractionSpace(rnaseq_data=rnaseq_data[included_cells],\n",
    "                                                  ppi_data=bi_ppi_data,\n",
    "                                                  gene_cutoffs=cutoff_setup,\n",
    "                                                  communication_score=analysis_setup['communication_score'],\n",
    "                                                  cci_score=analysis_setup['cci_score'],\n",
    "                                                  cci_type=analysis_setup['cci_type'],\n",
    "                                                  verbose=False)\n",
    "    \n",
    "    interaction_space.compute_pairwise_cci_scores(verbose=False)\n",
    "    \n",
    "    corr_dist['subsampling'].append(get_correlation(physical_distance.loc[included_cells, included_cells],\n",
    "                                                    interaction_space.interaction_elements['cci_matrix'].loc[included_cells, included_cells],\n",
    "                                                    corr_type = 'spearman'\n",
    "                                                    )\n",
    "                                                 )"
   ]
  },
  {
   "cell_type": "markdown",
   "metadata": {},
   "source": [
    "## Compute p-values"
   ]
  },
  {
   "cell_type": "markdown",
   "metadata": {},
   "source": [
    "**Correlation with GA-Selected LR list**"
   ]
  },
  {
   "cell_type": "code",
   "execution_count": 24,
   "metadata": {},
   "outputs": [],
   "source": [
    "if analysis_setup['cci_type'] == 'undirected':\n",
    "    bi_ppi_data = c2c.preprocessing.bidirectional_ppi_for_cci(ppi_data=ppi_data, verbose=False)\n",
    "    ref_ppi = ppi_data\n",
    "else:\n",
    "    bi_ppi_data = ppi_data.copy()\n",
    "    ref_ppi = None\n",
    "\n",
    "interaction_space = c2c.core.InteractionSpace(rnaseq_data=rnaseq_data[included_cells],\n",
    "                                              ppi_data=bi_ppi_data,\n",
    "                                              gene_cutoffs=cutoff_setup,\n",
    "                                              communication_score=analysis_setup['communication_score'],\n",
    "                                              cci_score=analysis_setup['cci_score'],\n",
    "                                              cci_type=analysis_setup['cci_type'],\n",
    "                                              verbose=False)\n",
    "\n",
    "interaction_space.compute_pairwise_cci_scores(verbose=False)"
   ]
  },
  {
   "cell_type": "code",
   "execution_count": 25,
   "metadata": {},
   "outputs": [
    {
     "data": {
      "text/plain": [
       "SpearmanrResult(correlation=-0.6333657309057459, pvalue=2.6294765000591562e-27)"
      ]
     },
     "execution_count": 25,
     "metadata": {},
     "output_type": "execute_result"
    }
   ],
   "source": [
    "# Correlation\n",
    "corr_value = get_correlation(physical_distance.loc[included_cells, included_cells],\n",
    "                             interaction_space.interaction_elements['cci_matrix'].loc[included_cells, included_cells],\n",
    "                             corr_type = 'spearman'\n",
    "                             )\n",
    "\n",
    "corr_value"
   ]
  },
  {
   "cell_type": "markdown",
   "metadata": {},
   "source": [
    "**Permutation of columns (ligands/receptor)**"
   ]
  },
  {
   "cell_type": "code",
   "execution_count": 26,
   "metadata": {},
   "outputs": [
    {
     "name": "stdout",
     "output_type": "stream",
     "text": [
      "P-value is: 0.0\n",
      "P-value is: 0.0\n"
     ]
    },
    {
     "data": {
      "image/png": "[encoded data removed]",
      "text/plain": [
       "<Figure size 432x288 with 1 Axes>"
      ]
     },
     "metadata": {},
     "output_type": "display_data"
    }
   ],
   "source": [
    "fig_l, pval_l = c2c.stats.pvalue_from_dist(corr_value[0],\n",
    "                                           [corr[0] for corr in corr_dist['permutation']['A']],\n",
    "                                           label='Ligand Permutation',\n",
    "                                           comparison='different'\n",
    "                                          )\n",
    "\n",
    "fig_r, pval_r = c2c.stats.pvalue_from_dist(corr_value[0],\n",
    "                                           [corr[0] for corr in corr_dist['permutation']['B']],\n",
    "                                           label='Receptor Permutation',\n",
    "                                           comparison='different'\n",
    "                                          )\n",
    "    \n",
    "plt.xlabel('Spearman score', fontsize=18)\n",
    "plt.ylabel('Counts', fontsize=18)\n",
    "\n",
    "plt.savefig('../Figures/Pval-Permutation-LR.svg',\n",
    "                dpi=300,\n",
    "                bbox_inches='tight')"
   ]
  },
  {
   "cell_type": "markdown",
   "metadata": {},
   "source": [
    "**Shuffling Protein names**"
   ]
  },
  {
   "cell_type": "code",
   "execution_count": 27,
   "metadata": {},
   "outputs": [
    {
     "name": "stdout",
     "output_type": "stream",
     "text": [
      "P-value is: 0.0\n",
      "P-value is: 0.0\n"
     ]
    },
    {
     "data": {
      "image/png": "[encoded data removed]",
      "text/plain": [
       "<Figure size 432x288 with 1 Axes>"
      ]
     },
     "metadata": {},
     "output_type": "display_data"
    }
   ],
   "source": [
    "fig_l, pval_l = c2c.stats.pvalue_from_dist(corr_value[0],\n",
    "                                           [corr[0] for corr in corr_dist['label_switching']['A']],\n",
    "                                           label='Ligand Label Shuffling',\n",
    "                                           comparison='different'\n",
    "                                          )\n",
    "\n",
    "fig_r, pval_r = c2c.stats.pvalue_from_dist(corr_value[0],\n",
    "                                           [corr[0] for corr in corr_dist['label_switching']['B']],\n",
    "                                           label='Receptor Label Shuffling',\n",
    "                                           comparison='different'\n",
    "                                          )\n",
    "    \n",
    "plt.xlabel('Spearman score', fontsize=18)\n",
    "plt.ylabel('Counts', fontsize=18)\n",
    "\n",
    "plt.savefig('../Figures/Pval-Label-Shuffling-LR.svg',\n",
    "                dpi=300,\n",
    "                bbox_inches='tight')"
   ]
  },
  {
   "cell_type": "markdown",
   "metadata": {},
   "source": [
    "**PPI Network Subsampling**"
   ]
  },
  {
   "cell_type": "code",
   "execution_count": 30,
   "metadata": {},
   "outputs": [
    {
     "name": "stdout",
     "output_type": "stream",
     "text": [
      "P-value is: 0.0\n"
     ]
    },
    {
     "data": {
      "image/png": "[encoded data removed]",
      "text/plain": [
       "<Figure size 432x288 with 1 Axes>"
      ]
     },
     "metadata": {},
     "output_type": "display_data"
    }
   ],
   "source": [
    "fig_, pval = c2c.stats.pvalue_from_dist(corr_value[0],\n",
    "                                        [corr[0] for corr in corr_dist['subsampling']],\n",
    "                                        label='PPI Network Subsampling',\n",
    "                                        comparison='different'\n",
    "                                       )\n",
    "    \n",
    "plt.xlabel('Spearman score', fontsize=18)\n",
    "plt.ylabel('Counts', fontsize=18)\n",
    "\n",
    "plt.savefig('../Figures/Pval-PPI-Subsampling.svg',\n",
    "                dpi=300,\n",
    "                bbox_inches='tight')"
   ]
  },
  {
   "cell_type": "markdown",
   "metadata": {},
   "source": [
    "# Export results into JSON File"
   ]
  },
  {
   "cell_type": "code",
   "execution_count": 29,
   "metadata": {},
   "outputs": [],
   "source": [
    "with open('../Data/Permutations/Permutation-Analysis.json', 'w') as outfile:\n",
    "    json.dump(corr_dist, outfile)"
   ]
  },
  {
   "cell_type": "code",
   "execution_count": null,
   "metadata": {},
   "outputs": [],
   "source": []
  }
 ],
 "metadata": {
  "kernelspec": {
   "display_name": "Python 3",
   "language": "python",
   "name": "python3"
  },
  "language_info": {
   "codemirror_mode": {
    "name": "ipython",
    "version": 3
   },
   "file_extension": ".py",
   "mimetype": "text/x-python",
   "name": "python",
   "nbconvert_exporter": "python",
   "pygments_lexer": "ipython3",
   "version": "3.7.6"
  }
 },
 "nbformat": 4,
 "nbformat_minor": 4
}
