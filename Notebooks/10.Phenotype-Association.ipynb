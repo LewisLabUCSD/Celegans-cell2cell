{
 "cells": [
  {
   "cell_type": "code",
   "execution_count": 1,
   "metadata": {},
   "outputs": [
    {
     "name": "stderr",
     "output_type": "stream",
     "text": [
      "/Users/earmingol/opt/anaconda3/envs/c2c_dev/lib/python3.7/site-packages/skbio/util/_testing.py:15: FutureWarning: pandas.util.testing is deprecated. Use the functions in the public API at pandas.testing instead.\n",
      "  import pandas.util.testing as pdt\n"
     ]
    }
   ],
   "source": [
    "import cell2cell as c2c\n",
    "import pandas as pd\n",
    "\n",
    "import obonet"
   ]
  },
  {
   "cell_type": "markdown",
   "metadata": {},
   "source": [
    "# Load Data"
   ]
  },
  {
   "cell_type": "markdown",
   "metadata": {},
   "source": [
    "**Lists of Ligand-Receptor Pairs**"
   ]
  },
  {
   "cell_type": "code",
   "execution_count": 2,
   "metadata": {},
   "outputs": [],
   "source": [
    "all_lr = pd.read_excel('../Data/PPI-Networks/Celegans-Curated-LR-pairs.xlsx')"
   ]
  },
  {
   "cell_type": "code",
   "execution_count": 3,
   "metadata": {},
   "outputs": [],
   "source": [
    "ga_lr = pd.read_csv('../Data/PPI-Networks/Celegans-GA-Selected-LR-pairs.csv')"
   ]
  },
  {
   "cell_type": "code",
   "execution_count": 4,
   "metadata": {},
   "outputs": [
    {
     "data": {
      "text/plain": [
       "(245, 9)"
      ]
     },
     "execution_count": 4,
     "metadata": {},
     "output_type": "execute_result"
    }
   ],
   "source": [
    "all_lr.shape"
   ]
  },
  {
   "cell_type": "markdown",
   "metadata": {},
   "source": [
    "**Gene-Onthology associations in C. elegans**"
   ]
  },
  {
   "cell_type": "code",
   "execution_count": 5,
   "metadata": {},
   "outputs": [],
   "source": [
    "phenotype = obonet.read_obo('../Data/Onthology/phenotype_ontology.WS276.obo')"
   ]
  },
  {
   "cell_type": "code",
   "execution_count": 6,
   "metadata": {},
   "outputs": [
    {
     "name": "stdout",
     "output_type": "stream",
     "text": [
      "Opening GO annotations from ../Data/Onthology/phenotype_association.WS276.wb.gz\n",
      "../Data/Onthology/phenotype_association.WS276.wb.gz was correctly loaded\n"
     ]
    }
   ],
   "source": [
    "po_annot = c2c.io.load_go_annotations('../Data/Onthology/phenotype_association.WS276.wb.gz')"
   ]
  },
  {
   "cell_type": "markdown",
   "metadata": {},
   "source": [
    "# Analysis"
   ]
  },
  {
   "cell_type": "code",
   "execution_count": 7,
   "metadata": {},
   "outputs": [],
   "source": [
    "all_genes = list(set(all_lr[['Ligand_WB', 'Receptor_WB']].values.flatten()))"
   ]
  },
  {
   "cell_type": "code",
   "execution_count": 8,
   "metadata": {},
   "outputs": [],
   "source": [
    "ga_genes = list(set(ga_lr[['Ligand_WB', 'Receptor_WB']].values.flatten()))"
   ]
  },
  {
   "cell_type": "code",
   "execution_count": 9,
   "metadata": {},
   "outputs": [],
   "source": [
    "all_annot = po_annot.loc[po_annot.Gene.isin(all_genes)]"
   ]
  },
  {
   "cell_type": "code",
   "execution_count": 10,
   "metadata": {},
   "outputs": [],
   "source": [
    "ga_annot = po_annot.loc[po_annot.Gene.isin(ga_genes)]"
   ]
  },
  {
   "cell_type": "code",
   "execution_count": 11,
   "metadata": {},
   "outputs": [
    {
     "name": "stderr",
     "output_type": "stream",
     "text": [
      "/Users/earmingol/opt/anaconda3/envs/c2c_dev/lib/python3.7/site-packages/ipykernel_launcher.py:1: SettingWithCopyWarning: \n",
      "A value is trying to be set on a copy of a slice from a DataFrame.\n",
      "Try using .loc[row_indexer,col_indexer] = value instead\n",
      "\n",
      "See the caveats in the documentation: https://pandas.pydata.org/pandas-docs/stable/user_guide/indexing.html#returning-a-view-versus-a-copy\n",
      "  \"\"\"Entry point for launching an IPython kernel.\n"
     ]
    }
   ],
   "source": [
    "all_annot['Onthology'] = all_annot['GO'].apply(lambda x: phenotype.nodes[x]['name'])"
   ]
  },
  {
   "cell_type": "code",
   "execution_count": 12,
   "metadata": {},
   "outputs": [
    {
     "name": "stderr",
     "output_type": "stream",
     "text": [
      "/Users/earmingol/opt/anaconda3/envs/c2c_dev/lib/python3.7/site-packages/ipykernel_launcher.py:1: SettingWithCopyWarning: \n",
      "A value is trying to be set on a copy of a slice from a DataFrame.\n",
      "Try using .loc[row_indexer,col_indexer] = value instead\n",
      "\n",
      "See the caveats in the documentation: https://pandas.pydata.org/pandas-docs/stable/user_guide/indexing.html#returning-a-view-versus-a-copy\n",
      "  \"\"\"Entry point for launching an IPython kernel.\n"
     ]
    }
   ],
   "source": [
    "ga_annot['Onthology'] = ga_annot['GO'].apply(lambda x: phenotype.nodes[x]['name'])"
   ]
  },
  {
   "cell_type": "code",
   "execution_count": 13,
   "metadata": {},
   "outputs": [],
   "source": [
    "tests = ['morphology phenotype', 'cell migration']"
   ]
  },
  {
   "cell_type": "code",
   "execution_count": 14,
   "metadata": {},
   "outputs": [
    {
     "name": "stdout",
     "output_type": "stream",
     "text": [
      "PHENOTYPE: morphology phenotype\n",
      "Expected ratio in background: 0.04736842105263158\n",
      "Observed ratio in GA-selection: 0.1016949152542373\n",
      "['daf-2' 'lin-17' 'lin-18' 'lin-44' 'mom-2' 'epi-1']\n",
      "Depletion - Odds: 4.830188679245283; P-value: 0.9956272998197243\n",
      "Enrichment - Odds: 4.830188679245283; P-value: 0.026860302232248286\n",
      "\n",
      "PHENOTYPE: cell migration\n",
      "Expected ratio in background: 0.21578947368421053\n",
      "Observed ratio in GA-selection: 0.3559322033898305\n",
      "['cam-1' 'cfz-2' 'cwn-1' 'dbl-1' 'epi-1' 'lag-2' 'let-2' 'lin-12' 'lin-17'\n",
      " 'lin-44' 'mab-20' 'mig-1' 'mom-2' 'pat-3' 'unc-5' 'unc-6' 'unc-129'\n",
      " 'ddr-1' 'ina-1' 'nid-1' 'rig-6']\n",
      "Depletion - Odds: 3.067105263157895; P-value: 0.9994379045167932\n",
      "Enrichment - Odds: 3.067105263157895; P-value: 0.0019113679915507085\n",
      "\n"
     ]
    }
   ],
   "source": [
    "for key_word in tests:\n",
    "    all_test = all_annot.loc[all_annot.Onthology.str.contains(key_word)].Name.unique()\n",
    "    ga_test = ga_annot.loc[ga_annot.Onthology.str.contains(key_word)].Name.unique()\n",
    "    \n",
    "    print('PHENOTYPE: {}'.format(key_word))\n",
    "    print('Expected ratio in background: {}'.format(len(all_test) / len(all_genes)))\n",
    "    print('Observed ratio in GA-selection: {}'.format(len(ga_test) / len(ga_genes)))\n",
    "    print(ga_test)\n",
    "    \n",
    "    test = c2c.stats.enrichment.fisher_representation(len(ga_genes), len(ga_test), len(all_genes), len(all_test))\n",
    "    print('Depletion - Odds: {}; P-value: {}'.format(test['odds'][0], test['pval'][0]))\n",
    "    print('Enrichment - Odds: {}; P-value: {}'.format(test['odds'][1], test['pval'][1]))\n",
    "    print('')"
   ]
  },
  {
   "cell_type": "code",
   "execution_count": null,
   "metadata": {},
   "outputs": [],
   "source": []
  },
  {
   "cell_type": "code",
   "execution_count": null,
   "metadata": {},
   "outputs": [],
   "source": []
  }
 ],
 "metadata": {
  "kernelspec": {
   "display_name": "Python 3",
   "language": "python",
   "name": "python3"
  },
  "language_info": {
   "codemirror_mode": {
    "name": "ipython",
    "version": 3
   },
   "file_extension": ".py",
   "mimetype": "text/x-python",
   "name": "python",
   "nbconvert_exporter": "python",
   "pygments_lexer": "ipython3",
   "version": "3.7.6"
  }
 },
 "nbformat": 4,
 "nbformat_minor": 2
}
