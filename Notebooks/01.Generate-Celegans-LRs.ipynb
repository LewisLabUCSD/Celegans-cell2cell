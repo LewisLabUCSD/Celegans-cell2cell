{
 "cells": [
  {
   "cell_type": "code",
   "execution_count": 1,
   "metadata": {},
   "outputs": [
    {
     "name": "stderr",
     "output_type": "stream",
     "text": [
      "/Users/earmingol/opt/anaconda3/envs/c2c_dev/lib/python3.7/site-packages/skbio/util/_testing.py:15: FutureWarning: pandas.util.testing is deprecated. Use the functions in the public API at pandas.testing instead.\n",
      "  import pandas.util.testing as pdt\n"
     ]
    }
   ],
   "source": [
    "import pandas as pd\n",
    "\n",
    "import cell2cell as c2c\n",
    "\n",
    "import os, glob\n",
    "\n",
    "from tqdm import tqdm"
   ]
  },
  {
   "cell_type": "markdown",
   "metadata": {},
   "source": [
    "# Load Data"
   ]
  },
  {
   "cell_type": "markdown",
   "metadata": {},
   "source": [
    "## *C. elegans* RNA-seq"
   ]
  },
  {
   "cell_type": "code",
   "execution_count": 2,
   "metadata": {},
   "outputs": [],
   "source": [
    "rnaseq_data = pd.read_excel('../Data/RNA-Seq/Celegans_RNASeqData_Cell.xlsx')"
   ]
  },
  {
   "cell_type": "code",
   "execution_count": 3,
   "metadata": {
    "scrolled": true
   },
   "outputs": [
    {
     "data": {
      "text/html": [
       "<div>\n",
       "<style scoped>\n",
       "    .dataframe tbody tr th:only-of-type {\n",
       "        vertical-align: middle;\n",
       "    }\n",
       "\n",
       "    .dataframe tbody tr th {\n",
       "        vertical-align: top;\n",
       "    }\n",
       "\n",
       "    .dataframe thead th {\n",
       "        text-align: right;\n",
       "    }\n",
       "</style>\n",
       "<table border=\"1\" class=\"dataframe\">\n",
       "  <thead>\n",
       "    <tr style=\"text-align: right;\">\n",
       "      <th></th>\n",
       "      <th>gene_id</th>\n",
       "      <th>symbol</th>\n",
       "      <th>Germline</th>\n",
       "      <th>Intestinal/rectal_muscle</th>\n",
       "      <th>Coelomocytes</th>\n",
       "      <th>Ciliated_sensory_neurons</th>\n",
       "      <th>Seam_cells</th>\n",
       "      <th>Non-seam_hypodermis</th>\n",
       "      <th>Pharyngeal_epithelia</th>\n",
       "      <th>Touch_receptor_neurons</th>\n",
       "      <th>...</th>\n",
       "      <th>Oxygen_sensory_neurons</th>\n",
       "      <th>Somatic_gonad_precursors</th>\n",
       "      <th>flp-1(+)_interneurons</th>\n",
       "      <th>Canal_associated_neurons</th>\n",
       "      <th>Pharyngeal_gland</th>\n",
       "      <th>Sex_myoblasts</th>\n",
       "      <th>Excretory_cells</th>\n",
       "      <th>Socket_cells</th>\n",
       "      <th>Rectum</th>\n",
       "      <th>Intestine</th>\n",
       "    </tr>\n",
       "  </thead>\n",
       "  <tbody>\n",
       "    <tr>\n",
       "      <th>0</th>\n",
       "      <td>WBGene00000001</td>\n",
       "      <td>aap-1</td>\n",
       "      <td>62.497001</td>\n",
       "      <td>10.205136</td>\n",
       "      <td>23.522258</td>\n",
       "      <td>2.601640</td>\n",
       "      <td>17.684936</td>\n",
       "      <td>6.125070</td>\n",
       "      <td>19.126607</td>\n",
       "      <td>63.349737</td>\n",
       "      <td>...</td>\n",
       "      <td>34.100314</td>\n",
       "      <td>38.821040</td>\n",
       "      <td>34.322845</td>\n",
       "      <td>15.496668</td>\n",
       "      <td>2.756256</td>\n",
       "      <td>33.446040</td>\n",
       "      <td>11.550903</td>\n",
       "      <td>17.451509</td>\n",
       "      <td>0.000000</td>\n",
       "      <td>25.809255</td>\n",
       "    </tr>\n",
       "    <tr>\n",
       "      <th>1</th>\n",
       "      <td>WBGene00000002</td>\n",
       "      <td>aat-1</td>\n",
       "      <td>0.000000</td>\n",
       "      <td>0.000000</td>\n",
       "      <td>73.422178</td>\n",
       "      <td>16.976302</td>\n",
       "      <td>4.458539</td>\n",
       "      <td>7.957491</td>\n",
       "      <td>190.043766</td>\n",
       "      <td>0.000000</td>\n",
       "      <td>...</td>\n",
       "      <td>3.173948</td>\n",
       "      <td>87.773542</td>\n",
       "      <td>0.000000</td>\n",
       "      <td>6.719490</td>\n",
       "      <td>255.232150</td>\n",
       "      <td>205.181741</td>\n",
       "      <td>0.000000</td>\n",
       "      <td>0.000000</td>\n",
       "      <td>40.750949</td>\n",
       "      <td>1.025635</td>\n",
       "    </tr>\n",
       "    <tr>\n",
       "      <th>2</th>\n",
       "      <td>WBGene00000003</td>\n",
       "      <td>aat-2</td>\n",
       "      <td>0.000000</td>\n",
       "      <td>80.016157</td>\n",
       "      <td>26.607997</td>\n",
       "      <td>0.000000</td>\n",
       "      <td>0.820582</td>\n",
       "      <td>8.642118</td>\n",
       "      <td>9.406249</td>\n",
       "      <td>11.976048</td>\n",
       "      <td>...</td>\n",
       "      <td>78.474267</td>\n",
       "      <td>74.523513</td>\n",
       "      <td>3.885366</td>\n",
       "      <td>0.000000</td>\n",
       "      <td>20.001143</td>\n",
       "      <td>163.596066</td>\n",
       "      <td>0.000000</td>\n",
       "      <td>8.374096</td>\n",
       "      <td>4.062960</td>\n",
       "      <td>0.000000</td>\n",
       "    </tr>\n",
       "    <tr>\n",
       "      <th>3</th>\n",
       "      <td>WBGene00000004</td>\n",
       "      <td>aat-3</td>\n",
       "      <td>0.248650</td>\n",
       "      <td>52.852916</td>\n",
       "      <td>8.283492</td>\n",
       "      <td>27.344298</td>\n",
       "      <td>14.230394</td>\n",
       "      <td>16.588887</td>\n",
       "      <td>0.000000</td>\n",
       "      <td>10.967077</td>\n",
       "      <td>...</td>\n",
       "      <td>65.493464</td>\n",
       "      <td>54.982436</td>\n",
       "      <td>58.661807</td>\n",
       "      <td>0.000000</td>\n",
       "      <td>4.683885</td>\n",
       "      <td>79.587685</td>\n",
       "      <td>43.392868</td>\n",
       "      <td>76.614359</td>\n",
       "      <td>44.354308</td>\n",
       "      <td>5.056305</td>\n",
       "    </tr>\n",
       "    <tr>\n",
       "      <th>4</th>\n",
       "      <td>WBGene00000005</td>\n",
       "      <td>aat-4</td>\n",
       "      <td>0.118407</td>\n",
       "      <td>2.012866</td>\n",
       "      <td>2.159463</td>\n",
       "      <td>0.000000</td>\n",
       "      <td>0.316940</td>\n",
       "      <td>0.000000</td>\n",
       "      <td>0.000000</td>\n",
       "      <td>0.000000</td>\n",
       "      <td>...</td>\n",
       "      <td>0.000000</td>\n",
       "      <td>0.000000</td>\n",
       "      <td>0.000000</td>\n",
       "      <td>0.000000</td>\n",
       "      <td>0.000000</td>\n",
       "      <td>0.000000</td>\n",
       "      <td>0.000000</td>\n",
       "      <td>0.000000</td>\n",
       "      <td>0.000000</td>\n",
       "      <td>16.171277</td>\n",
       "    </tr>\n",
       "  </tbody>\n",
       "</table>\n",
       "<p>5 rows × 29 columns</p>\n",
       "</div>"
      ],
      "text/plain": [
       "          gene_id symbol   Germline  Intestinal/rectal_muscle  Coelomocytes  \\\n",
       "0  WBGene00000001  aap-1  62.497001                 10.205136     23.522258   \n",
       "1  WBGene00000002  aat-1   0.000000                  0.000000     73.422178   \n",
       "2  WBGene00000003  aat-2   0.000000                 80.016157     26.607997   \n",
       "3  WBGene00000004  aat-3   0.248650                 52.852916      8.283492   \n",
       "4  WBGene00000005  aat-4   0.118407                  2.012866      2.159463   \n",
       "\n",
       "   Ciliated_sensory_neurons  Seam_cells  Non-seam_hypodermis  \\\n",
       "0                  2.601640   17.684936             6.125070   \n",
       "1                 16.976302    4.458539             7.957491   \n",
       "2                  0.000000    0.820582             8.642118   \n",
       "3                 27.344298   14.230394            16.588887   \n",
       "4                  0.000000    0.316940             0.000000   \n",
       "\n",
       "   Pharyngeal_epithelia  Touch_receptor_neurons  ...  Oxygen_sensory_neurons  \\\n",
       "0             19.126607               63.349737  ...               34.100314   \n",
       "1            190.043766                0.000000  ...                3.173948   \n",
       "2              9.406249               11.976048  ...               78.474267   \n",
       "3              0.000000               10.967077  ...               65.493464   \n",
       "4              0.000000                0.000000  ...                0.000000   \n",
       "\n",
       "   Somatic_gonad_precursors  flp-1(+)_interneurons  Canal_associated_neurons  \\\n",
       "0                 38.821040              34.322845                 15.496668   \n",
       "1                 87.773542               0.000000                  6.719490   \n",
       "2                 74.523513               3.885366                  0.000000   \n",
       "3                 54.982436              58.661807                  0.000000   \n",
       "4                  0.000000               0.000000                  0.000000   \n",
       "\n",
       "   Pharyngeal_gland  Sex_myoblasts  Excretory_cells  Socket_cells     Rectum  \\\n",
       "0          2.756256      33.446040        11.550903     17.451509   0.000000   \n",
       "1        255.232150     205.181741         0.000000      0.000000  40.750949   \n",
       "2         20.001143     163.596066         0.000000      8.374096   4.062960   \n",
       "3          4.683885      79.587685        43.392868     76.614359  44.354308   \n",
       "4          0.000000       0.000000         0.000000      0.000000   0.000000   \n",
       "\n",
       "   Intestine  \n",
       "0  25.809255  \n",
       "1   1.025635  \n",
       "2   0.000000  \n",
       "3   5.056305  \n",
       "4  16.171277  \n",
       "\n",
       "[5 rows x 29 columns]"
      ]
     },
     "execution_count": 3,
     "metadata": {},
     "output_type": "execute_result"
    }
   ],
   "source": [
    "rnaseq_data.head()"
   ]
  },
  {
   "cell_type": "markdown",
   "metadata": {},
   "source": [
    "## STRING-db"
   ]
  },
  {
   "cell_type": "code",
   "execution_count": 4,
   "metadata": {},
   "outputs": [
    {
     "name": "stdout",
     "output_type": "stream",
     "text": [
      "Opening PPI datasets from ../Data/PPI-Networks/Celegans-STRING-db-mapped-highconfidence.txt.gz\n",
      "../Data/PPI-Networks/Celegans-STRING-db-mapped-highconfidence.txt.gz was correctly loaded\n",
      "Removing bidirectionality of PPI network\n",
      "Simplying PPI network\n"
     ]
    }
   ],
   "source": [
    "stringdb = c2c.io.load_ppi(ppi_file='../Data/PPI-Networks/Celegans-STRING-db-mapped-highconfidence.txt.gz',\n",
    "                           interaction_columns=['protein1', 'protein2'],\n",
    "                           format='auto')"
   ]
  },
  {
   "cell_type": "code",
   "execution_count": 5,
   "metadata": {},
   "outputs": [
    {
     "data": {
      "text/html": [
       "<div>\n",
       "<style scoped>\n",
       "    .dataframe tbody tr th:only-of-type {\n",
       "        vertical-align: middle;\n",
       "    }\n",
       "\n",
       "    .dataframe tbody tr th {\n",
       "        vertical-align: top;\n",
       "    }\n",
       "\n",
       "    .dataframe thead th {\n",
       "        text-align: right;\n",
       "    }\n",
       "</style>\n",
       "<table border=\"1\" class=\"dataframe\">\n",
       "  <thead>\n",
       "    <tr style=\"text-align: right;\">\n",
       "      <th></th>\n",
       "      <th>A</th>\n",
       "      <th>B</th>\n",
       "      <th>score</th>\n",
       "    </tr>\n",
       "  </thead>\n",
       "  <tbody>\n",
       "    <tr>\n",
       "      <th>0</th>\n",
       "      <td>WBGene00007064</td>\n",
       "      <td>WBGene00009059</td>\n",
       "      <td>1.0</td>\n",
       "    </tr>\n",
       "    <tr>\n",
       "      <th>1</th>\n",
       "      <td>WBGene00007064</td>\n",
       "      <td>WBGene00019544</td>\n",
       "      <td>1.0</td>\n",
       "    </tr>\n",
       "    <tr>\n",
       "      <th>2</th>\n",
       "      <td>WBGene00007064</td>\n",
       "      <td>WBGene00012532</td>\n",
       "      <td>1.0</td>\n",
       "    </tr>\n",
       "    <tr>\n",
       "      <th>3</th>\n",
       "      <td>WBGene00007067</td>\n",
       "      <td>WBGene00016874</td>\n",
       "      <td>1.0</td>\n",
       "    </tr>\n",
       "    <tr>\n",
       "      <th>4</th>\n",
       "      <td>WBGene00007067</td>\n",
       "      <td>WBGene00010045</td>\n",
       "      <td>1.0</td>\n",
       "    </tr>\n",
       "  </tbody>\n",
       "</table>\n",
       "</div>"
      ],
      "text/plain": [
       "                A               B  score\n",
       "0  WBGene00007064  WBGene00009059    1.0\n",
       "1  WBGene00007064  WBGene00019544    1.0\n",
       "2  WBGene00007064  WBGene00012532    1.0\n",
       "3  WBGene00007067  WBGene00016874    1.0\n",
       "4  WBGene00007067  WBGene00010045    1.0"
      ]
     },
     "execution_count": 5,
     "metadata": {},
     "output_type": "execute_result"
    }
   ],
   "source": [
    "stringdb.head()"
   ]
  },
  {
   "cell_type": "code",
   "execution_count": 6,
   "metadata": {},
   "outputs": [
    {
     "data": {
      "text/plain": [
       "(69254, 3)"
      ]
     },
     "execution_count": 6,
     "metadata": {},
     "output_type": "execute_result"
    }
   ],
   "source": [
    "stringdb.shape"
   ]
  },
  {
   "cell_type": "markdown",
   "metadata": {},
   "source": [
    "## RSPGM"
   ]
  },
  {
   "cell_type": "code",
   "execution_count": 7,
   "metadata": {},
   "outputs": [
    {
     "name": "stdout",
     "output_type": "stream",
     "text": [
      "Opening PPI datasets from ../Data/PPI-Networks/RSPGM.xlsx\n",
      "../Data/PPI-Networks/RSPGM.xlsx was correctly loaded\n",
      "Removing bidirectionality of PPI network\n",
      "Simplying PPI network\n"
     ]
    }
   ],
   "source": [
    "rspgm = c2c.io.load_ppi(ppi_file='../Data/PPI-Networks/RSPGM.xlsx',\n",
    "                        interaction_columns=['WormBase_ID_a', 'WormBase_ID_b'],\n",
    "                        format='auto')"
   ]
  },
  {
   "cell_type": "code",
   "execution_count": 8,
   "metadata": {},
   "outputs": [
    {
     "data": {
      "text/html": [
       "<div>\n",
       "<style scoped>\n",
       "    .dataframe tbody tr th:only-of-type {\n",
       "        vertical-align: middle;\n",
       "    }\n",
       "\n",
       "    .dataframe tbody tr th {\n",
       "        vertical-align: top;\n",
       "    }\n",
       "\n",
       "    .dataframe thead th {\n",
       "        text-align: right;\n",
       "    }\n",
       "</style>\n",
       "<table border=\"1\" class=\"dataframe\">\n",
       "  <thead>\n",
       "    <tr style=\"text-align: right;\">\n",
       "      <th></th>\n",
       "      <th>A</th>\n",
       "      <th>B</th>\n",
       "      <th>score</th>\n",
       "    </tr>\n",
       "  </thead>\n",
       "  <tbody>\n",
       "    <tr>\n",
       "      <th>0</th>\n",
       "      <td>WBGene00003525</td>\n",
       "      <td>WBGene00009681</td>\n",
       "      <td>1.0</td>\n",
       "    </tr>\n",
       "    <tr>\n",
       "      <th>1</th>\n",
       "      <td>WBGene00004964</td>\n",
       "      <td>WBGene00000024</td>\n",
       "      <td>1.0</td>\n",
       "    </tr>\n",
       "    <tr>\n",
       "      <th>2</th>\n",
       "      <td>WBGene00000024</td>\n",
       "      <td>WBGene00004098</td>\n",
       "      <td>1.0</td>\n",
       "    </tr>\n",
       "    <tr>\n",
       "      <th>3</th>\n",
       "      <td>WBGene00000024</td>\n",
       "      <td>WBGene00000031</td>\n",
       "      <td>1.0</td>\n",
       "    </tr>\n",
       "    <tr>\n",
       "      <th>4</th>\n",
       "      <td>WBGene00000024</td>\n",
       "      <td>WBGene00004099</td>\n",
       "      <td>1.0</td>\n",
       "    </tr>\n",
       "  </tbody>\n",
       "</table>\n",
       "</div>"
      ],
      "text/plain": [
       "                A               B  score\n",
       "0  WBGene00003525  WBGene00009681    1.0\n",
       "1  WBGene00004964  WBGene00000024    1.0\n",
       "2  WBGene00000024  WBGene00004098    1.0\n",
       "3  WBGene00000024  WBGene00000031    1.0\n",
       "4  WBGene00000024  WBGene00004099    1.0"
      ]
     },
     "execution_count": 8,
     "metadata": {},
     "output_type": "execute_result"
    }
   ],
   "source": [
    "rspgm.head()"
   ]
  },
  {
   "cell_type": "code",
   "execution_count": 9,
   "metadata": {},
   "outputs": [
    {
     "data": {
      "text/plain": [
       "(12951, 3)"
      ]
     },
     "execution_count": 9,
     "metadata": {},
     "output_type": "execute_result"
    }
   ],
   "source": [
    "rspgm.shape"
   ]
  },
  {
   "cell_type": "markdown",
   "metadata": {},
   "source": [
    "## Obtained from Literature"
   ]
  },
  {
   "cell_type": "code",
   "execution_count": 10,
   "metadata": {},
   "outputs": [
    {
     "name": "stdout",
     "output_type": "stream",
     "text": [
      "Opening PPI datasets from ../Data/PPI-Networks/Literature-Curated.xlsx\n",
      "../Data/PPI-Networks/Literature-Curated.xlsx was correctly loaded\n",
      "Removing bidirectionality of PPI network\n",
      "Simplying PPI network\n"
     ]
    }
   ],
   "source": [
    "literature = c2c.io.load_ppi(ppi_file='../Data/PPI-Networks/Literature-Curated.xlsx',\n",
    "                             interaction_columns=['Ligands_WB', 'Receptors_WB'],\n",
    "                             strna='',\n",
    "                             format='auto')"
   ]
  },
  {
   "cell_type": "code",
   "execution_count": 11,
   "metadata": {},
   "outputs": [
    {
     "data": {
      "text/html": [
       "<div>\n",
       "<style scoped>\n",
       "    .dataframe tbody tr th:only-of-type {\n",
       "        vertical-align: middle;\n",
       "    }\n",
       "\n",
       "    .dataframe tbody tr th {\n",
       "        vertical-align: top;\n",
       "    }\n",
       "\n",
       "    .dataframe thead th {\n",
       "        text-align: right;\n",
       "    }\n",
       "</style>\n",
       "<table border=\"1\" class=\"dataframe\">\n",
       "  <thead>\n",
       "    <tr style=\"text-align: right;\">\n",
       "      <th></th>\n",
       "      <th>A</th>\n",
       "      <th>B</th>\n",
       "      <th>score</th>\n",
       "    </tr>\n",
       "  </thead>\n",
       "  <tbody>\n",
       "    <tr>\n",
       "      <th>0</th>\n",
       "      <td></td>\n",
       "      <td>WBGene00009717</td>\n",
       "      <td>1.0</td>\n",
       "    </tr>\n",
       "    <tr>\n",
       "      <th>1</th>\n",
       "      <td>WBGene00001185</td>\n",
       "      <td>WBGene00001184</td>\n",
       "      <td>1.0</td>\n",
       "    </tr>\n",
       "    <tr>\n",
       "      <th>2</th>\n",
       "      <td>WBGene00002992</td>\n",
       "      <td>WBGene00002299</td>\n",
       "      <td>1.0</td>\n",
       "    </tr>\n",
       "    <tr>\n",
       "      <th>3</th>\n",
       "      <td>WBGene00002881</td>\n",
       "      <td>WBGene00001184</td>\n",
       "      <td>1.0</td>\n",
       "    </tr>\n",
       "    <tr>\n",
       "      <th>4</th>\n",
       "      <td>WBGene00006869</td>\n",
       "      <td>WBGene00006868</td>\n",
       "      <td>1.0</td>\n",
       "    </tr>\n",
       "  </tbody>\n",
       "</table>\n",
       "</div>"
      ],
      "text/plain": [
       "                A               B  score\n",
       "0                  WBGene00009717    1.0\n",
       "1  WBGene00001185  WBGene00001184    1.0\n",
       "2  WBGene00002992  WBGene00002299    1.0\n",
       "3  WBGene00002881  WBGene00001184    1.0\n",
       "4  WBGene00006869  WBGene00006868    1.0"
      ]
     },
     "execution_count": 11,
     "metadata": {},
     "output_type": "execute_result"
    }
   ],
   "source": [
    "literature.head()"
   ]
  },
  {
   "cell_type": "code",
   "execution_count": 12,
   "metadata": {},
   "outputs": [
    {
     "data": {
      "text/plain": [
       "(138, 3)"
      ]
     },
     "execution_count": 12,
     "metadata": {},
     "output_type": "execute_result"
    }
   ],
   "source": [
    "literature.shape"
   ]
  },
  {
   "cell_type": "markdown",
   "metadata": {},
   "source": [
    "## Human data to convert into *C. elegans*"
   ]
  },
  {
   "cell_type": "markdown",
   "metadata": {},
   "source": [
    "**Ramilowski et al. (2015) - Draft of Ligand-Receptor pairs**\n",
    "\n",
    "https://www.nature.com/articles/ncomms8866"
   ]
  },
  {
   "cell_type": "code",
   "execution_count": 13,
   "metadata": {},
   "outputs": [],
   "source": [
    "LR_pairs = pd.read_csv('../Data/PPI-Networks/Human-2015-Ramilowski-LR-pairs.txt', sep='\\t')"
   ]
  },
  {
   "cell_type": "code",
   "execution_count": 14,
   "metadata": {},
   "outputs": [
    {
     "data": {
      "text/html": [
       "<div>\n",
       "<style scoped>\n",
       "    .dataframe tbody tr th:only-of-type {\n",
       "        vertical-align: middle;\n",
       "    }\n",
       "\n",
       "    .dataframe tbody tr th {\n",
       "        vertical-align: top;\n",
       "    }\n",
       "\n",
       "    .dataframe thead th {\n",
       "        text-align: right;\n",
       "    }\n",
       "</style>\n",
       "<table border=\"1\" class=\"dataframe\">\n",
       "  <thead>\n",
       "    <tr style=\"text-align: right;\">\n",
       "      <th></th>\n",
       "      <th>Pair.Name</th>\n",
       "      <th>Ligand.ApprovedSymbol</th>\n",
       "      <th>Ligand.Name</th>\n",
       "      <th>Receptor.ApprovedSymbol</th>\n",
       "      <th>Receptor.Name</th>\n",
       "      <th>DLRP</th>\n",
       "      <th>HPMR</th>\n",
       "      <th>IUPHAR</th>\n",
       "      <th>HPRD</th>\n",
       "      <th>STRING.binding</th>\n",
       "      <th>STRING.experiment</th>\n",
       "      <th>HPMR.Ligand</th>\n",
       "      <th>HPMR.Receptor</th>\n",
       "      <th>PMID.Manual</th>\n",
       "      <th>Pair.Source</th>\n",
       "      <th>Pair.Evidence</th>\n",
       "    </tr>\n",
       "  </thead>\n",
       "  <tbody>\n",
       "    <tr>\n",
       "      <th>0</th>\n",
       "      <td>A2M_LRP1</td>\n",
       "      <td>A2M</td>\n",
       "      <td>alpha-2-macroglobulin</td>\n",
       "      <td>LRP1</td>\n",
       "      <td>low density lipoprotein receptor-related prote...</td>\n",
       "      <td>NaN</td>\n",
       "      <td>HPMR</td>\n",
       "      <td>NaN</td>\n",
       "      <td>HPRD</td>\n",
       "      <td>STRING.binding</td>\n",
       "      <td>STRING.experiment</td>\n",
       "      <td>A2M</td>\n",
       "      <td>LRP1</td>\n",
       "      <td>NaN</td>\n",
       "      <td>known</td>\n",
       "      <td>literature supported</td>\n",
       "    </tr>\n",
       "    <tr>\n",
       "      <th>1</th>\n",
       "      <td>AANAT_MTNR1A</td>\n",
       "      <td>AANAT</td>\n",
       "      <td>aralkylamine N-acetyltransferase</td>\n",
       "      <td>MTNR1A</td>\n",
       "      <td>melatonin receptor 1A</td>\n",
       "      <td>NaN</td>\n",
       "      <td>HPMR</td>\n",
       "      <td>NaN</td>\n",
       "      <td>NaN</td>\n",
       "      <td>NaN</td>\n",
       "      <td>NaN</td>\n",
       "      <td>AANAT</td>\n",
       "      <td>MTNR1A</td>\n",
       "      <td>NaN</td>\n",
       "      <td>known</td>\n",
       "      <td>literature supported</td>\n",
       "    </tr>\n",
       "    <tr>\n",
       "      <th>2</th>\n",
       "      <td>AANAT_MTNR1B</td>\n",
       "      <td>AANAT</td>\n",
       "      <td>aralkylamine N-acetyltransferase</td>\n",
       "      <td>MTNR1B</td>\n",
       "      <td>melatonin receptor 1B</td>\n",
       "      <td>NaN</td>\n",
       "      <td>HPMR</td>\n",
       "      <td>NaN</td>\n",
       "      <td>NaN</td>\n",
       "      <td>NaN</td>\n",
       "      <td>NaN</td>\n",
       "      <td>AANAT</td>\n",
       "      <td>MTNR1B</td>\n",
       "      <td>NaN</td>\n",
       "      <td>known</td>\n",
       "      <td>literature supported</td>\n",
       "    </tr>\n",
       "    <tr>\n",
       "      <th>3</th>\n",
       "      <td>ACE_AGTR2</td>\n",
       "      <td>ACE</td>\n",
       "      <td>angiotensin I converting enzyme</td>\n",
       "      <td>AGTR2</td>\n",
       "      <td>angiotensin II receptor, type 2</td>\n",
       "      <td>NaN</td>\n",
       "      <td>NaN</td>\n",
       "      <td>NaN</td>\n",
       "      <td>HPRD</td>\n",
       "      <td>NaN</td>\n",
       "      <td>NaN</td>\n",
       "      <td>ACE</td>\n",
       "      <td>AGTR2</td>\n",
       "      <td>NaN</td>\n",
       "      <td>novel</td>\n",
       "      <td>literature supported</td>\n",
       "    </tr>\n",
       "    <tr>\n",
       "      <th>4</th>\n",
       "      <td>ACE_BDKRB2</td>\n",
       "      <td>ACE</td>\n",
       "      <td>angiotensin I converting enzyme</td>\n",
       "      <td>BDKRB2</td>\n",
       "      <td>bradykinin receptor B2</td>\n",
       "      <td>NaN</td>\n",
       "      <td>NaN</td>\n",
       "      <td>NaN</td>\n",
       "      <td>HPRD</td>\n",
       "      <td>NaN</td>\n",
       "      <td>NaN</td>\n",
       "      <td>ACE</td>\n",
       "      <td>BDKRB2</td>\n",
       "      <td>NaN</td>\n",
       "      <td>novel</td>\n",
       "      <td>literature supported</td>\n",
       "    </tr>\n",
       "  </tbody>\n",
       "</table>\n",
       "</div>"
      ],
      "text/plain": [
       "      Pair.Name Ligand.ApprovedSymbol                       Ligand.Name  \\\n",
       "0      A2M_LRP1                   A2M             alpha-2-macroglobulin   \n",
       "1  AANAT_MTNR1A                 AANAT  aralkylamine N-acetyltransferase   \n",
       "2  AANAT_MTNR1B                 AANAT  aralkylamine N-acetyltransferase   \n",
       "3     ACE_AGTR2                   ACE   angiotensin I converting enzyme   \n",
       "4    ACE_BDKRB2                   ACE   angiotensin I converting enzyme   \n",
       "\n",
       "  Receptor.ApprovedSymbol                                      Receptor.Name  \\\n",
       "0                    LRP1  low density lipoprotein receptor-related prote...   \n",
       "1                  MTNR1A                              melatonin receptor 1A   \n",
       "2                  MTNR1B                              melatonin receptor 1B   \n",
       "3                   AGTR2                    angiotensin II receptor, type 2   \n",
       "4                  BDKRB2                             bradykinin receptor B2   \n",
       "\n",
       "  DLRP  HPMR IUPHAR  HPRD  STRING.binding  STRING.experiment HPMR.Ligand  \\\n",
       "0  NaN  HPMR    NaN  HPRD  STRING.binding  STRING.experiment         A2M   \n",
       "1  NaN  HPMR    NaN   NaN             NaN                NaN       AANAT   \n",
       "2  NaN  HPMR    NaN   NaN             NaN                NaN       AANAT   \n",
       "3  NaN   NaN    NaN  HPRD             NaN                NaN         ACE   \n",
       "4  NaN   NaN    NaN  HPRD             NaN                NaN         ACE   \n",
       "\n",
       "  HPMR.Receptor PMID.Manual Pair.Source         Pair.Evidence  \n",
       "0          LRP1         NaN       known  literature supported  \n",
       "1        MTNR1A         NaN       known  literature supported  \n",
       "2        MTNR1B         NaN       known  literature supported  \n",
       "3         AGTR2         NaN       novel  literature supported  \n",
       "4        BDKRB2         NaN       novel  literature supported  "
      ]
     },
     "execution_count": 14,
     "metadata": {},
     "output_type": "execute_result"
    }
   ],
   "source": [
    "LR_pairs.head()"
   ]
  },
  {
   "cell_type": "code",
   "execution_count": 15,
   "metadata": {},
   "outputs": [
    {
     "data": {
      "text/plain": [
       "(2557, 16)"
      ]
     },
     "execution_count": 15,
     "metadata": {},
     "output_type": "execute_result"
    }
   ],
   "source": [
    "LR_pairs.shape"
   ]
  },
  {
   "cell_type": "markdown",
   "metadata": {},
   "source": [
    "## OrthoDB data"
   ]
  },
  {
   "cell_type": "code",
   "execution_count": 16,
   "metadata": {},
   "outputs": [],
   "source": [
    "orthodb = pd.read_excel('../Data/Orthologs/OrthoDB-Celegans-Human.xlsx')"
   ]
  },
  {
   "cell_type": "code",
   "execution_count": 17,
   "metadata": {},
   "outputs": [
    {
     "data": {
      "text/html": [
       "<div>\n",
       "<style scoped>\n",
       "    .dataframe tbody tr th:only-of-type {\n",
       "        vertical-align: middle;\n",
       "    }\n",
       "\n",
       "    .dataframe tbody tr th {\n",
       "        vertical-align: top;\n",
       "    }\n",
       "\n",
       "    .dataframe thead th {\n",
       "        text-align: right;\n",
       "    }\n",
       "</style>\n",
       "<table border=\"1\" class=\"dataframe\">\n",
       "  <thead>\n",
       "    <tr style=\"text-align: right;\">\n",
       "      <th></th>\n",
       "      <th>Protein</th>\n",
       "      <th>og_name</th>\n",
       "      <th>pub_gene_id</th>\n",
       "      <th>description</th>\n",
       "      <th>WB</th>\n",
       "    </tr>\n",
       "  </thead>\n",
       "  <tbody>\n",
       "    <tr>\n",
       "      <th>0</th>\n",
       "      <td>SLIT3</td>\n",
       "      <td>slit homolog 1 protein</td>\n",
       "      <td>slt-1</td>\n",
       "      <td>Slit homolog 1 protein</td>\n",
       "      <td>WBGene00004854</td>\n",
       "    </tr>\n",
       "    <tr>\n",
       "      <th>1</th>\n",
       "      <td>SERPINE2</td>\n",
       "      <td>Serpin family</td>\n",
       "      <td>srp-2</td>\n",
       "      <td>SeRPin</td>\n",
       "      <td>WBGene00005643</td>\n",
       "    </tr>\n",
       "    <tr>\n",
       "      <th>2</th>\n",
       "      <td>SERPINE2</td>\n",
       "      <td>Serpin family</td>\n",
       "      <td>srp-8</td>\n",
       "      <td>SeRPin</td>\n",
       "      <td>WBGene00005649</td>\n",
       "    </tr>\n",
       "    <tr>\n",
       "      <th>3</th>\n",
       "      <td>SERPINE2</td>\n",
       "      <td>Serpin family</td>\n",
       "      <td>srp-1</td>\n",
       "      <td>SeRPin</td>\n",
       "      <td>WBGene00005642</td>\n",
       "    </tr>\n",
       "    <tr>\n",
       "      <th>4</th>\n",
       "      <td>SERPINE2</td>\n",
       "      <td>Serpin family</td>\n",
       "      <td>srp-7</td>\n",
       "      <td>SeRPin</td>\n",
       "      <td>WBGene00005648</td>\n",
       "    </tr>\n",
       "  </tbody>\n",
       "</table>\n",
       "</div>"
      ],
      "text/plain": [
       "    Protein                 og_name pub_gene_id             description  \\\n",
       "0     SLIT3  slit homolog 1 protein       slt-1  Slit homolog 1 protein   \n",
       "1  SERPINE2           Serpin family       srp-2                  SeRPin   \n",
       "2  SERPINE2           Serpin family       srp-8                  SeRPin   \n",
       "3  SERPINE2           Serpin family       srp-1                  SeRPin   \n",
       "4  SERPINE2           Serpin family       srp-7                  SeRPin   \n",
       "\n",
       "               WB  \n",
       "0  WBGene00004854  \n",
       "1  WBGene00005643  \n",
       "2  WBGene00005649  \n",
       "3  WBGene00005642  \n",
       "4  WBGene00005648  "
      ]
     },
     "execution_count": 17,
     "metadata": {},
     "output_type": "execute_result"
    }
   ],
   "source": [
    "orthodb.head()"
   ]
  },
  {
   "cell_type": "markdown",
   "metadata": {},
   "source": [
    "## OrthoList 2.0 - Database to map human genes into *C. elegans* genes\n",
    "\n",
    "https://doi.org/10.1534/genetics.118.301307"
   ]
  },
  {
   "cell_type": "code",
   "execution_count": 18,
   "metadata": {},
   "outputs": [],
   "source": [
    "ortholist = pd.read_excel('../Data/Orthologs/OrthoList2-Celegans-Human.xlsx')"
   ]
  },
  {
   "cell_type": "code",
   "execution_count": 19,
   "metadata": {},
   "outputs": [
    {
     "data": {
      "text/html": [
       "<div>\n",
       "<style scoped>\n",
       "    .dataframe tbody tr th:only-of-type {\n",
       "        vertical-align: middle;\n",
       "    }\n",
       "\n",
       "    .dataframe tbody tr th {\n",
       "        vertical-align: top;\n",
       "    }\n",
       "\n",
       "    .dataframe thead th {\n",
       "        text-align: right;\n",
       "    }\n",
       "</style>\n",
       "<table border=\"1\" class=\"dataframe\">\n",
       "  <thead>\n",
       "    <tr style=\"text-align: right;\">\n",
       "      <th></th>\n",
       "      <th>CE_WB_CURRENT</th>\n",
       "      <th>HS_ENSG</th>\n",
       "      <th>Databases</th>\n",
       "      <th>Score</th>\n",
       "      <th>COMMON_NAME</th>\n",
       "      <th>LOCUS_ID</th>\n",
       "      <th>AHRINGER_LOC</th>\n",
       "      <th>INTERPRO_DOM</th>\n",
       "      <th>SMART</th>\n",
       "      <th>GO</th>\n",
       "      <th>HGNC</th>\n",
       "      <th>OMIM_GENES</th>\n",
       "      <th>OMIM_PHENOTYPES</th>\n",
       "    </tr>\n",
       "  </thead>\n",
       "  <tbody>\n",
       "    <tr>\n",
       "      <th>0</th>\n",
       "      <td>WBGene00000001</td>\n",
       "      <td>ENSG00000105647</td>\n",
       "      <td>Ensembl Compara 87-89|InParanoid|OrthoInspecto...</td>\n",
       "      <td>4</td>\n",
       "      <td>aap-1</td>\n",
       "      <td>Y110A7A.10</td>\n",
       "      <td>NaN</td>\n",
       "      <td>INTERPRO:IPR000980 \"SH2 domain\"|INTERPRO:IPR00...</td>\n",
       "      <td>SM00252|SM00324|SM00326</td>\n",
       "      <td>1-phosphatidylinositol-3-kinase activity|1-pho...</td>\n",
       "      <td>PIK3R2</td>\n",
       "      <td>603157</td>\n",
       "      <td>Megalencephaly-polymicrogyria-polydactyly-hydr...</td>\n",
       "    </tr>\n",
       "    <tr>\n",
       "      <th>1</th>\n",
       "      <td>WBGene00000001</td>\n",
       "      <td>ENSG00000117461</td>\n",
       "      <td>Ensembl Compara 87-89|InParanoid|OrthoInspecto...</td>\n",
       "      <td>4</td>\n",
       "      <td>aap-1</td>\n",
       "      <td>Y110A7A.10</td>\n",
       "      <td>NaN</td>\n",
       "      <td>INTERPRO:IPR000980 \"SH2 domain\"|INTERPRO:IPR00...</td>\n",
       "      <td>SM00252</td>\n",
       "      <td>1-phosphatidylinositol-3-kinase activity|1-pho...</td>\n",
       "      <td>PIK3R3</td>\n",
       "      <td>NaN</td>\n",
       "      <td>NaN</td>\n",
       "    </tr>\n",
       "    <tr>\n",
       "      <th>2</th>\n",
       "      <td>WBGene00000001</td>\n",
       "      <td>ENSG00000145675</td>\n",
       "      <td>Ensembl Compara 87-89|Homologene|InParanoid|Or...</td>\n",
       "      <td>5</td>\n",
       "      <td>aap-1</td>\n",
       "      <td>Y110A7A.10</td>\n",
       "      <td>NaN</td>\n",
       "      <td>INTERPRO:IPR000980 \"SH2 domain\"|INTERPRO:IPR00...</td>\n",
       "      <td>SM00252|SM00324|SM00326</td>\n",
       "      <td>1-phosphatidylinositol-3-kinase activity|1-pho...</td>\n",
       "      <td>PIK3R1</td>\n",
       "      <td>171833</td>\n",
       "      <td>Agammaglobulinemia 7, autosomal recessive, 615...</td>\n",
       "    </tr>\n",
       "    <tr>\n",
       "      <th>3</th>\n",
       "      <td>WBGene00000001</td>\n",
       "      <td>ENSG00000268173</td>\n",
       "      <td>Ensembl Compara 87-89</td>\n",
       "      <td>1</td>\n",
       "      <td>aap-1</td>\n",
       "      <td>Y110A7A.10</td>\n",
       "      <td>NaN</td>\n",
       "      <td>INTERPRO:IPR000980 \"SH2 domain\"|INTERPRO:IPR00...</td>\n",
       "      <td>SM00252|SM00324|SM00326</td>\n",
       "      <td>NaN</td>\n",
       "      <td>NaN</td>\n",
       "      <td>NaN</td>\n",
       "      <td>NaN</td>\n",
       "    </tr>\n",
       "    <tr>\n",
       "      <th>4</th>\n",
       "      <td>WBGene00000001</td>\n",
       "      <td>ENSG00000278139</td>\n",
       "      <td>Ensembl Compara 87-89</td>\n",
       "      <td>1</td>\n",
       "      <td>aap-1</td>\n",
       "      <td>Y110A7A.10</td>\n",
       "      <td>NaN</td>\n",
       "      <td>INTERPRO:IPR000980 \"SH2 domain\"|INTERPRO:IPR00...</td>\n",
       "      <td>SM00252</td>\n",
       "      <td>1-phosphatidylinositol-3-kinase regulator acti...</td>\n",
       "      <td>NaN</td>\n",
       "      <td>NaN</td>\n",
       "      <td>NaN</td>\n",
       "    </tr>\n",
       "  </tbody>\n",
       "</table>\n",
       "</div>"
      ],
      "text/plain": [
       "    CE_WB_CURRENT          HS_ENSG  \\\n",
       "0  WBGene00000001  ENSG00000105647   \n",
       "1  WBGene00000001  ENSG00000117461   \n",
       "2  WBGene00000001  ENSG00000145675   \n",
       "3  WBGene00000001  ENSG00000268173   \n",
       "4  WBGene00000001  ENSG00000278139   \n",
       "\n",
       "                                           Databases  Score COMMON_NAME  \\\n",
       "0  Ensembl Compara 87-89|InParanoid|OrthoInspecto...      4       aap-1   \n",
       "1  Ensembl Compara 87-89|InParanoid|OrthoInspecto...      4       aap-1   \n",
       "2  Ensembl Compara 87-89|Homologene|InParanoid|Or...      5       aap-1   \n",
       "3                              Ensembl Compara 87-89      1       aap-1   \n",
       "4                              Ensembl Compara 87-89      1       aap-1   \n",
       "\n",
       "     LOCUS_ID AHRINGER_LOC                                       INTERPRO_DOM  \\\n",
       "0  Y110A7A.10          NaN  INTERPRO:IPR000980 \"SH2 domain\"|INTERPRO:IPR00...   \n",
       "1  Y110A7A.10          NaN  INTERPRO:IPR000980 \"SH2 domain\"|INTERPRO:IPR00...   \n",
       "2  Y110A7A.10          NaN  INTERPRO:IPR000980 \"SH2 domain\"|INTERPRO:IPR00...   \n",
       "3  Y110A7A.10          NaN  INTERPRO:IPR000980 \"SH2 domain\"|INTERPRO:IPR00...   \n",
       "4  Y110A7A.10          NaN  INTERPRO:IPR000980 \"SH2 domain\"|INTERPRO:IPR00...   \n",
       "\n",
       "                     SMART                                                 GO  \\\n",
       "0  SM00252|SM00324|SM00326  1-phosphatidylinositol-3-kinase activity|1-pho...   \n",
       "1                  SM00252  1-phosphatidylinositol-3-kinase activity|1-pho...   \n",
       "2  SM00252|SM00324|SM00326  1-phosphatidylinositol-3-kinase activity|1-pho...   \n",
       "3  SM00252|SM00324|SM00326                                                NaN   \n",
       "4                  SM00252  1-phosphatidylinositol-3-kinase regulator acti...   \n",
       "\n",
       "     HGNC OMIM_GENES                                    OMIM_PHENOTYPES  \n",
       "0  PIK3R2     603157  Megalencephaly-polymicrogyria-polydactyly-hydr...  \n",
       "1  PIK3R3        NaN                                                NaN  \n",
       "2  PIK3R1     171833  Agammaglobulinemia 7, autosomal recessive, 615...  \n",
       "3     NaN        NaN                                                NaN  \n",
       "4     NaN        NaN                                                NaN  "
      ]
     },
     "execution_count": 19,
     "metadata": {},
     "output_type": "execute_result"
    }
   ],
   "source": [
    "ortholist.head()"
   ]
  },
  {
   "cell_type": "markdown",
   "metadata": {},
   "source": [
    "## gProfiler - a web-based toolset for functional profiling of gene lists from large-scale experiments\n",
    "\n",
    "https://doi.org/10.1093/nar/gkm226"
   ]
  },
  {
   "cell_type": "code",
   "execution_count": 20,
   "metadata": {},
   "outputs": [],
   "source": [
    "gprofiler_ligands = pd.read_csv('../Data/Orthologs/gProfiler-Human-Celegans-Ligand-Orthologs.csv')"
   ]
  },
  {
   "cell_type": "code",
   "execution_count": 21,
   "metadata": {},
   "outputs": [
    {
     "data": {
      "text/html": [
       "<div>\n",
       "<style scoped>\n",
       "    .dataframe tbody tr th:only-of-type {\n",
       "        vertical-align: middle;\n",
       "    }\n",
       "\n",
       "    .dataframe tbody tr th {\n",
       "        vertical-align: top;\n",
       "    }\n",
       "\n",
       "    .dataframe thead th {\n",
       "        text-align: right;\n",
       "    }\n",
       "</style>\n",
       "<table border=\"1\" class=\"dataframe\">\n",
       "  <thead>\n",
       "    <tr style=\"text-align: right;\">\n",
       "      <th></th>\n",
       "      <th>g#</th>\n",
       "      <th>initial_alias</th>\n",
       "      <th>initial_ensg</th>\n",
       "      <th>o#</th>\n",
       "      <th>ortholog_name</th>\n",
       "      <th>ortholog_ensg</th>\n",
       "      <th>description</th>\n",
       "    </tr>\n",
       "  </thead>\n",
       "  <tbody>\n",
       "    <tr>\n",
       "      <th>0</th>\n",
       "      <td>1</td>\n",
       "      <td>A2M</td>\n",
       "      <td>ENSG00000175899</td>\n",
       "      <td>1.1.1</td>\n",
       "      <td>tep-1</td>\n",
       "      <td>WBGene00013969</td>\n",
       "      <td>TEP (ThiolEster containing Protein)  [Source:U...</td>\n",
       "    </tr>\n",
       "    <tr>\n",
       "      <th>1</th>\n",
       "      <td>2</td>\n",
       "      <td>AANAT</td>\n",
       "      <td>ENSG00000129673</td>\n",
       "      <td>2.1.1</td>\n",
       "      <td>NaN</td>\n",
       "      <td>NaN</td>\n",
       "      <td>NaN</td>\n",
       "    </tr>\n",
       "    <tr>\n",
       "      <th>2</th>\n",
       "      <td>3</td>\n",
       "      <td>ACE</td>\n",
       "      <td>ENSG00000159640</td>\n",
       "      <td>3.1.1</td>\n",
       "      <td>NaN</td>\n",
       "      <td>NaN</td>\n",
       "      <td>NaN</td>\n",
       "    </tr>\n",
       "    <tr>\n",
       "      <th>3</th>\n",
       "      <td>4</td>\n",
       "      <td>ADAM10</td>\n",
       "      <td>ENSG00000137845</td>\n",
       "      <td>4.1.1</td>\n",
       "      <td>NaN</td>\n",
       "      <td>NaN</td>\n",
       "      <td>NaN</td>\n",
       "    </tr>\n",
       "    <tr>\n",
       "      <th>4</th>\n",
       "      <td>5</td>\n",
       "      <td>ADAM12</td>\n",
       "      <td>ENSG00000148848</td>\n",
       "      <td>5.1.1</td>\n",
       "      <td>NaN</td>\n",
       "      <td>NaN</td>\n",
       "      <td>NaN</td>\n",
       "    </tr>\n",
       "  </tbody>\n",
       "</table>\n",
       "</div>"
      ],
      "text/plain": [
       "   g# initial_alias     initial_ensg     o# ortholog_name   ortholog_ensg  \\\n",
       "0   1           A2M  ENSG00000175899  1.1.1         tep-1  WBGene00013969   \n",
       "1   2         AANAT  ENSG00000129673  2.1.1           NaN             NaN   \n",
       "2   3           ACE  ENSG00000159640  3.1.1           NaN             NaN   \n",
       "3   4        ADAM10  ENSG00000137845  4.1.1           NaN             NaN   \n",
       "4   5        ADAM12  ENSG00000148848  5.1.1           NaN             NaN   \n",
       "\n",
       "                                         description  \n",
       "0  TEP (ThiolEster containing Protein)  [Source:U...  \n",
       "1                                                NaN  \n",
       "2                                                NaN  \n",
       "3                                                NaN  \n",
       "4                                                NaN  "
      ]
     },
     "execution_count": 21,
     "metadata": {},
     "output_type": "execute_result"
    }
   ],
   "source": [
    "gprofiler_ligands.head()"
   ]
  },
  {
   "cell_type": "code",
   "execution_count": 22,
   "metadata": {},
   "outputs": [],
   "source": [
    "gprofiler_receptors = pd.read_csv('../Data/Orthologs/gProfiler-Human-Celegans-Receptor-Orthologs.csv')"
   ]
  },
  {
   "cell_type": "code",
   "execution_count": 23,
   "metadata": {},
   "outputs": [
    {
     "data": {
      "text/html": [
       "<div>\n",
       "<style scoped>\n",
       "    .dataframe tbody tr th:only-of-type {\n",
       "        vertical-align: middle;\n",
       "    }\n",
       "\n",
       "    .dataframe tbody tr th {\n",
       "        vertical-align: top;\n",
       "    }\n",
       "\n",
       "    .dataframe thead th {\n",
       "        text-align: right;\n",
       "    }\n",
       "</style>\n",
       "<table border=\"1\" class=\"dataframe\">\n",
       "  <thead>\n",
       "    <tr style=\"text-align: right;\">\n",
       "      <th></th>\n",
       "      <th>g#</th>\n",
       "      <th>initial_alias</th>\n",
       "      <th>initial_ensg</th>\n",
       "      <th>o#</th>\n",
       "      <th>ortholog_name</th>\n",
       "      <th>ortholog_ensg</th>\n",
       "      <th>description</th>\n",
       "    </tr>\n",
       "  </thead>\n",
       "  <tbody>\n",
       "    <tr>\n",
       "      <th>0</th>\n",
       "      <td>1</td>\n",
       "      <td>LRP1</td>\n",
       "      <td>ENSG00000123384</td>\n",
       "      <td>1.1.1</td>\n",
       "      <td>NaN</td>\n",
       "      <td>NaN</td>\n",
       "      <td>NaN</td>\n",
       "    </tr>\n",
       "    <tr>\n",
       "      <th>1</th>\n",
       "      <td>2</td>\n",
       "      <td>MTNR1A</td>\n",
       "      <td>ENSG00000168412</td>\n",
       "      <td>2.1.1</td>\n",
       "      <td>NaN</td>\n",
       "      <td>NaN</td>\n",
       "      <td>NaN</td>\n",
       "    </tr>\n",
       "    <tr>\n",
       "      <th>2</th>\n",
       "      <td>3</td>\n",
       "      <td>MTNR1B</td>\n",
       "      <td>ENSG00000134640</td>\n",
       "      <td>3.1.1</td>\n",
       "      <td>NaN</td>\n",
       "      <td>NaN</td>\n",
       "      <td>NaN</td>\n",
       "    </tr>\n",
       "    <tr>\n",
       "      <th>3</th>\n",
       "      <td>4</td>\n",
       "      <td>AGTR2</td>\n",
       "      <td>ENSG00000180772</td>\n",
       "      <td>4.1.1</td>\n",
       "      <td>NaN</td>\n",
       "      <td>NaN</td>\n",
       "      <td>NaN</td>\n",
       "    </tr>\n",
       "    <tr>\n",
       "      <th>4</th>\n",
       "      <td>5</td>\n",
       "      <td>BDKRB2</td>\n",
       "      <td>ENSG00000168398</td>\n",
       "      <td>5.1.1</td>\n",
       "      <td>NaN</td>\n",
       "      <td>NaN</td>\n",
       "      <td>NaN</td>\n",
       "    </tr>\n",
       "  </tbody>\n",
       "</table>\n",
       "</div>"
      ],
      "text/plain": [
       "   g# initial_alias     initial_ensg     o# ortholog_name ortholog_ensg  \\\n",
       "0   1          LRP1  ENSG00000123384  1.1.1           NaN           NaN   \n",
       "1   2        MTNR1A  ENSG00000168412  2.1.1           NaN           NaN   \n",
       "2   3        MTNR1B  ENSG00000134640  3.1.1           NaN           NaN   \n",
       "3   4         AGTR2  ENSG00000180772  4.1.1           NaN           NaN   \n",
       "4   5        BDKRB2  ENSG00000168398  5.1.1           NaN           NaN   \n",
       "\n",
       "  description  \n",
       "0         NaN  \n",
       "1         NaN  \n",
       "2         NaN  \n",
       "3         NaN  \n",
       "4         NaN  "
      ]
     },
     "execution_count": 23,
     "metadata": {},
     "output_type": "execute_result"
    }
   ],
   "source": [
    "gprofiler_receptors.head()"
   ]
  },
  {
   "cell_type": "code",
   "execution_count": 24,
   "metadata": {},
   "outputs": [],
   "source": [
    "gprofiler_ligands = gprofiler_ligands.loc[~gprofiler_ligands['ortholog_ensg'].isnull()].reset_index(drop=True)"
   ]
  },
  {
   "cell_type": "code",
   "execution_count": 25,
   "metadata": {},
   "outputs": [],
   "source": [
    "gprofiler_receptors = gprofiler_receptors.loc[~gprofiler_receptors['ortholog_ensg'].isnull()].reset_index(drop=True)"
   ]
  },
  {
   "cell_type": "markdown",
   "metadata": {},
   "source": [
    "# Extract list of Ligands and Receptors"
   ]
  },
  {
   "cell_type": "code",
   "execution_count": 26,
   "metadata": {},
   "outputs": [
    {
     "name": "stderr",
     "output_type": "stream",
     "text": [
      "100%|██████████| 2557/2557 [00:20<00:00, 127.49it/s]\n"
     ]
    }
   ],
   "source": [
    "ligands = set()\n",
    "receptors = set()\n",
    "\n",
    "for pair in tqdm(LR_pairs['Pair.Name'].values):\n",
    "    ligand, receptor = pair.split('_')\n",
    "    \n",
    "    new_ligands = ortholist[ortholist.HGNC == ligand]['CE_WB_CURRENT'].values.tolist() \\\n",
    "                  + orthodb[orthodb.Protein == ligand]['WB'].values.tolist() \\\n",
    "                  + gprofiler_ligands[gprofiler_ligands.initial_alias == ligand]['ortholog_ensg'].values.tolist()\n",
    "    \n",
    "    new_receptors = ortholist[ortholist.HGNC == receptor]['CE_WB_CURRENT'].values.tolist() \\\n",
    "                    + orthodb[orthodb.Protein == receptor]['WB'].values.tolist() \\\n",
    "                    + gprofiler_receptors[gprofiler_receptors.initial_alias == receptor]['ortholog_ensg'].values.tolist()\n",
    "    \n",
    "    for l in new_ligands:\n",
    "        ligands.add(l)\n",
    "    for r in new_receptors:\n",
    "        receptors.add(r)\n",
    "\n",
    "        \n",
    "        \n",
    "ligands = ligands.union(set(literature['A'].values.tolist()))\n",
    "ligands = list(ligands)\n",
    "receptors = receptors.union(set(literature['B'].values.tolist()))\n",
    "receptors = list(receptors)"
   ]
  },
  {
   "cell_type": "code",
   "execution_count": 27,
   "metadata": {},
   "outputs": [],
   "source": [
    "#ligands.remove('')\n",
    "#receptors.remove('')"
   ]
  },
  {
   "cell_type": "code",
   "execution_count": 28,
   "metadata": {},
   "outputs": [
    {
     "name": "stdout",
     "output_type": "stream",
     "text": [
      "There are 619 ligands and 698 receptors\n"
     ]
    }
   ],
   "source": [
    "print('There are {} ligands and {} receptors'.format(len(ligands), len(receptors)))"
   ]
  },
  {
   "cell_type": "markdown",
   "metadata": {},
   "source": [
    "**Number of shared ligand-receptors -> May need manual curation**"
   ]
  },
  {
   "cell_type": "code",
   "execution_count": 29,
   "metadata": {},
   "outputs": [
    {
     "data": {
      "text/plain": [
       "108"
      ]
     },
     "execution_count": 29,
     "metadata": {},
     "output_type": "execute_result"
    }
   ],
   "source": [
    "len(set(ligands).intersection(set(receptors)))"
   ]
  },
  {
   "cell_type": "code",
   "execution_count": 30,
   "metadata": {},
   "outputs": [
    {
     "data": {
      "text/plain": [
       "{'',\n",
       " 'WBGene00000095',\n",
       " 'WBGene00000149',\n",
       " 'WBGene00000168',\n",
       " 'WBGene00000395',\n",
       " 'WBGene00000396',\n",
       " 'WBGene00000674',\n",
       " 'WBGene00000708',\n",
       " 'WBGene00000792',\n",
       " 'WBGene00001106',\n",
       " 'WBGene00001403',\n",
       " 'WBGene00001609',\n",
       " 'WBGene00001612',\n",
       " 'WBGene00001613',\n",
       " 'WBGene00001614',\n",
       " 'WBGene00001615',\n",
       " 'WBGene00001616',\n",
       " 'WBGene00001617',\n",
       " 'WBGene00001618',\n",
       " 'WBGene00001687',\n",
       " 'WBGene00001980',\n",
       " 'WBGene00002081',\n",
       " 'WBGene00002243',\n",
       " 'WBGene00002282',\n",
       " 'WBGene00002976',\n",
       " 'WBGene00003001',\n",
       " 'WBGene00003071',\n",
       " 'WBGene00003072',\n",
       " 'WBGene00003169',\n",
       " 'WBGene00003482',\n",
       " 'WBGene00003497',\n",
       " 'WBGene00003774',\n",
       " 'WBGene00003775',\n",
       " 'WBGene00003929',\n",
       " 'WBGene00004211',\n",
       " 'WBGene00004371',\n",
       " 'WBGene00004374',\n",
       " 'WBGene00004732',\n",
       " 'WBGene00006619',\n",
       " 'WBGene00006623',\n",
       " 'WBGene00006625',\n",
       " 'WBGene00006780',\n",
       " 'WBGene00006987',\n",
       " 'WBGene00007565',\n",
       " 'WBGene00008314',\n",
       " 'WBGene00008449',\n",
       " 'WBGene00008477',\n",
       " 'WBGene00008779',\n",
       " 'WBGene00009114',\n",
       " 'WBGene00009386',\n",
       " 'WBGene00009854',\n",
       " 'WBGene00009856',\n",
       " 'WBGene00009857',\n",
       " 'WBGene00009860',\n",
       " 'WBGene00010134',\n",
       " 'WBGene00010169',\n",
       " 'WBGene00010228',\n",
       " 'WBGene00010351',\n",
       " 'WBGene00010423',\n",
       " 'WBGene00010792',\n",
       " 'WBGene00011852',\n",
       " 'WBGene00011853',\n",
       " 'WBGene00012018',\n",
       " 'WBGene00012022',\n",
       " 'WBGene00012023',\n",
       " 'WBGene00012025',\n",
       " 'WBGene00012251',\n",
       " 'WBGene00012253',\n",
       " 'WBGene00012364',\n",
       " 'WBGene00012582',\n",
       " 'WBGene00012583',\n",
       " 'WBGene00013480',\n",
       " 'WBGene00013486',\n",
       " 'WBGene00013487',\n",
       " 'WBGene00013493',\n",
       " 'WBGene00013498',\n",
       " 'WBGene00013855',\n",
       " 'WBGene00013969',\n",
       " 'WBGene00014138',\n",
       " 'WBGene00015050',\n",
       " 'WBGene00015052',\n",
       " 'WBGene00015102',\n",
       " 'WBGene00015198',\n",
       " 'WBGene00015355',\n",
       " 'WBGene00015403',\n",
       " 'WBGene00015631',\n",
       " 'WBGene00016283',\n",
       " 'WBGene00016354',\n",
       " 'WBGene00016450',\n",
       " 'WBGene00016451',\n",
       " 'WBGene00017364',\n",
       " 'WBGene00018105',\n",
       " 'WBGene00018547',\n",
       " 'WBGene00018906',\n",
       " 'WBGene00019901',\n",
       " 'WBGene00019928',\n",
       " 'WBGene00019994',\n",
       " 'WBGene00020191',\n",
       " 'WBGene00020220',\n",
       " 'WBGene00020327',\n",
       " 'WBGene00020331',\n",
       " 'WBGene00020646',\n",
       " 'WBGene00021939',\n",
       " 'WBGene00022154',\n",
       " 'WBGene00022242',\n",
       " 'WBGene00022816',\n",
       " 'WBGene00022858',\n",
       " 'WBGene00023425'}"
      ]
     },
     "execution_count": 30,
     "metadata": {},
     "output_type": "execute_result"
    }
   ],
   "source": [
    "set(ligands).intersection(set(receptors))"
   ]
  },
  {
   "cell_type": "markdown",
   "metadata": {},
   "source": [
    "# Look for LR pairs in PPI networks"
   ]
  },
  {
   "cell_type": "code",
   "execution_count": 31,
   "metadata": {},
   "outputs": [
    {
     "name": "stdout",
     "output_type": "stream",
     "text": [
      "Filtering PPI interactions by using a list of genes for mediated interactions\n"
     ]
    }
   ],
   "source": [
    "LR_in_stringdb = c2c.preprocessing.filter_ppi_network(stringdb,\n",
    "                                                      contact_proteins=ligands,\n",
    "                                                      mediator_proteins=receptors,\n",
    "                                                      interaction_type='mediated',\n",
    "                                                      bidirectional=False,\n",
    "                                                     )\n",
    "LR_in_stringdb.columns = ['Ligand', 'Receptor', 'score']"
   ]
  },
  {
   "cell_type": "code",
   "execution_count": 32,
   "metadata": {},
   "outputs": [
    {
     "name": "stdout",
     "output_type": "stream",
     "text": [
      "Filtering PPI interactions by using a list of genes for mediated interactions\n"
     ]
    }
   ],
   "source": [
    "LR_in_rspgm = c2c.preprocessing.filter_ppi_network(rspgm,\n",
    "                                                   contact_proteins=ligands,\n",
    "                                                   mediator_proteins=receptors,\n",
    "                                                   interaction_type='mediated',\n",
    "                                                   bidirectional=False,\n",
    "                                                   )\n",
    "LR_in_rspgm.columns = ['Ligand', 'Receptor', 'score']"
   ]
  },
  {
   "cell_type": "code",
   "execution_count": 33,
   "metadata": {},
   "outputs": [
    {
     "name": "stdout",
     "output_type": "stream",
     "text": [
      "Filtering PPI interactions by using a list of genes for mediated interactions\n"
     ]
    }
   ],
   "source": [
    "LR_in_literature = c2c.preprocessing.filter_ppi_network(literature,\n",
    "                                                        contact_proteins=ligands,\n",
    "                                                        mediator_proteins=receptors,\n",
    "                                                        interaction_type='mediated',\n",
    "                                                        bidirectional=False,\n",
    "                                                        )\n",
    "LR_in_literature.columns = ['Ligand', 'Receptor', 'score']"
   ]
  },
  {
   "cell_type": "code",
   "execution_count": 34,
   "metadata": {},
   "outputs": [
    {
     "name": "stdout",
     "output_type": "stream",
     "text": [
      "LR pairs in stringdb: 550\n",
      "LR pairs in rspgm: 44\n",
      "LR pairs in literature: 144\n"
     ]
    }
   ],
   "source": [
    "print('LR pairs in stringdb: {}'.format(LR_in_stringdb.shape[0]))\n",
    "print('LR pairs in rspgm: {}'.format(LR_in_rspgm.shape[0]))\n",
    "print('LR pairs in literature: {}'.format(LR_in_literature.shape[0]))"
   ]
  },
  {
   "cell_type": "code",
   "execution_count": 35,
   "metadata": {},
   "outputs": [],
   "source": [
    "celegans_LR_pairs = pd.concat([LR_in_stringdb, LR_in_rspgm, LR_in_literature]).reset_index(drop=True)"
   ]
  },
  {
   "cell_type": "code",
   "execution_count": 36,
   "metadata": {},
   "outputs": [
    {
     "data": {
      "text/html": [
       "<div>\n",
       "<style scoped>\n",
       "    .dataframe tbody tr th:only-of-type {\n",
       "        vertical-align: middle;\n",
       "    }\n",
       "\n",
       "    .dataframe tbody tr th {\n",
       "        vertical-align: top;\n",
       "    }\n",
       "\n",
       "    .dataframe thead th {\n",
       "        text-align: right;\n",
       "    }\n",
       "</style>\n",
       "<table border=\"1\" class=\"dataframe\">\n",
       "  <thead>\n",
       "    <tr style=\"text-align: right;\">\n",
       "      <th></th>\n",
       "      <th>Ligand</th>\n",
       "      <th>Receptor</th>\n",
       "      <th>score</th>\n",
       "    </tr>\n",
       "  </thead>\n",
       "  <tbody>\n",
       "    <tr>\n",
       "      <th>0</th>\n",
       "      <td>WBGene00001613</td>\n",
       "      <td>WBGene00003774</td>\n",
       "      <td>1.0</td>\n",
       "    </tr>\n",
       "    <tr>\n",
       "      <th>1</th>\n",
       "      <td>WBGene00001613</td>\n",
       "      <td>WBGene00006779</td>\n",
       "      <td>1.0</td>\n",
       "    </tr>\n",
       "    <tr>\n",
       "      <th>2</th>\n",
       "      <td>WBGene00001613</td>\n",
       "      <td>WBGene00003775</td>\n",
       "      <td>1.0</td>\n",
       "    </tr>\n",
       "    <tr>\n",
       "      <th>3</th>\n",
       "      <td>WBGene00000182</td>\n",
       "      <td>WBGene00004040</td>\n",
       "      <td>1.0</td>\n",
       "    </tr>\n",
       "    <tr>\n",
       "      <th>4</th>\n",
       "      <td>WBGene00000182</td>\n",
       "      <td>WBGene00006780</td>\n",
       "      <td>1.0</td>\n",
       "    </tr>\n",
       "    <tr>\n",
       "      <th>...</th>\n",
       "      <td>...</td>\n",
       "      <td>...</td>\n",
       "      <td>...</td>\n",
       "    </tr>\n",
       "    <tr>\n",
       "      <th>733</th>\n",
       "      <td>WBGene00003001</td>\n",
       "      <td>WBGene00000168</td>\n",
       "      <td>1.0</td>\n",
       "    </tr>\n",
       "    <tr>\n",
       "      <th>734</th>\n",
       "      <td>WBGene00003001</td>\n",
       "      <td>WBGene00001106</td>\n",
       "      <td>1.0</td>\n",
       "    </tr>\n",
       "    <tr>\n",
       "      <th>735</th>\n",
       "      <td>WBGene00001609</td>\n",
       "      <td>WBGene00000168</td>\n",
       "      <td>1.0</td>\n",
       "    </tr>\n",
       "    <tr>\n",
       "      <th>736</th>\n",
       "      <td>WBGene00001609</td>\n",
       "      <td>WBGene00001106</td>\n",
       "      <td>1.0</td>\n",
       "    </tr>\n",
       "    <tr>\n",
       "      <th>737</th>\n",
       "      <td></td>\n",
       "      <td>WBGene00001403</td>\n",
       "      <td>1.0</td>\n",
       "    </tr>\n",
       "  </tbody>\n",
       "</table>\n",
       "<p>738 rows × 3 columns</p>\n",
       "</div>"
      ],
      "text/plain": [
       "             Ligand        Receptor  score\n",
       "0    WBGene00001613  WBGene00003774    1.0\n",
       "1    WBGene00001613  WBGene00006779    1.0\n",
       "2    WBGene00001613  WBGene00003775    1.0\n",
       "3    WBGene00000182  WBGene00004040    1.0\n",
       "4    WBGene00000182  WBGene00006780    1.0\n",
       "..              ...             ...    ...\n",
       "733  WBGene00003001  WBGene00000168    1.0\n",
       "734  WBGene00003001  WBGene00001106    1.0\n",
       "735  WBGene00001609  WBGene00000168    1.0\n",
       "736  WBGene00001609  WBGene00001106    1.0\n",
       "737                  WBGene00001403    1.0\n",
       "\n",
       "[738 rows x 3 columns]"
      ]
     },
     "execution_count": 36,
     "metadata": {},
     "output_type": "execute_result"
    }
   ],
   "source": [
    "celegans_LR_pairs"
   ]
  },
  {
   "cell_type": "code",
   "execution_count": 37,
   "metadata": {},
   "outputs": [],
   "source": [
    "celegans_LR_pairs = celegans_LR_pairs.drop_duplicates().reset_index(drop=True)"
   ]
  },
  {
   "cell_type": "code",
   "execution_count": 38,
   "metadata": {},
   "outputs": [
    {
     "data": {
      "text/plain": [
       "694"
      ]
     },
     "execution_count": 38,
     "metadata": {},
     "output_type": "execute_result"
    }
   ],
   "source": [
    "len(celegans_LR_pairs)"
   ]
  },
  {
   "cell_type": "code",
   "execution_count": 39,
   "metadata": {},
   "outputs": [],
   "source": [
    "celegans_LR_pairs.to_csv('../Data/PPI-Networks/Celegans-Ortholog-LR-pairs.csv', index=False)"
   ]
  },
  {
   "cell_type": "code",
   "execution_count": 40,
   "metadata": {},
   "outputs": [
    {
     "name": "stdout",
     "output_type": "stream",
     "text": [
      "Number of Ligands: 242\n",
      "Number of Receptors: 174\n"
     ]
    }
   ],
   "source": [
    "print('Number of Ligands: {}'.format(celegans_LR_pairs.Ligand.unique().shape[0]))\n",
    "print('Number of Receptors: {}'.format(celegans_LR_pairs.Receptor.unique().shape[0]))"
   ]
  },
  {
   "cell_type": "code",
   "execution_count": null,
   "metadata": {},
   "outputs": [],
   "source": []
  }
 ],
 "metadata": {
  "kernelspec": {
   "display_name": "Python 3",
   "language": "python",
   "name": "python3"
  },
  "language_info": {
   "codemirror_mode": {
    "name": "ipython",
    "version": 3
   },
   "file_extension": ".py",
   "mimetype": "text/x-python",
   "name": "python",
   "nbconvert_exporter": "python",
   "pygments_lexer": "ipython3",
   "version": "3.7.6"
  }
 },
 "nbformat": 4,
 "nbformat_minor": 2
}
