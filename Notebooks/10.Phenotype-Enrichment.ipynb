{
 "cells": [
  {
   "cell_type": "code",
   "execution_count": 1,
   "metadata": {},
   "outputs": [],
   "source": [
    "import cell2cell as c2c\n",
    "import numpy as np\n",
    "import pandas as pd\n",
    "import tissue_enrichment_analysis as tea\n",
    "\n",
    "from collections import defaultdict\n",
    "from tqdm.auto import tqdm\n",
    "\n",
    "import matplotlib.pyplot as plt\n",
    "import seaborn as sns\n",
    "\n",
    "%matplotlib inline"
   ]
  },
  {
   "cell_type": "markdown",
   "metadata": {},
   "source": [
    "# Data"
   ]
  },
  {
   "cell_type": "markdown",
   "metadata": {},
   "source": [
    "**Ligand-receptor pairs**"
   ]
  },
  {
   "cell_type": "code",
   "execution_count": 2,
   "metadata": {},
   "outputs": [],
   "source": [
    "ga_lrs = pd.read_csv('../Data/PPI-Networks/Celegans-GA-Selected-LR-pairs.csv')"
   ]
  },
  {
   "cell_type": "code",
   "execution_count": 3,
   "metadata": {},
   "outputs": [],
   "source": [
    "bkg_lrs = pd.read_excel('../Data/PPI-Networks/Celegans-Curated-LR-pairs.xlsx')"
   ]
  },
  {
   "cell_type": "markdown",
   "metadata": {},
   "source": [
    "**RNA-seq data**"
   ]
  },
  {
   "cell_type": "code",
   "execution_count": 4,
   "metadata": {},
   "outputs": [
    {
     "name": "stdout",
     "output_type": "stream",
     "text": [
      "Opening RNAseq datasets from ../Data/RNA-Seq/Celegans_RNASeqData_Cell.xlsx\n",
      "../Data/RNA-Seq/Celegans_RNASeqData_Cell.xlsx was correctly loaded\n"
     ]
    }
   ],
   "source": [
    "rnaseq_data = c2c.io.load_rnaseq(rnaseq_file='../Data/RNA-Seq/Celegans_RNASeqData_Cell.xlsx',\n",
    "                                 gene_column='symbol',\n",
    "                                 drop_nangenes=True,\n",
    "                                 log_transformation=False,\n",
    "                                 format='auto')"
   ]
  },
  {
   "cell_type": "code",
   "execution_count": 5,
   "metadata": {},
   "outputs": [],
   "source": [
    "excluded_cells = ['Distal_tip_cells',\n",
    "                  'Sex_myoblasts',\n",
    "                  'Socket_cells',\n",
    "                  'Vulval_precursors',\n",
    "                  'flp-1(+)_interneurons']"
   ]
  },
  {
   "cell_type": "code",
   "execution_count": 6,
   "metadata": {},
   "outputs": [],
   "source": [
    "rnaseq_data = rnaseq_data.drop(excluded_cells, axis=1)"
   ]
  },
  {
   "cell_type": "markdown",
   "metadata": {},
   "source": [
    "**Metadata for cell types**"
   ]
  },
  {
   "cell_type": "code",
   "execution_count": 7,
   "metadata": {},
   "outputs": [
    {
     "name": "stdout",
     "output_type": "stream",
     "text": [
      "../Data/RNA-Seq/Celegans_cell_metadata.tsv was correctly loaded\n"
     ]
    }
   ],
   "source": [
    "meta = c2c.io.load_metadata(metadata_file='../Data/RNA-Seq/Celegans_cell_metadata.tsv',\n",
    "                            rnaseq_data=rnaseq_data,\n",
    "                            sample_col='#SampleID',\n",
    "                            format='auto')"
   ]
  },
  {
   "cell_type": "markdown",
   "metadata": {},
   "source": [
    "# Enrichment analysis"
   ]
  },
  {
   "cell_type": "markdown",
   "metadata": {},
   "source": [
    "**Dictionary for converting gene IDs from WormBase into symbol**"
   ]
  },
  {
   "cell_type": "code",
   "execution_count": 8,
   "metadata": {},
   "outputs": [],
   "source": [
    "mapper = dict(zip(bkg_lrs['Ligand_WB'].values.tolist(), bkg_lrs['Ligand_symbol'].values.tolist()))\n",
    "mapper.update((zip(bkg_lrs['Receptor_WB'].values.tolist(), bkg_lrs['Receptor_symbol'].values.tolist())))"
   ]
  },
  {
   "cell_type": "code",
   "execution_count": 9,
   "metadata": {},
   "outputs": [
    {
     "data": {
      "text/plain": [
       "190"
      ]
     },
     "execution_count": 9,
     "metadata": {},
     "output_type": "execute_result"
    }
   ],
   "source": [
    "len(mapper)"
   ]
  },
  {
   "cell_type": "markdown",
   "metadata": {},
   "source": [
    "**Input genes**"
   ]
  },
  {
   "cell_type": "code",
   "execution_count": 10,
   "metadata": {},
   "outputs": [],
   "source": [
    "id_type = 'WB' # symbol or WB"
   ]
  },
  {
   "cell_type": "code",
   "execution_count": 11,
   "metadata": {},
   "outputs": [],
   "source": [
    "ga_genes = set(ga_lrs[['Ligand_' + id_type, 'Receptor_' + id_type]].values.flatten().tolist())"
   ]
  },
  {
   "cell_type": "code",
   "execution_count": 12,
   "metadata": {},
   "outputs": [],
   "source": [
    "bkg_genes = set(bkg_lrs[['Ligand_' + id_type, 'Receptor_' + id_type]].values.flatten().tolist())"
   ]
  },
  {
   "cell_type": "markdown",
   "metadata": {},
   "source": [
    "**Fetch Phenotypes from WormBase using their tool (tea)**"
   ]
  },
  {
   "cell_type": "code",
   "execution_count": 13,
   "metadata": {},
   "outputs": [],
   "source": [
    "phenotype = tea.fetch_dictionary('phenotype')"
   ]
  },
  {
   "cell_type": "code",
   "execution_count": 14,
   "metadata": {},
   "outputs": [],
   "source": [
    "phenotype.set_index('wbid', inplace=True)"
   ]
  },
  {
   "cell_type": "markdown",
   "metadata": {},
   "source": [
    "Use only genes in our complete list of LR pairs (use them as background genes)"
   ]
  },
  {
   "cell_type": "code",
   "execution_count": 15,
   "metadata": {},
   "outputs": [],
   "source": [
    "phenotype = phenotype.reindex(bkg_genes)"
   ]
  },
  {
   "cell_type": "markdown",
   "metadata": {},
   "source": [
    "**Fisher Exact Test**"
   ]
  },
  {
   "cell_type": "code",
   "execution_count": 16,
   "metadata": {},
   "outputs": [],
   "source": [
    "n = len(ga_genes)\n",
    "N = len(bkg_genes)\n",
    "\n",
    "records = []\n",
    "for c in phenotype.columns:\n",
    "    phe_df = phenotype[c]\n",
    "    sam_phe_df = phe_df.reindex(ga_genes)\n",
    "    \n",
    "    test_n = sam_phe_df.sum()\n",
    "    test_N = phe_df.sum()\n",
    "    test = c2c.stats.enrichment.fisher_representation(n, test_n, N, test_N)\n",
    "    if N == 0:\n",
    "        exp = np.nan\n",
    "    else:\n",
    "        exp = n/N\n",
    "    if test_N == 0:\n",
    "        obs = np.nan\n",
    "    else:   \n",
    "        obs = test_n/test_N\n",
    "    test['fold'] = (exp, obs)\n",
    "    records.append((c, test['odds'][1], test['pval'][1], *test['fold']))"
   ]
  },
  {
   "cell_type": "code",
   "execution_count": 17,
   "metadata": {},
   "outputs": [],
   "source": [
    "results = pd.DataFrame.from_records(records, \n",
    "                                    columns = ['Term', \n",
    "                                               'Enrichment Fold Change', \n",
    "                                               'P value', \n",
    "                                               'Expected', \n",
    "                                               'Observed'])"
   ]
  },
  {
   "cell_type": "markdown",
   "metadata": {},
   "source": [
    "**Multiple test correction (adjust P-values with FDR Benjamini & Hochberg, and select FDR < 1%)**"
   ]
  },
  {
   "cell_type": "code",
   "execution_count": 18,
   "metadata": {},
   "outputs": [],
   "source": [
    "fdr = 0.01\n",
    "results['Q value'] = c2c.stats.compute_fdrcorrection_asymmetric_matrix(results[['P value']], alpha=fdr)\n",
    "results['logQ'] = -results['Q value'].apply(np.log10)\n",
    "# remove np.infinites with np.nan\n",
    "results.logQ.replace([np.inf], np.nan, inplace=True)\n",
    "# remove np.nan with 70\n",
    "results.logQ.replace(np.nan, 70, inplace=True)"
   ]
  },
  {
   "cell_type": "code",
   "execution_count": 19,
   "metadata": {},
   "outputs": [
    {
     "data": {
      "text/html": [
       "<div>\n",
       "<style scoped>\n",
       "    .dataframe tbody tr th:only-of-type {\n",
       "        vertical-align: middle;\n",
       "    }\n",
       "\n",
       "    .dataframe tbody tr th {\n",
       "        vertical-align: top;\n",
       "    }\n",
       "\n",
       "    .dataframe thead th {\n",
       "        text-align: right;\n",
       "    }\n",
       "</style>\n",
       "<table border=\"1\" class=\"dataframe\">\n",
       "  <thead>\n",
       "    <tr style=\"text-align: right;\">\n",
       "      <th></th>\n",
       "      <th>Term</th>\n",
       "      <th>Enrichment Fold Change</th>\n",
       "      <th>P value</th>\n",
       "      <th>Expected</th>\n",
       "      <th>Observed</th>\n",
       "      <th>Q value</th>\n",
       "      <th>logQ</th>\n",
       "    </tr>\n",
       "  </thead>\n",
       "  <tbody>\n",
       "    <tr>\n",
       "      <th>124</th>\n",
       "      <td>organ system phenotype WBPhenotype:0002554</td>\n",
       "      <td>3.84838</td>\n",
       "      <td>0.000031</td>\n",
       "      <td>0.310526</td>\n",
       "      <td>0.492958</td>\n",
       "      <td>0.007367</td>\n",
       "      <td>2.132714</td>\n",
       "    </tr>\n",
       "  </tbody>\n",
       "</table>\n",
       "</div>"
      ],
      "text/plain": [
       "                                           Term  Enrichment Fold Change  \\\n",
       "124  organ system phenotype WBPhenotype:0002554                 3.84838   \n",
       "\n",
       "      P value  Expected  Observed   Q value      logQ  \n",
       "124  0.000031  0.310526  0.492958  0.007367  2.132714  "
      ]
     },
     "execution_count": 19,
     "metadata": {},
     "output_type": "execute_result"
    }
   ],
   "source": [
    "significant_results = results.loc[results['Q value'] < fdr]\n",
    "significant_results.sort_values('Q value', ascending=True)"
   ]
  },
  {
   "cell_type": "code",
   "execution_count": 20,
   "metadata": {},
   "outputs": [
    {
     "name": "stderr",
     "output_type": "stream",
     "text": [
      "/Users/earmingol/opt/anaconda3/envs/c2c_dev/lib/python3.7/site-packages/tissue_enrichment_analysis/hypergeometricTests.py:241: SettingWithCopyWarning: \n",
      "A value is trying to be set on a copy of a slice from a DataFrame\n",
      "\n",
      "See the caveats in the documentation: https://pandas.pydata.org/pandas-docs/stable/user_guide/indexing.html#returning-a-view-versus-a-copy\n",
      "  ascending=[True, False], inplace=True)\n"
     ]
    },
    {
     "data": {
      "text/plain": [
       "<matplotlib.axes._subplots.AxesSubplot at 0x15e50f850>"
      ]
     },
     "execution_count": 20,
     "metadata": {},
     "output_type": "execute_result"
    },
    {
     "data": {
      "image/png": "[encoded data removed]",
      "text/plain": [
       "<Figure size 1008x576 with 1 Axes>"
      ]
     },
     "metadata": {
      "needs_background": "light"
     },
     "output_type": "display_data"
    }
   ],
   "source": [
    "tea.plot_enrichment_results(significant_results, title='Phenotype', analysis='Phenotype', y='logQ', n_bars=10)"
   ]
  },
  {
   "cell_type": "markdown",
   "metadata": {},
   "source": [
    "**GA selected genes involved**"
   ]
  },
  {
   "cell_type": "code",
   "execution_count": 21,
   "metadata": {},
   "outputs": [],
   "source": [
    "associated_genes = defaultdict(set)\n",
    "ga_associated_genes = defaultdict(set)\n",
    "for idx, row in significant_results.iterrows():\n",
    "    term = row['Term']\n",
    "    associated_genes[term] = set([mapper[g] for g in phenotype.loc[phenotype[term] > 0, term].index])\n",
    "    ga_associated_genes[term] = associated_genes[term] & set([mapper[g] for g in ga_genes])"
   ]
  },
  {
   "cell_type": "code",
   "execution_count": 22,
   "metadata": {},
   "outputs": [
    {
     "name": "stdout",
     "output_type": "stream",
     "text": [
      "0.49 is the fraction of genes associated to the enriched phenotype in the complete list of LR pairs and that were        selected by the genetic algorithm\n"
     ]
    }
   ],
   "source": [
    "fraction = len(ga_associated_genes[term]) / len(associated_genes[term])\n",
    "print('{} is the fraction of genes associated to the enriched phenotype in the complete list of LR pairs and that were \\\n",
    "       selected by the genetic algorithm'.format(np.round(fraction, 2)))"
   ]
  },
  {
   "cell_type": "markdown",
   "metadata": {},
   "source": [
    "# Visualization of presence/absence given gene expression and selected genes"
   ]
  },
  {
   "cell_type": "code",
   "execution_count": 23,
   "metadata": {},
   "outputs": [],
   "source": [
    "expression = rnaseq_data.gt(10)"
   ]
  },
  {
   "cell_type": "code",
   "execution_count": 24,
   "metadata": {},
   "outputs": [],
   "source": [
    "# Colors from figure S14 in C elegans paper (cell type expression data)\n",
    "colors = {'Coelomocytes': (0.6509803921568628, 0.33725490196078434, 0.1568627450980392), # Brown\n",
    "          'Neurons': (0.596078431372549, 0.3058823529411765, 0.6392156862745098), # Purple\n",
    "          'Hypodermal/rectal cells': (0.30196078431372547, 0.6862745098039216, 0.2901960784313726), # Green\n",
    "          'Pharyngeal cells': (0.21568627450980393, 0.49411764705882355, 0.7215686274509804), # Blue\n",
    "          'Intestine': (1.0, 1.0, 0.2), # Yellow\n",
    "          'Body/muscular cells': (0.8941176470588236, 0.10196078431372549, 0.10980392156862745), # Red\n",
    "          'Excretory/Socket/Sheath cells': (1.0, 0.4980392156862745, 0.0), # Orange\n",
    "          'Sexual cells': (0.9686274509803922, 0.5058823529411764, 0.7490196078431373)} # Pink"
   ]
  },
  {
   "cell_type": "code",
   "execution_count": 25,
   "metadata": {},
   "outputs": [],
   "source": [
    "cell_colors = meta[['#SampleID', 'Groups']].set_index('#SampleID')\n",
    "cell_colors['Groups'] = cell_colors['Groups'].map(colors)"
   ]
  },
  {
   "cell_type": "code",
   "execution_count": 26,
   "metadata": {},
   "outputs": [
    {
     "data": {
      "image/png": "[encoded data removed]",
      "text/plain": [
       "<Figure size 648x1440 with 6 Axes>"
      ]
     },
     "metadata": {
      "needs_background": "light"
     },
     "output_type": "display_data"
    }
   ],
   "source": [
    "gene_list = associated_genes[term]\n",
    "\n",
    "colors = dict()\n",
    "for g in gene_list:\n",
    "    if (g in ga_associated_genes[term]):\n",
    "        colors[g] = 'blue'\n",
    "    else:\n",
    "        colors[g] = 'gray'\n",
    "        \n",
    "colors2 = dict()\n",
    "for g in gene_list:\n",
    "    if (g in ga_associated_genes[term]):\n",
    "        colors2[g] = 'y'\n",
    "    else:\n",
    "        colors2[g] = 'whitesmoke'\n",
    "\n",
    "color_df = pd.DataFrame(columns=['Phenotype'])\n",
    "    \n",
    "for k, v in colors2.items():\n",
    "    color_df.at[k, 'GA-selected'] = v\n",
    "\n",
    "cm = sns.clustermap(expression.loc[gene_list],\n",
    "                    cmap=sns.dark_palette('orange'),\n",
    "                    col_cluster=True,\n",
    "                    row_cluster=True,\n",
    "                    row_colors=color_df[['GA-selected']],\n",
    "                    col_colors=cell_colors,\n",
    "                    figsize=(9, 20),\n",
    "                    metric='jaccard',\n",
    "                    method='complete',\n",
    "                   )\n",
    "\n",
    "_ = cm.ax_heatmap.set_xticklabels(cm.data2d.columns.str.replace('_', ' '))\n",
    "cm.ax_heatmap.set_ylabel('Gene', fontsize=14, rotation=-90)\n",
    "\n",
    "plt.savefig('../Figures/Phenotype-Association.svg',\n",
    "                dpi=300,\n",
    "                bbox_inches='tight')"
   ]
  },
  {
   "cell_type": "code",
   "execution_count": 27,
   "metadata": {},
   "outputs": [
    {
     "data": {
      "text/plain": [
       "Text(635.1999999999999, 0.5, 'Gene')"
      ]
     },
     "execution_count": 27,
     "metadata": {},
     "output_type": "execute_result"
    },
    {
     "data": {
      "image/png": "[encoded data removed]",
      "text/plain": [
       "<Figure size 648x1152 with 5 Axes>"
      ]
     },
     "metadata": {
      "needs_background": "light"
     },
     "output_type": "display_data"
    }
   ],
   "source": [
    "gene_list = associated_genes[term]\n",
    "\n",
    "colors = dict()\n",
    "for g in gene_list:\n",
    "    if (g in ga_associated_genes[term]):\n",
    "        colors[g] = 'blue'\n",
    "    else:\n",
    "        colors[g] = 'gray'\n",
    "        \n",
    "colors2 = dict()\n",
    "for g in gene_list:\n",
    "    if (g in ga_associated_genes[term]):\n",
    "        colors2[g] = 'y'\n",
    "    else:\n",
    "        colors2[g] = 'whitesmoke'\n",
    "\n",
    "color_df = pd.DataFrame(columns=['Phenotype'])\n",
    "    \n",
    "for k, v in colors2.items():\n",
    "    color_df.at[k, 'GA-selected'] = v\n",
    "\n",
    "cm = sns.clustermap(expression.loc[ga_associated_genes[term]],\n",
    "                    cmap=sns.dark_palette('orange'),\n",
    "                    col_cluster=True,\n",
    "                    row_cluster=True,\n",
    "                    #row_colors=color_df[['GA-selected']],\n",
    "                    col_colors=cell_colors,\n",
    "                    figsize=(9, 16),\n",
    "                    metric='jaccard',\n",
    "                    method='complete',\n",
    "                   )\n",
    "\n",
    "_ = cm.ax_heatmap.set_xticklabels(cm.data2d.columns.str.replace('_', ' '))\n",
    "cm.ax_heatmap.set_ylabel('Gene', fontsize=14, rotation=-90)"
   ]
  },
  {
   "cell_type": "code",
   "execution_count": 30,
   "metadata": {},
   "outputs": [
    {
     "data": {
      "text/html": [
       "<div>\n",
       "<style scoped>\n",
       "    .dataframe tbody tr th:only-of-type {\n",
       "        vertical-align: middle;\n",
       "    }\n",
       "\n",
       "    .dataframe tbody tr th {\n",
       "        vertical-align: top;\n",
       "    }\n",
       "\n",
       "    .dataframe thead th {\n",
       "        text-align: right;\n",
       "    }\n",
       "</style>\n",
       "<table border=\"1\" class=\"dataframe\">\n",
       "  <thead>\n",
       "    <tr style=\"text-align: right;\">\n",
       "      <th></th>\n",
       "      <th>Ligand_WB</th>\n",
       "      <th>Receptor_WB</th>\n",
       "      <th>Ligand_symbol</th>\n",
       "      <th>Receptor_symbol</th>\n",
       "      <th>score</th>\n",
       "      <th>index</th>\n",
       "      <th>LR Function</th>\n",
       "      <th>L Function</th>\n",
       "      <th>R Function</th>\n",
       "      <th>Ligand_desc</th>\n",
       "      <th>Receptor_desc</th>\n",
       "    </tr>\n",
       "  </thead>\n",
       "  <tbody>\n",
       "    <tr>\n",
       "      <th>0</th>\n",
       "      <td>WBGene00000903</td>\n",
       "      <td>WBGene00004860</td>\n",
       "      <td>daf-7</td>\n",
       "      <td>sma-6</td>\n",
       "      <td>1.0</td>\n",
       "      <td>1</td>\n",
       "      <td>TGF-B signaling</td>\n",
       "      <td>GDF11</td>\n",
       "      <td>BMPRIB</td>\n",
       "      <td>Is an ortholog of human GDF11 (growth differen...</td>\n",
       "      <td>Is an ortholog of human BMPR1A (bone morphogen...</td>\n",
       "    </tr>\n",
       "    <tr>\n",
       "      <th>8</th>\n",
       "      <td>WBGene00003738</td>\n",
       "      <td>WBGene00004215</td>\n",
       "      <td>nid-1</td>\n",
       "      <td>ptp-3</td>\n",
       "      <td>1.0</td>\n",
       "      <td>46</td>\n",
       "      <td>Cell adhesion</td>\n",
       "      <td>Nidogen</td>\n",
       "      <td>LAR-RPTP</td>\n",
       "      <td>Is an ortholog of human NID1 (nidogen 1) and N...</td>\n",
       "      <td>Is an ortholog of human PTPRD (protein tyrosin...</td>\n",
       "    </tr>\n",
       "    <tr>\n",
       "      <th>10</th>\n",
       "      <td>WBGene00001328</td>\n",
       "      <td>WBGene00003930</td>\n",
       "      <td>epi-1</td>\n",
       "      <td>pat-3</td>\n",
       "      <td>1.0</td>\n",
       "      <td>54</td>\n",
       "      <td>Cell adhesion</td>\n",
       "      <td>Laminin</td>\n",
       "      <td>Integrin</td>\n",
       "      <td>Is an ortholog of human LAMA5 (laminin subunit...</td>\n",
       "      <td>Is an ortholog of human ITGB1 (integrin subuni...</td>\n",
       "    </tr>\n",
       "    <tr>\n",
       "      <th>11</th>\n",
       "      <td>WBGene00000857</td>\n",
       "      <td>WBGene00003006</td>\n",
       "      <td>cwn-1</td>\n",
       "      <td>lin-17</td>\n",
       "      <td>1.0</td>\n",
       "      <td>57</td>\n",
       "      <td>Wnt signaling</td>\n",
       "      <td>Wnt</td>\n",
       "      <td>Frizzled</td>\n",
       "      <td>Is an ortholog of human WNT4 (Wnt family membe...</td>\n",
       "      <td>Is an ortholog of human FZD4 (frizzled class r...</td>\n",
       "    </tr>\n",
       "    <tr>\n",
       "      <th>13</th>\n",
       "      <td>WBGene00006750</td>\n",
       "      <td>WBGene00006765</td>\n",
       "      <td>unc-10</td>\n",
       "      <td>unc-29</td>\n",
       "      <td>1.0</td>\n",
       "      <td>62</td>\n",
       "      <td>Neuronal communication</td>\n",
       "      <td>Organization of presynaptic sites</td>\n",
       "      <td>Cholinergic Receptor</td>\n",
       "      <td>Is an ortholog of human RIMS1 (regulating syna...</td>\n",
       "      <td>Is an ortholog of several human genes includin...</td>\n",
       "    </tr>\n",
       "    <tr>\n",
       "      <th>16</th>\n",
       "      <td>WBGene00003395</td>\n",
       "      <td>WBGene00003007</td>\n",
       "      <td>mom-2</td>\n",
       "      <td>lin-18</td>\n",
       "      <td>1.0</td>\n",
       "      <td>101</td>\n",
       "      <td>Wnt signaling</td>\n",
       "      <td>Wnt</td>\n",
       "      <td>Ryk/Derailed</td>\n",
       "      <td>Exhibits receptor tyrosine kinase binding acti...</td>\n",
       "      <td>Is an ortholog of human RYK (receptor like tyr...</td>\n",
       "    </tr>\n",
       "    <tr>\n",
       "      <th>22</th>\n",
       "      <td>WBGene00004264</td>\n",
       "      <td>WBGene00004210</td>\n",
       "      <td>qua-1</td>\n",
       "      <td>ptc-3</td>\n",
       "      <td>1.0</td>\n",
       "      <td>148</td>\n",
       "      <td>Hedgehog signaling</td>\n",
       "      <td>IHH</td>\n",
       "      <td>PTCH2</td>\n",
       "      <td>Is an ortholog of human DHH (desert hedgehog s...</td>\n",
       "      <td>Is an ortholog of human PTCH1 (patched 1) and ...</td>\n",
       "    </tr>\n",
       "    <tr>\n",
       "      <th>23</th>\n",
       "      <td>WBGene00004890</td>\n",
       "      <td>WBGene00004047</td>\n",
       "      <td>smp-2</td>\n",
       "      <td>plx-1</td>\n",
       "      <td>1.0</td>\n",
       "      <td>155</td>\n",
       "      <td>Cell migration</td>\n",
       "      <td>Semaphorin</td>\n",
       "      <td>Plexin (semaphorin receptor)</td>\n",
       "      <td>Is an ortholog of several human genes includin...</td>\n",
       "      <td>Is an ortholog of human PLXNA2 (plexin A2); PL...</td>\n",
       "    </tr>\n",
       "    <tr>\n",
       "      <th>24</th>\n",
       "      <td>WBGene00004889</td>\n",
       "      <td>WBGene00004047</td>\n",
       "      <td>smp-1</td>\n",
       "      <td>plx-1</td>\n",
       "      <td>1.0</td>\n",
       "      <td>156</td>\n",
       "      <td>Cell migration</td>\n",
       "      <td>Semaphorin</td>\n",
       "      <td>Plexin (semaphorin receptor)</td>\n",
       "      <td>Is an ortholog of human SEMA6A (semaphorin 6A)...</td>\n",
       "      <td>Is an ortholog of human PLXNA2 (plexin A2); PL...</td>\n",
       "    </tr>\n",
       "    <tr>\n",
       "      <th>26</th>\n",
       "      <td>WBGene00006951</td>\n",
       "      <td>WBGene00004208</td>\n",
       "      <td>wrt-5</td>\n",
       "      <td>ptc-1</td>\n",
       "      <td>1.0</td>\n",
       "      <td>168</td>\n",
       "      <td>Hedgehog signaling</td>\n",
       "      <td>DHH</td>\n",
       "      <td>PTCH1</td>\n",
       "      <td>Is predicted to have signaling receptor bindin...</td>\n",
       "      <td>Is an ortholog of human PTCH1 (patched 1) and ...</td>\n",
       "    </tr>\n",
       "    <tr>\n",
       "      <th>28</th>\n",
       "      <td>WBGene00002246</td>\n",
       "      <td>WBGene00001609</td>\n",
       "      <td>lag-2</td>\n",
       "      <td>glp-1</td>\n",
       "      <td>1.0</td>\n",
       "      <td>208</td>\n",
       "      <td>Notch signaling</td>\n",
       "      <td>DLL</td>\n",
       "      <td>Notch</td>\n",
       "      <td>Exhibits Notch binding activity. Is involved i...</td>\n",
       "      <td>Is an ortholog of human NOTCH1 (notch receptor...</td>\n",
       "    </tr>\n",
       "    <tr>\n",
       "      <th>30</th>\n",
       "      <td>WBGene00006852</td>\n",
       "      <td>WBGene00006745</td>\n",
       "      <td>unc-129</td>\n",
       "      <td>unc-5</td>\n",
       "      <td>1.0</td>\n",
       "      <td>226</td>\n",
       "      <td>Cell migration</td>\n",
       "      <td>BMP non-canonical</td>\n",
       "      <td>Immunoglobulin</td>\n",
       "      <td>Is an ortholog of human BMP3 (bone morphogenet...</td>\n",
       "      <td>Is an ortholog of human UNC5A (unc-5 netrin re...</td>\n",
       "    </tr>\n",
       "  </tbody>\n",
       "</table>\n",
       "</div>"
      ],
      "text/plain": [
       "         Ligand_WB     Receptor_WB Ligand_symbol Receptor_symbol  score  \\\n",
       "0   WBGene00000903  WBGene00004860         daf-7           sma-6    1.0   \n",
       "8   WBGene00003738  WBGene00004215         nid-1           ptp-3    1.0   \n",
       "10  WBGene00001328  WBGene00003930         epi-1           pat-3    1.0   \n",
       "11  WBGene00000857  WBGene00003006         cwn-1          lin-17    1.0   \n",
       "13  WBGene00006750  WBGene00006765        unc-10          unc-29    1.0   \n",
       "16  WBGene00003395  WBGene00003007         mom-2          lin-18    1.0   \n",
       "22  WBGene00004264  WBGene00004210         qua-1           ptc-3    1.0   \n",
       "23  WBGene00004890  WBGene00004047         smp-2           plx-1    1.0   \n",
       "24  WBGene00004889  WBGene00004047         smp-1           plx-1    1.0   \n",
       "26  WBGene00006951  WBGene00004208         wrt-5           ptc-1    1.0   \n",
       "28  WBGene00002246  WBGene00001609         lag-2           glp-1    1.0   \n",
       "30  WBGene00006852  WBGene00006745       unc-129           unc-5    1.0   \n",
       "\n",
       "    index             LR Function                         L Function  \\\n",
       "0       1         TGF-B signaling                              GDF11   \n",
       "8      46           Cell adhesion                            Nidogen   \n",
       "10     54           Cell adhesion                            Laminin   \n",
       "11     57           Wnt signaling                                Wnt   \n",
       "13     62  Neuronal communication  Organization of presynaptic sites   \n",
       "16    101           Wnt signaling                                Wnt   \n",
       "22    148      Hedgehog signaling                                IHH   \n",
       "23    155          Cell migration                         Semaphorin   \n",
       "24    156          Cell migration                         Semaphorin   \n",
       "26    168      Hedgehog signaling                                DHH   \n",
       "28    208         Notch signaling                                DLL   \n",
       "30    226          Cell migration                  BMP non-canonical   \n",
       "\n",
       "                      R Function  \\\n",
       "0                         BMPRIB   \n",
       "8                       LAR-RPTP   \n",
       "10                      Integrin   \n",
       "11                      Frizzled   \n",
       "13          Cholinergic Receptor   \n",
       "16                  Ryk/Derailed   \n",
       "22                         PTCH2   \n",
       "23  Plexin (semaphorin receptor)   \n",
       "24  Plexin (semaphorin receptor)   \n",
       "26                         PTCH1   \n",
       "28                         Notch   \n",
       "30                Immunoglobulin   \n",
       "\n",
       "                                          Ligand_desc  \\\n",
       "0   Is an ortholog of human GDF11 (growth differen...   \n",
       "8   Is an ortholog of human NID1 (nidogen 1) and N...   \n",
       "10  Is an ortholog of human LAMA5 (laminin subunit...   \n",
       "11  Is an ortholog of human WNT4 (Wnt family membe...   \n",
       "13  Is an ortholog of human RIMS1 (regulating syna...   \n",
       "16  Exhibits receptor tyrosine kinase binding acti...   \n",
       "22  Is an ortholog of human DHH (desert hedgehog s...   \n",
       "23  Is an ortholog of several human genes includin...   \n",
       "24  Is an ortholog of human SEMA6A (semaphorin 6A)...   \n",
       "26  Is predicted to have signaling receptor bindin...   \n",
       "28  Exhibits Notch binding activity. Is involved i...   \n",
       "30  Is an ortholog of human BMP3 (bone morphogenet...   \n",
       "\n",
       "                                        Receptor_desc  \n",
       "0   Is an ortholog of human BMPR1A (bone morphogen...  \n",
       "8   Is an ortholog of human PTPRD (protein tyrosin...  \n",
       "10  Is an ortholog of human ITGB1 (integrin subuni...  \n",
       "11  Is an ortholog of human FZD4 (frizzled class r...  \n",
       "13  Is an ortholog of several human genes includin...  \n",
       "16  Is an ortholog of human RYK (receptor like tyr...  \n",
       "22  Is an ortholog of human PTCH1 (patched 1) and ...  \n",
       "23  Is an ortholog of human PLXNA2 (plexin A2); PL...  \n",
       "24  Is an ortholog of human PLXNA2 (plexin A2); PL...  \n",
       "26  Is an ortholog of human PTCH1 (patched 1) and ...  \n",
       "28  Is an ortholog of human NOTCH1 (notch receptor...  \n",
       "30  Is an ortholog of human UNC5A (unc-5 netrin re...  "
      ]
     },
     "execution_count": 30,
     "metadata": {},
     "output_type": "execute_result"
    }
   ],
   "source": [
    "ga_lrs.loc[(ga_lrs.Ligand_symbol.isin(gene_list)) & (ga_lrs.Receptor_symbol.isin(gene_list))]"
   ]
  },
  {
   "cell_type": "code",
   "execution_count": null,
   "metadata": {},
   "outputs": [],
   "source": []
  }
 ],
 "metadata": {
  "kernelspec": {
   "display_name": "Python 3",
   "language": "python",
   "name": "python3"
  },
  "language_info": {
   "codemirror_mode": {
    "name": "ipython",
    "version": 3
   },
   "file_extension": ".py",
   "mimetype": "text/x-python",
   "name": "python",
   "nbconvert_exporter": "python",
   "pygments_lexer": "ipython3",
   "version": "3.8.5"
  }
 },
 "nbformat": 4,
 "nbformat_minor": 2
}
