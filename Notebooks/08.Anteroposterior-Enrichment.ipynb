{
 "cells": [
  {
   "cell_type": "code",
   "execution_count": 1,
   "metadata": {},
   "outputs": [],
   "source": [
    "import numpy as np\n",
    "import pandas as pd\n",
    "\n",
    "from collections import defaultdict\n",
    "\n",
    "import matplotlib.pyplot as plt\n",
    "import matplotlib as mpl\n",
    "import seaborn as sns\n",
    "from mpl_toolkits.mplot3d import Axes3D\n",
    "\n",
    "import itertools, scipy\n",
    "from sklearn.metrics.pairwise import euclidean_distances, manhattan_distances\n",
    "\n",
    "import cell2cell as c2c\n",
    "\n",
    "%matplotlib inline"
   ]
  },
  {
   "cell_type": "markdown",
   "metadata": {},
   "source": [
    "# 3D Map"
   ]
  },
  {
   "cell_type": "code",
   "execution_count": 2,
   "metadata": {},
   "outputs": [],
   "source": [
    "atlas = pd.read_csv('../Data/Digital-3D-Map/Celegans_L1_3D_Atlas_CellTypes.csv')\n",
    "atlas = atlas.loc[~atlas['Cell Type'].isnull()].reset_index(drop=True)"
   ]
  },
  {
   "cell_type": "code",
   "execution_count": 3,
   "metadata": {},
   "outputs": [
    {
     "data": {
      "text/html": [
       "<div>\n",
       "<style scoped>\n",
       "    .dataframe tbody tr th:only-of-type {\n",
       "        vertical-align: middle;\n",
       "    }\n",
       "\n",
       "    .dataframe tbody tr th {\n",
       "        vertical-align: top;\n",
       "    }\n",
       "\n",
       "    .dataframe thead th {\n",
       "        text-align: right;\n",
       "    }\n",
       "</style>\n",
       "<table border=\"1\" class=\"dataframe\">\n",
       "  <thead>\n",
       "    <tr style=\"text-align: right;\">\n",
       "      <th></th>\n",
       "      <th>Cell</th>\n",
       "      <th>Lineage Name</th>\n",
       "      <th>Description</th>\n",
       "      <th>Cell2</th>\n",
       "      <th>Name2</th>\n",
       "      <th>X</th>\n",
       "      <th>Y</th>\n",
       "      <th>Z</th>\n",
       "      <th>Cell Type</th>\n",
       "    </tr>\n",
       "  </thead>\n",
       "  <tbody>\n",
       "    <tr>\n",
       "      <th>0</th>\n",
       "      <td>ADEshL</td>\n",
       "      <td>AB arppaaaa</td>\n",
       "      <td>Anterior deirid sheath</td>\n",
       "      <td>ADESHL</td>\n",
       "      <td>ABARPPAAAA</td>\n",
       "      <td>11.134</td>\n",
       "      <td>84.340</td>\n",
       "      <td>12.852</td>\n",
       "      <td>Am/PH_sheath_cells</td>\n",
       "    </tr>\n",
       "    <tr>\n",
       "      <th>1</th>\n",
       "      <td>ADEshR</td>\n",
       "      <td>AB arpppaaa</td>\n",
       "      <td>Anterior deirid sheath</td>\n",
       "      <td>ADESHR</td>\n",
       "      <td>ABARPPPAAA</td>\n",
       "      <td>16.990</td>\n",
       "      <td>85.075</td>\n",
       "      <td>13.130</td>\n",
       "      <td>Am/PH_sheath_cells</td>\n",
       "    </tr>\n",
       "    <tr>\n",
       "      <th>2</th>\n",
       "      <td>ALML</td>\n",
       "      <td>AB.arppaappa</td>\n",
       "      <td>Anterior lateral microtubule cell, touch receptor</td>\n",
       "      <td>ALML</td>\n",
       "      <td>ABARPPAAPPA</td>\n",
       "      <td>11.759</td>\n",
       "      <td>120.005</td>\n",
       "      <td>16.090</td>\n",
       "      <td>Touch_receptor_neurons</td>\n",
       "    </tr>\n",
       "    <tr>\n",
       "      <th>3</th>\n",
       "      <td>ALMR</td>\n",
       "      <td>AB arpppappa</td>\n",
       "      <td>Anterior lateral microtubule cell, touch receptor</td>\n",
       "      <td>ALMR</td>\n",
       "      <td>ABARPPPAPPA</td>\n",
       "      <td>16.467</td>\n",
       "      <td>119.037</td>\n",
       "      <td>15.870</td>\n",
       "      <td>Touch_receptor_neurons</td>\n",
       "    </tr>\n",
       "    <tr>\n",
       "      <th>4</th>\n",
       "      <td>ALNL</td>\n",
       "      <td>AB plapappppap</td>\n",
       "      <td>Neuron associated with ALM</td>\n",
       "      <td>ALNL</td>\n",
       "      <td>ABPLAPAPPPPAP</td>\n",
       "      <td>12.884</td>\n",
       "      <td>199.753</td>\n",
       "      <td>15.437</td>\n",
       "      <td>Oxygen_sensory_neurons</td>\n",
       "    </tr>\n",
       "  </tbody>\n",
       "</table>\n",
       "</div>"
      ],
      "text/plain": [
       "     Cell    Lineage Name                                        Description  \\\n",
       "0  ADEshL     AB arppaaaa                             Anterior deirid sheath   \n",
       "1  ADEshR     AB arpppaaa                             Anterior deirid sheath   \n",
       "2    ALML    AB.arppaappa  Anterior lateral microtubule cell, touch receptor   \n",
       "3    ALMR    AB arpppappa  Anterior lateral microtubule cell, touch receptor   \n",
       "4    ALNL  AB plapappppap                         Neuron associated with ALM   \n",
       "\n",
       "    Cell2          Name2       X        Y       Z               Cell Type  \n",
       "0  ADESHL     ABARPPAAAA  11.134   84.340  12.852      Am/PH_sheath_cells  \n",
       "1  ADESHR     ABARPPPAAA  16.990   85.075  13.130      Am/PH_sheath_cells  \n",
       "2    ALML    ABARPPAAPPA  11.759  120.005  16.090  Touch_receptor_neurons  \n",
       "3    ALMR    ABARPPPAPPA  16.467  119.037  15.870  Touch_receptor_neurons  \n",
       "4    ALNL  ABPLAPAPPPPAP  12.884  199.753  15.437  Oxygen_sensory_neurons  "
      ]
     },
     "execution_count": 3,
     "metadata": {},
     "output_type": "execute_result"
    }
   ],
   "source": [
    "atlas.head()"
   ]
  },
  {
   "cell_type": "markdown",
   "metadata": {},
   "source": [
    "# Load LR list"
   ]
  },
  {
   "cell_type": "code",
   "execution_count": 4,
   "metadata": {},
   "outputs": [],
   "source": [
    "lr_pairs = pd.read_csv('../Data/PPI-Networks/Celegans-GA-Selected-LR-pairs.csv')"
   ]
  },
  {
   "cell_type": "code",
   "execution_count": 5,
   "metadata": {},
   "outputs": [],
   "source": [
    "lr_pairs = lr_pairs.sort_values(by=['LR Function', 'index'])"
   ]
  },
  {
   "cell_type": "code",
   "execution_count": 6,
   "metadata": {},
   "outputs": [
    {
     "data": {
      "text/html": [
       "<div>\n",
       "<style scoped>\n",
       "    .dataframe tbody tr th:only-of-type {\n",
       "        vertical-align: middle;\n",
       "    }\n",
       "\n",
       "    .dataframe tbody tr th {\n",
       "        vertical-align: top;\n",
       "    }\n",
       "\n",
       "    .dataframe thead th {\n",
       "        text-align: right;\n",
       "    }\n",
       "</style>\n",
       "<table border=\"1\" class=\"dataframe\">\n",
       "  <thead>\n",
       "    <tr style=\"text-align: right;\">\n",
       "      <th></th>\n",
       "      <th>Ligand_WB</th>\n",
       "      <th>Receptor_WB</th>\n",
       "      <th>Ligand_symbol</th>\n",
       "      <th>Receptor_symbol</th>\n",
       "      <th>score</th>\n",
       "      <th>index</th>\n",
       "      <th>LR Function</th>\n",
       "      <th>L Function</th>\n",
       "      <th>R Function</th>\n",
       "      <th>Ligand_desc</th>\n",
       "      <th>Receptor_desc</th>\n",
       "    </tr>\n",
       "  </thead>\n",
       "  <tbody>\n",
       "    <tr>\n",
       "      <th>1</th>\n",
       "      <td>WBGene00002881</td>\n",
       "      <td>WBGene00006894</td>\n",
       "      <td>let-756</td>\n",
       "      <td>ver-1</td>\n",
       "      <td>1.0</td>\n",
       "      <td>7</td>\n",
       "      <td>Canonical RTK-Ras-ERK signaling</td>\n",
       "      <td>FGF</td>\n",
       "      <td>fms-related tyrosine kinase 1</td>\n",
       "      <td>Is an ortholog of human FGF16 (fibroblast grow...</td>\n",
       "      <td>Is an ortholog of human FLT1 (fms related rece...</td>\n",
       "    </tr>\n",
       "    <tr>\n",
       "      <th>2</th>\n",
       "      <td>WBGene00000527</td>\n",
       "      <td>WBGene00001687</td>\n",
       "      <td>cle-1</td>\n",
       "      <td>gpn-1</td>\n",
       "      <td>1.0</td>\n",
       "      <td>13</td>\n",
       "      <td>Cell adhesion</td>\n",
       "      <td>Collagen</td>\n",
       "      <td>Glypican (co-receptor) Frizzled homolog</td>\n",
       "      <td>Is an ortholog of human COL15A1 (collagen type...</td>\n",
       "      <td>Is an ortholog of human GPC1 (glypican 1) and ...</td>\n",
       "    </tr>\n",
       "    <tr>\n",
       "      <th>3</th>\n",
       "      <td>WBGene00002280</td>\n",
       "      <td>WBGene00003930</td>\n",
       "      <td>let-2</td>\n",
       "      <td>pat-3</td>\n",
       "      <td>1.0</td>\n",
       "      <td>26</td>\n",
       "      <td>Cell adhesion</td>\n",
       "      <td>Collagen</td>\n",
       "      <td>Integrin</td>\n",
       "      <td>Is an ortholog of human COL4A5 (collagen type ...</td>\n",
       "      <td>Is an ortholog of human ITGB1 (integrin subuni...</td>\n",
       "    </tr>\n",
       "    <tr>\n",
       "      <th>6</th>\n",
       "      <td>WBGene00000674</td>\n",
       "      <td>WBGene00016104</td>\n",
       "      <td>col-99</td>\n",
       "      <td>ddr-1</td>\n",
       "      <td>1.0</td>\n",
       "      <td>35</td>\n",
       "      <td>Cell adhesion</td>\n",
       "      <td>Collagen</td>\n",
       "      <td>Discoidin domain receptor</td>\n",
       "      <td>Is an ortholog of human COL13A1 (collagen type...</td>\n",
       "      <td>Is an ortholog of human DDR1 (discoidin domain...</td>\n",
       "    </tr>\n",
       "    <tr>\n",
       "      <th>8</th>\n",
       "      <td>WBGene00003738</td>\n",
       "      <td>WBGene00004215</td>\n",
       "      <td>nid-1</td>\n",
       "      <td>ptp-3</td>\n",
       "      <td>1.0</td>\n",
       "      <td>46</td>\n",
       "      <td>Cell adhesion</td>\n",
       "      <td>Nidogen</td>\n",
       "      <td>LAR-RPTP</td>\n",
       "      <td>Is an ortholog of human NID1 (nidogen 1) and N...</td>\n",
       "      <td>Is an ortholog of human PTPRD (protein tyrosin...</td>\n",
       "    </tr>\n",
       "  </tbody>\n",
       "</table>\n",
       "</div>"
      ],
      "text/plain": [
       "        Ligand_WB     Receptor_WB Ligand_symbol Receptor_symbol  score  index  \\\n",
       "1  WBGene00002881  WBGene00006894       let-756           ver-1    1.0      7   \n",
       "2  WBGene00000527  WBGene00001687         cle-1           gpn-1    1.0     13   \n",
       "3  WBGene00002280  WBGene00003930         let-2           pat-3    1.0     26   \n",
       "6  WBGene00000674  WBGene00016104        col-99           ddr-1    1.0     35   \n",
       "8  WBGene00003738  WBGene00004215         nid-1           ptp-3    1.0     46   \n",
       "\n",
       "                       LR Function L Function  \\\n",
       "1  Canonical RTK-Ras-ERK signaling        FGF   \n",
       "2                    Cell adhesion   Collagen   \n",
       "3                    Cell adhesion   Collagen   \n",
       "6                    Cell adhesion   Collagen   \n",
       "8                    Cell adhesion    Nidogen   \n",
       "\n",
       "                                R Function  \\\n",
       "1            fms-related tyrosine kinase 1   \n",
       "2  Glypican (co-receptor) Frizzled homolog   \n",
       "3                                 Integrin   \n",
       "6                Discoidin domain receptor   \n",
       "8                                 LAR-RPTP   \n",
       "\n",
       "                                         Ligand_desc  \\\n",
       "1  Is an ortholog of human FGF16 (fibroblast grow...   \n",
       "2  Is an ortholog of human COL15A1 (collagen type...   \n",
       "3  Is an ortholog of human COL4A5 (collagen type ...   \n",
       "6  Is an ortholog of human COL13A1 (collagen type...   \n",
       "8  Is an ortholog of human NID1 (nidogen 1) and N...   \n",
       "\n",
       "                                       Receptor_desc  \n",
       "1  Is an ortholog of human FLT1 (fms related rece...  \n",
       "2  Is an ortholog of human GPC1 (glypican 1) and ...  \n",
       "3  Is an ortholog of human ITGB1 (integrin subuni...  \n",
       "6  Is an ortholog of human DDR1 (discoidin domain...  \n",
       "8  Is an ortholog of human PTPRD (protein tyrosin...  "
      ]
     },
     "execution_count": 6,
     "metadata": {},
     "output_type": "execute_result"
    }
   ],
   "source": [
    "lr_pairs.head()"
   ]
  },
  {
   "cell_type": "markdown",
   "metadata": {},
   "source": [
    "# LR information"
   ]
  },
  {
   "cell_type": "code",
   "execution_count": 7,
   "metadata": {},
   "outputs": [],
   "source": [
    "labels_dict = dict()\n",
    "for pair in lr_pairs.iterrows():\n",
    "    original = (pair[1]['Ligand_WB'], pair[1]['Receptor_WB'])\n",
    "    new = pair[1]['Ligand_symbol']+' / '+pair[1]['Receptor_symbol']\n",
    "    labels_dict[original] = new "
   ]
  },
  {
   "cell_type": "code",
   "execution_count": 8,
   "metadata": {},
   "outputs": [],
   "source": [
    "functions = ['Cell migration', 'Wnt signaling', 'Cell adhesion', 'Notch signaling',\n",
    "       'Insulin signaling', 'TGF-B signaling', 'Hedgehog signaling',\n",
    "       'Mechanosensory mechanism', 'Canonical RTK-Ras-ERK signaling',\n",
    "       'Neuronal communication', 'Eph receptor signaling',\n",
    "       'Epidermal development', 'Lipid homeostasis', 'Immune response',\n",
    "       'Trypsin-like proteolysis', 'Longevity', 'PCP pathway',\n",
    "       'Receptor-Mediated-Endocytosis', 'Stress response', 'Apoptosis']\n",
    "function_colors = c2c.plotting.get_colors_from_labels(functions, cmap='tab20')\n",
    "\n",
    "func_color_dict = dict()\n",
    "row_cols = []\n",
    "for idx, row in lr_pairs.iterrows():\n",
    "    name = str(row['Ligand_symbol']) + ' / ' + str(row['Receptor_symbol'])\n",
    "    func = str(row['LR Function'])\n",
    "    func_color_dict[name] = function_colors[func]\n",
    "    row_cols.append((name, function_colors[func]))\n",
    "row_cols = pd.DataFrame.from_records(row_cols, columns=['LR', 'Function']).set_index('LR')"
   ]
  },
  {
   "cell_type": "markdown",
   "metadata": {},
   "source": [
    "# Cell-Cell Interactions"
   ]
  },
  {
   "cell_type": "markdown",
   "metadata": {},
   "source": [
    "**Setups**"
   ]
  },
  {
   "cell_type": "code",
   "execution_count": 9,
   "metadata": {},
   "outputs": [],
   "source": [
    "data_folder = '../Data/'"
   ]
  },
  {
   "cell_type": "code",
   "execution_count": 10,
   "metadata": {},
   "outputs": [],
   "source": [
    "files = dict()\n",
    "files['rnaseq'] = data_folder + '/RNA-Seq/Celegans_RNASeqData_Cell.xlsx'\n",
    "files['metadata'] = data_folder + '/RNA-Seq/Celegans_cell_metadata.tsv'\n",
    "files['ppi'] = data_folder + '/PPI-Networks/Celegans-GA-Selected-LR-pairs.csv'\n",
    "files['phenotype'] = data_folder + '/Digital-3D-Map/Celegans_Physical_Distances_Min.csv'\n",
    "files['output_folder'] = '../Figures/'"
   ]
  },
  {
   "cell_type": "code",
   "execution_count": 11,
   "metadata": {},
   "outputs": [],
   "source": [
    "rnaseq_setup = dict()\n",
    "rnaseq_setup['gene_col'] = 'gene_id'\n",
    "rnaseq_setup['drop_nangenes'] = True\n",
    "rnaseq_setup['log_transform'] = False\n",
    "\n",
    "meta_setup = dict()\n",
    "meta_setup['sample_col'] = '#SampleID'\n",
    "meta_setup['group_col'] = 'Groups'\n",
    "\n",
    "ppi_setup = dict()\n",
    "ppi_setup['protein_cols'] = ['Ligand', 'Receptor']\n",
    "\n",
    "cutoff_setup = dict()\n",
    "cutoff_setup['type'] = 'constant_value'\n",
    "cutoff_setup['parameter'] = 10 # TPM\n",
    "\n",
    "analysis_setup = dict()\n",
    "analysis_setup['communication_score'] = 'expression_thresholding'\n",
    "analysis_setup['cci_score'] = 'bray_curtis'\n",
    "analysis_setup['cci_type'] = 'undirected'"
   ]
  },
  {
   "cell_type": "markdown",
   "metadata": {},
   "source": [
    "**RNA-seq**"
   ]
  },
  {
   "cell_type": "code",
   "execution_count": 12,
   "metadata": {},
   "outputs": [
    {
     "name": "stdout",
     "output_type": "stream",
     "text": [
      "Opening RNAseq datasets from ../Data//RNA-Seq/Celegans_RNASeqData_Cell.xlsx\n",
      "../Data//RNA-Seq/Celegans_RNASeqData_Cell.xlsx was correctly loaded\n"
     ]
    }
   ],
   "source": [
    "rnaseq_data = c2c.io.load_rnaseq(rnaseq_file=files['rnaseq'],\n",
    "                                 gene_column=rnaseq_setup['gene_col'],\n",
    "                                 drop_nangenes=rnaseq_setup['drop_nangenes'],\n",
    "                                 log_transformation=rnaseq_setup['log_transform'],\n",
    "                                 format='auto')"
   ]
  },
  {
   "cell_type": "markdown",
   "metadata": {},
   "source": [
    "**Metadata**"
   ]
  },
  {
   "cell_type": "code",
   "execution_count": 13,
   "metadata": {},
   "outputs": [
    {
     "name": "stdout",
     "output_type": "stream",
     "text": [
      "../Data//RNA-Seq/Celegans_cell_metadata.tsv was correctly loaded\n"
     ]
    }
   ],
   "source": [
    "meta = c2c.io.load_metadata(metadata_file=files['metadata'],\n",
    "                            rnaseq_data=rnaseq_data,\n",
    "                            sample_col=meta_setup['sample_col'],\n",
    "                            format='auto')"
   ]
  },
  {
   "cell_type": "markdown",
   "metadata": {},
   "source": [
    "**PPI Network**"
   ]
  },
  {
   "cell_type": "code",
   "execution_count": 14,
   "metadata": {},
   "outputs": [
    {
     "name": "stdout",
     "output_type": "stream",
     "text": [
      "Opening PPI datasets from ../Data//PPI-Networks/Celegans-GA-Selected-LR-pairs.csv\n",
      "../Data//PPI-Networks/Celegans-GA-Selected-LR-pairs.csv was correctly loaded\n",
      "Removing bidirectionality of PPI network\n",
      "Simplying PPI network\n"
     ]
    }
   ],
   "source": [
    "ppi_data = c2c.io.load_ppi(ppi_file=files['ppi'] ,\n",
    "                           interaction_columns=['Ligand_WB', 'Receptor_WB'],\n",
    "                           sort_values=['LR Function', 'index'],\n",
    "                           #score='score',\n",
    "                           format='auto')"
   ]
  },
  {
   "cell_type": "code",
   "execution_count": 15,
   "metadata": {},
   "outputs": [
    {
     "name": "stdout",
     "output_type": "stream",
     "text": [
      "Ligands: 30\n",
      "Receptors: 29\n",
      "Pairs: 37\n"
     ]
    }
   ],
   "source": [
    "print('Ligands: {}\\nReceptors: {}\\nPairs: {}'.format(len(ppi_data['A'].unique()),\n",
    "                                                     len(ppi_data['B'].unique()),\n",
    "                                                     len(ppi_data[['A', 'B']].values)\n",
    "                                                    )\n",
    "     )"
   ]
  },
  {
   "cell_type": "markdown",
   "metadata": {},
   "source": [
    "**Analysis**"
   ]
  },
  {
   "cell_type": "code",
   "execution_count": 16,
   "metadata": {},
   "outputs": [],
   "source": [
    "interaction_space = c2c.analysis.basic_pipeline(rnaseq_data=rnaseq_data,\n",
    "                                                ppi_data=ppi_data,\n",
    "                                                cutoff_setup=cutoff_setup,\n",
    "                                                analysis_setup=analysis_setup,\n",
    "                                                verbose=False)"
   ]
  },
  {
   "cell_type": "code",
   "execution_count": 17,
   "metadata": {},
   "outputs": [],
   "source": [
    "interaction_space.compute_pairwise_communication_scores(verbose=False,\n",
    "                                                        ref_ppi_data=ppi_data,\n",
    "                                                        cci_type='directed')\n",
    "interaction_matrix = interaction_space.interaction_elements['communication_matrix']"
   ]
  },
  {
   "cell_type": "code",
   "execution_count": 18,
   "metadata": {},
   "outputs": [],
   "source": [
    "interaction_matrix.index = interaction_matrix.index.map(labels_dict)"
   ]
  },
  {
   "cell_type": "markdown",
   "metadata": {},
   "source": [
    "# Body sections of *C. elegans*"
   ]
  },
  {
   "cell_type": "markdown",
   "metadata": {},
   "source": [
    "**Assign Major Cell type to each Cell type**"
   ]
  },
  {
   "cell_type": "code",
   "execution_count": 19,
   "metadata": {},
   "outputs": [],
   "source": [
    "atlas['Major Cell Type'] = atlas['Cell Type'].apply(lambda x: meta.loc[meta['#SampleID'] == x] \\\n",
    "                                                                  ['Groups'].values[0])"
   ]
  },
  {
   "cell_type": "markdown",
   "metadata": {},
   "source": [
    "## Antero-posterior"
   ]
  },
  {
   "cell_type": "code",
   "execution_count": 20,
   "metadata": {},
   "outputs": [],
   "source": [
    "worm_length = atlas['Y'].max() - atlas['Y'].min()"
   ]
  },
  {
   "cell_type": "code",
   "execution_count": 21,
   "metadata": {},
   "outputs": [
    {
     "name": "stdout",
     "output_type": "stream",
     "text": [
      "The length of the worm is 205 um\n"
     ]
    }
   ],
   "source": [
    "print('The length of the worm is {} um'.format(int(worm_length)))"
   ]
  },
  {
   "cell_type": "code",
   "execution_count": 22,
   "metadata": {},
   "outputs": [],
   "source": [
    "plane_number = 9 # Number of bins = plane_number - 1"
   ]
  },
  {
   "cell_type": "markdown",
   "metadata": {},
   "source": [
    "**Coordinates Information**"
   ]
  },
  {
   "cell_type": "code",
   "execution_count": 23,
   "metadata": {},
   "outputs": [],
   "source": [
    "min_y = atlas['Y'].min()\n",
    "max_y = atlas['Y'].max()\n",
    "range_y =  max_y - min_y"
   ]
  },
  {
   "cell_type": "code",
   "execution_count": 24,
   "metadata": {},
   "outputs": [
    {
     "name": "stdout",
     "output_type": "stream",
     "text": [
      "Min position in Y-axis: 16.674\n",
      "Max position in Y-axis: 221.96599999999998\n",
      "Range in Y-axis: 205.29199999999997\n"
     ]
    }
   ],
   "source": [
    "print('Min position in Y-axis: {}'.format(min_y))\n",
    "print('Max position in Y-axis: {}'.format(max_y))\n",
    "print('Range in Y-axis: {}'.format(range_y))"
   ]
  },
  {
   "cell_type": "markdown",
   "metadata": {},
   "source": [
    "**Generate Bins**"
   ]
  },
  {
   "cell_type": "code",
   "execution_count": 25,
   "metadata": {},
   "outputs": [
    {
     "data": {
      "image/png": "[encoded data removed]",
      "text/plain": [
       "<Figure size 432x288 with 1 Axes>"
      ]
     },
     "metadata": {
      "needs_background": "light"
     },
     "output_type": "display_data"
    }
   ],
   "source": [
    "counts = plt.hist(atlas['Y'].values, \n",
    "                  bins=[min_y, 84, 189, max_y]\n",
    "                  #bins=plane_number-1\n",
    "                 )"
   ]
  },
  {
   "cell_type": "code",
   "execution_count": 26,
   "metadata": {},
   "outputs": [],
   "source": [
    "counts[1][-1] += 1.0"
   ]
  },
  {
   "cell_type": "code",
   "execution_count": 27,
   "metadata": {},
   "outputs": [
    {
     "data": {
      "text/plain": [
       "count    332.000000\n",
       "mean      13.028699\n",
       "std        2.578641\n",
       "min        8.259000\n",
       "25%       11.123250\n",
       "50%       12.818000\n",
       "75%       15.157500\n",
       "max       18.027000\n",
       "Name: Z, dtype: float64"
      ]
     },
     "execution_count": 27,
     "metadata": {},
     "output_type": "execute_result"
    }
   ],
   "source": [
    "atlas['Z'].describe()"
   ]
  },
  {
   "cell_type": "markdown",
   "metadata": {},
   "source": [
    "**Assign Bins**"
   ]
  },
  {
   "cell_type": "code",
   "execution_count": 28,
   "metadata": {},
   "outputs": [],
   "source": [
    "mid_point_z = (atlas['Z'].max() - atlas['Z'].min())/2.0 +  atlas['Z'].min()"
   ]
  },
  {
   "cell_type": "code",
   "execution_count": 29,
   "metadata": {},
   "outputs": [],
   "source": [
    "atlas['Bins'] = np.digitize(atlas['Y'].values, counts[1], right=False)    "
   ]
  },
  {
   "cell_type": "code",
   "execution_count": 30,
   "metadata": {},
   "outputs": [],
   "source": [
    "atlas['Bins_dorsoventral'] = atlas.apply(lambda row: str(row['Bins']) + '_d' if row['Z'] <= mid_point_z \\\n",
    "                                         else str(row['Bins']) + '_v',\n",
    "                                         axis=1)"
   ]
  },
  {
   "cell_type": "code",
   "execution_count": 31,
   "metadata": {},
   "outputs": [
    {
     "data": {
      "text/html": [
       "<div>\n",
       "<style scoped>\n",
       "    .dataframe tbody tr th:only-of-type {\n",
       "        vertical-align: middle;\n",
       "    }\n",
       "\n",
       "    .dataframe tbody tr th {\n",
       "        vertical-align: top;\n",
       "    }\n",
       "\n",
       "    .dataframe thead th {\n",
       "        text-align: right;\n",
       "    }\n",
       "</style>\n",
       "<table border=\"1\" class=\"dataframe\">\n",
       "  <thead>\n",
       "    <tr style=\"text-align: right;\">\n",
       "      <th></th>\n",
       "      <th>Cell</th>\n",
       "      <th>Lineage Name</th>\n",
       "      <th>Description</th>\n",
       "      <th>Cell2</th>\n",
       "      <th>Name2</th>\n",
       "      <th>X</th>\n",
       "      <th>Y</th>\n",
       "      <th>Z</th>\n",
       "      <th>Cell Type</th>\n",
       "      <th>Major Cell Type</th>\n",
       "      <th>Bins</th>\n",
       "      <th>Bins_dorsoventral</th>\n",
       "    </tr>\n",
       "  </thead>\n",
       "  <tbody>\n",
       "    <tr>\n",
       "      <th>0</th>\n",
       "      <td>ADEshL</td>\n",
       "      <td>AB arppaaaa</td>\n",
       "      <td>Anterior deirid sheath</td>\n",
       "      <td>ADESHL</td>\n",
       "      <td>ABARPPAAAA</td>\n",
       "      <td>11.134</td>\n",
       "      <td>84.340</td>\n",
       "      <td>12.852</td>\n",
       "      <td>Am/PH_sheath_cells</td>\n",
       "      <td>Excretory/Socket/Sheath cells</td>\n",
       "      <td>2</td>\n",
       "      <td>2_d</td>\n",
       "    </tr>\n",
       "    <tr>\n",
       "      <th>1</th>\n",
       "      <td>ADEshR</td>\n",
       "      <td>AB arpppaaa</td>\n",
       "      <td>Anterior deirid sheath</td>\n",
       "      <td>ADESHR</td>\n",
       "      <td>ABARPPPAAA</td>\n",
       "      <td>16.990</td>\n",
       "      <td>85.075</td>\n",
       "      <td>13.130</td>\n",
       "      <td>Am/PH_sheath_cells</td>\n",
       "      <td>Excretory/Socket/Sheath cells</td>\n",
       "      <td>2</td>\n",
       "      <td>2_d</td>\n",
       "    </tr>\n",
       "    <tr>\n",
       "      <th>2</th>\n",
       "      <td>ALML</td>\n",
       "      <td>AB.arppaappa</td>\n",
       "      <td>Anterior lateral microtubule cell, touch receptor</td>\n",
       "      <td>ALML</td>\n",
       "      <td>ABARPPAAPPA</td>\n",
       "      <td>11.759</td>\n",
       "      <td>120.005</td>\n",
       "      <td>16.090</td>\n",
       "      <td>Touch_receptor_neurons</td>\n",
       "      <td>Neurons</td>\n",
       "      <td>2</td>\n",
       "      <td>2_v</td>\n",
       "    </tr>\n",
       "    <tr>\n",
       "      <th>3</th>\n",
       "      <td>ALMR</td>\n",
       "      <td>AB arpppappa</td>\n",
       "      <td>Anterior lateral microtubule cell, touch receptor</td>\n",
       "      <td>ALMR</td>\n",
       "      <td>ABARPPPAPPA</td>\n",
       "      <td>16.467</td>\n",
       "      <td>119.037</td>\n",
       "      <td>15.870</td>\n",
       "      <td>Touch_receptor_neurons</td>\n",
       "      <td>Neurons</td>\n",
       "      <td>2</td>\n",
       "      <td>2_v</td>\n",
       "    </tr>\n",
       "    <tr>\n",
       "      <th>4</th>\n",
       "      <td>ALNL</td>\n",
       "      <td>AB plapappppap</td>\n",
       "      <td>Neuron associated with ALM</td>\n",
       "      <td>ALNL</td>\n",
       "      <td>ABPLAPAPPPPAP</td>\n",
       "      <td>12.884</td>\n",
       "      <td>199.753</td>\n",
       "      <td>15.437</td>\n",
       "      <td>Oxygen_sensory_neurons</td>\n",
       "      <td>Neurons</td>\n",
       "      <td>3</td>\n",
       "      <td>3_v</td>\n",
       "    </tr>\n",
       "  </tbody>\n",
       "</table>\n",
       "</div>"
      ],
      "text/plain": [
       "     Cell    Lineage Name                                        Description  \\\n",
       "0  ADEshL     AB arppaaaa                             Anterior deirid sheath   \n",
       "1  ADEshR     AB arpppaaa                             Anterior deirid sheath   \n",
       "2    ALML    AB.arppaappa  Anterior lateral microtubule cell, touch receptor   \n",
       "3    ALMR    AB arpppappa  Anterior lateral microtubule cell, touch receptor   \n",
       "4    ALNL  AB plapappppap                         Neuron associated with ALM   \n",
       "\n",
       "    Cell2          Name2       X        Y       Z               Cell Type  \\\n",
       "0  ADESHL     ABARPPAAAA  11.134   84.340  12.852      Am/PH_sheath_cells   \n",
       "1  ADESHR     ABARPPPAAA  16.990   85.075  13.130      Am/PH_sheath_cells   \n",
       "2    ALML    ABARPPAAPPA  11.759  120.005  16.090  Touch_receptor_neurons   \n",
       "3    ALMR    ABARPPPAPPA  16.467  119.037  15.870  Touch_receptor_neurons   \n",
       "4    ALNL  ABPLAPAPPPPAP  12.884  199.753  15.437  Oxygen_sensory_neurons   \n",
       "\n",
       "                 Major Cell Type  Bins Bins_dorsoventral  \n",
       "0  Excretory/Socket/Sheath cells     2               2_d  \n",
       "1  Excretory/Socket/Sheath cells     2               2_d  \n",
       "2                        Neurons     2               2_v  \n",
       "3                        Neurons     2               2_v  \n",
       "4                        Neurons     3               3_v  "
      ]
     },
     "execution_count": 31,
     "metadata": {},
     "output_type": "execute_result"
    }
   ],
   "source": [
    "atlas.head()"
   ]
  },
  {
   "cell_type": "markdown",
   "metadata": {},
   "source": [
    "**Extract Spatial use of LRs**"
   ]
  },
  {
   "cell_type": "code",
   "execution_count": null,
   "metadata": {
    "scrolled": true
   },
   "outputs": [],
   "source": [
    "lr_list = interaction_matrix.index #.map(labels_dict)\n",
    "spatial_lr = pd.DataFrame(index=lr_list)\n",
    "spatial_enr = pd.DataFrame(index=lr_list)\n",
    "\n",
    "bin_interactions = dict()\n",
    "for group, df in atlas.groupby('Bins'):\n",
    "    # Get pairwise interactions per bin\n",
    "    cells = df['Cell Type'].values.tolist()\n",
    "    #bin_interactions['Bin-{}'.format(group)] = list(itertools.product(cells, cells))\n",
    "    bin_interactions['Bin-{}'.format(group)] = c2c.core.interaction_space.generate_pairs(cells=cells,\n",
    "                                                                                         cci_type='directed',\n",
    "                                                                                         self_interaction=True,\n",
    "                                                                                         remove_duplicates=False\n",
    "                                                                                        )\n",
    "    # Extract active interactions per bin\n",
    "    tmp_df = pd.DataFrame()\n",
    "    for interaction in bin_interactions['Bin-{}'.format(group)]:\n",
    "        tmp_df = pd.concat([tmp_df, interaction_matrix.loc[:, interaction[0]+';'+interaction[1]]], axis=1)\n",
    "    if len(tmp_df) != 0:\n",
    "        spatial_lr['Bin-{}'.format(group)] = tmp_df.mean(axis=1).values\n",
    "        spatial_enr['Bin-{}'.format(group)] = tmp_df.sum(axis=1).values\n",
    "    else:\n",
    "        spatial_lr['Bin-{}'.format(group)] = [0]*len(lr_list)\n",
    "        spatial_enr['Bin-{}'.format(group)] = [0]*len(lr_list)"
   ]
  },
  {
   "cell_type": "markdown",
   "metadata": {},
   "source": [
    "**Compute LR enrichment per bin**"
   ]
  },
  {
   "cell_type": "code",
   "execution_count": null,
   "metadata": {},
   "outputs": [],
   "source": [
    "across_body = True # Enrichment across body (True) or across bins (False)\n",
    "\n",
    "if across_body:\n",
    "    N = sum([len(v) for v in bin_interactions.values()])\n",
    "\n",
    "    active_lrs = spatial_enr.sum(axis=1).to_dict()\n",
    "\n",
    "    spatial_pvals = spatial_enr.copy()\n",
    "    spatial_pvals2 = spatial_enr.copy()\n",
    "\n",
    "    n = dict()\n",
    "    for k, v in bin_interactions.items():\n",
    "        n[k] = len(v)\n",
    "\n",
    "        def row_fn(row):\n",
    "            return c2c.stats.fisher_representation(n[k], row[k], N, active_lrs[row.name])\n",
    "        spatial_pvals[k] = spatial_enr.apply(lambda x: row_fn(x)['pval'][1], axis=1)\n",
    "        spatial_pvals2[k] = spatial_enr.apply(lambda x: row_fn(x)['pval'][0], axis=1)\n",
    "else:\n",
    "    N = spatial_enr.sum(axis=1).sum()\n",
    "\n",
    "    active_lrs = spatial_enr.sum(axis=1).to_dict()\n",
    "\n",
    "    spatial_pvals = spatial_enr.copy()\n",
    "    spatial_pvals2 = spatial_enr.copy()\n",
    "\n",
    "    n = dict()\n",
    "    for k, v in bin_interactions.items():\n",
    "        n[k] = spatial_enr.sum(axis=0)[k]\n",
    "\n",
    "        def row_fn(row):\n",
    "            return c2c.stats.fisher_representation(n[k], row[k], N, active_lrs[row.name])\n",
    "        spatial_pvals[k] = spatial_enr.apply(lambda x: row_fn(x)['pval'][1], axis=1)\n",
    "        spatial_pvals2[k] = spatial_enr.apply(lambda x: row_fn(x)['pval'][0], axis=1)"
   ]
  },
  {
   "cell_type": "code",
   "execution_count": null,
   "metadata": {},
   "outputs": [],
   "source": [
    "# Number of pairs of cells using each LR pair per bin\n",
    "spatial_enr.head()"
   ]
  },
  {
   "cell_type": "code",
   "execution_count": null,
   "metadata": {},
   "outputs": [],
   "source": [
    "#  Number of pairs of cells per Bin\n",
    "n"
   ]
  },
  {
   "cell_type": "markdown",
   "metadata": {},
   "source": [
    "**FDR correction**"
   ]
  },
  {
   "cell_type": "code",
   "execution_count": null,
   "metadata": {},
   "outputs": [],
   "source": [
    "from statsmodels.stats.multitest import fdrcorrection"
   ]
  },
  {
   "cell_type": "code",
   "execution_count": null,
   "metadata": {},
   "outputs": [],
   "source": [
    "fdr = 0.01"
   ]
  },
  {
   "cell_type": "code",
   "execution_count": null,
   "metadata": {},
   "outputs": [],
   "source": [
    "rej, adj_pvals = fdrcorrection(spatial_pvals.values.flatten(), alpha=fdr)"
   ]
  },
  {
   "cell_type": "code",
   "execution_count": null,
   "metadata": {},
   "outputs": [],
   "source": [
    "spatial_pvals = pd.DataFrame(adj_pvals.reshape(spatial_pvals.shape),\n",
    "                             index=spatial_pvals.index,\n",
    "                             columns=spatial_pvals.columns)"
   ]
  },
  {
   "cell_type": "code",
   "execution_count": null,
   "metadata": {},
   "outputs": [],
   "source": [
    "rej2, adj_pvals2 = fdrcorrection(spatial_pvals2.values.flatten(), alpha=fdr)"
   ]
  },
  {
   "cell_type": "code",
   "execution_count": null,
   "metadata": {},
   "outputs": [],
   "source": [
    "spatial_pvals2 = pd.DataFrame(adj_pvals2.reshape(spatial_pvals2.shape),\n",
    "                             index=spatial_pvals2.index,\n",
    "                             columns=spatial_pvals2.columns)"
   ]
  },
  {
   "cell_type": "code",
   "execution_count": null,
   "metadata": {},
   "outputs": [],
   "source": [
    "raw_pval = False\n",
    "if raw_pval == False:\n",
    "    for k in bin_interactions.keys():\n",
    "        spatial_pvals[k] = spatial_pvals[k].apply(lambda x: 1 if x < fdr else 0)\n",
    "        spatial_pvals2[k] = spatial_pvals2[k].apply(lambda x: -1. if x < fdr else 0)\n",
    "else:\n",
    "    for k in bin_interactions.keys():\n",
    "        spatial_pvals[k] = spatial_pvals[k].apply(lambda x: -1*np.log10(x) if x != 0 else -1*np.log10(1e-6))\n",
    "        spatial_pvals2[k] = spatial_pvals2[k].apply(lambda x: -1*np.log10(x) if x != 0 else -1*np.log10(1e-6))"
   ]
  },
  {
   "cell_type": "markdown",
   "metadata": {},
   "source": [
    "# Visualization"
   ]
  },
  {
   "cell_type": "code",
   "execution_count": null,
   "metadata": {},
   "outputs": [],
   "source": [
    "# Colors from figure S14 in C elegans paper (cell type expression data)\n",
    "lut = {'Coelomocytes': (0.6509803921568628, 0.33725490196078434, 0.1568627450980392), # Brown\n",
    "       'Neurons': (0.596078431372549, 0.3058823529411765, 0.6392156862745098), # Purple\n",
    "       'Hypodermal/rectal cells': (0.30196078431372547, 0.6862745098039216, 0.2901960784313726), # Green\n",
    "       'Pharyngeal cells': (0.21568627450980393, 0.49411764705882355, 0.7215686274509804), # Blue\n",
    "       'Intestine': (1.0, 1.0, 0.2), # Yellow\n",
    "       'Body/muscular cells': (0.8941176470588236, 0.10196078431372549, 0.10980392156862745), # Red\n",
    "       'Excretory/Socket/Sheath cells': (1.0, 0.4980392156862745, 0.0), # Orange\n",
    "       'Sexual cells': (0.9686274509803922, 0.5058823529411764, 0.7490196078431373)} # Pink"
   ]
  },
  {
   "cell_type": "code",
   "execution_count": null,
   "metadata": {},
   "outputs": [],
   "source": [
    "fontname = 'Lato'\n",
    "tick_size = 12\n",
    "axis_size = 16\n",
    "legend_size = 14\n",
    "\n",
    "inline_rc = dict(mpl.rcParams)\n",
    "#plt.rcParams[\"font.family\"] = fontname"
   ]
  },
  {
   "cell_type": "markdown",
   "metadata": {},
   "source": [
    "**Worm & Bins Visualization**"
   ]
  },
  {
   "cell_type": "code",
   "execution_count": null,
   "metadata": {},
   "outputs": [],
   "source": [
    "mask = []\n",
    "\n",
    "NUM_COLORS = len(atlas['Cell Type'].unique())\n",
    "cm = plt.get_cmap('tab20') # gist_rainbow\n",
    "fig = plt.figure(figsize=(10, 4.5))\n",
    "ax = fig.add_subplot(111, projection='3d')\n",
    "\n",
    "\n",
    "xx, zz = np.meshgrid(range(41), range(41))\n",
    "for bin_val in counts[1]:\n",
    "    ax.plot_surface(xx, bin_val, zz, alpha=0.2, color='red')\n",
    "\n",
    "# PLOT BY CELL TYPES\n",
    "#for i, cell in enumerate(atlas['Cell Type'].unique()):\n",
    "#    if cell not in mask:\n",
    "#        cell_type = atlas.loc[atlas['Cell Type'] == cell]\n",
    "#        ax.scatter(cell_type['X'], cell_type['Y'], cell_type['Z'], color=cm(1.*i/NUM_COLORS), s=60, label=cell)\n",
    "\n",
    "# PLOT BY CELL GROUPS\n",
    "for i, cell_type in enumerate(sorted(meta['Groups'].unique())):\n",
    "    cells = meta.loc[meta.Groups == cell_type]['#SampleID'].values\n",
    "    cell_cords = atlas.loc[atlas['Cell Type'].isin(cells)]\n",
    "    ax.scatter(cell_cords['X'],\n",
    "               cell_cords['Y'],\n",
    "               cell_cords['Z'],\n",
    "               color=lut[cell_type],\n",
    "               s=60,\n",
    "               label=cell_type,\n",
    "               alpha=0.6)\n",
    "\n",
    "             \n",
    "ax.set_xlim((0, 40))\n",
    "ax.set_ylim((min_y, max_y)) # (0, 300)\n",
    "ax.set_zlim((0, 40))\n",
    "\n",
    "\n",
    "ax.set_xlabel('X', fontsize=axis_size)\n",
    "ax.set_ylabel('Y', fontsize=axis_size)\n",
    "ax.set_zlabel('Z', fontsize=axis_size)\n",
    "\n",
    "#ax.grid(False)\n",
    "ax.set_xticks([])\n",
    "ax.set_yticks([])\n",
    "ax.set_zticks([])\n",
    "#ax.set_xticklabels(ax.get_xmajorticklabels(), fontsize = tick_size)\n",
    "\n",
    "ax.view_init(10, 0.5)\n",
    "lgd = ax.legend(loc='upper right', bbox_to_anchor=(1.85, 1.025),\n",
    "                ncol=2, fancybox=True, shadow=True, fontsize=legend_size)\n",
    "\n",
    "mpl.rcParams.update(inline_rc)\n",
    "plt.savefig('../Figures/Celegans-3D-Atlas-Dissected.svg', dpi=300,\n",
    "                bbox_inches='tight')"
   ]
  },
  {
   "cell_type": "markdown",
   "metadata": {},
   "source": [
    "**Cells in each Bin**"
   ]
  },
  {
   "cell_type": "code",
   "execution_count": null,
   "metadata": {},
   "outputs": [],
   "source": [
    "# The ones without 3D localization of cells\n",
    "excluded_cells = ['Distal_tip_cells',\n",
    "                  'Sex_myoblasts',\n",
    "                  'Socket_cells',\n",
    "                  'Vulval_precursors',\n",
    "                  'flp-1(+)_interneurons']"
   ]
  },
  {
   "cell_type": "code",
   "execution_count": null,
   "metadata": {},
   "outputs": [],
   "source": [
    "template_cols = spatial_lr.columns\n",
    "template_idx = meta.sort_values(by=['Groups', '#SampleID'])['#SampleID']\n",
    "data = np.zeros((len(template_idx), len(template_cols)))\n",
    "template = pd.DataFrame(data, columns=template_cols, index=template_idx)\n",
    "template.index.name = ''\n",
    "for bin_id, df in atlas.groupby('Bins'):\n",
    "    update_df = pd.DataFrame()\n",
    "    update_df['Bin-{}'.format(bin_id)] = df.groupby('Cell Type')['Cell Type'].count()\n",
    "    template.loc[update_df.index, 'Bin-{}'.format(bin_id)] = df.groupby('Cell Type')['Cell Type'].count()\n",
    "    \n",
    "template = template.loc[~template.index.isin(excluded_cells)]"
   ]
  },
  {
   "cell_type": "code",
   "execution_count": null,
   "metadata": {},
   "outputs": [],
   "source": [
    "cell_type_colors = []\n",
    "for idx, row in meta.sort_values(by=['Groups', '#SampleID']).iterrows():\n",
    "    if row['#SampleID'] not in excluded_cells:\n",
    "        cell_type_colors.append(lut[row['Groups']])"
   ]
  },
  {
   "cell_type": "code",
   "execution_count": null,
   "metadata": {},
   "outputs": [],
   "source": [
    "#with sns.axes_style(\"white\"):\n",
    "fig, axes = plt.subplots(1, len(template_cols), sharey='all', sharex ='all', figsize=(16,10)) #(20,10)\n",
    "ind = np.arange(template.shape[0])\n",
    "count = 0\n",
    "idx_map = {'Bin-1' : 'Head', 'Bin-2': 'Mid-body', 'Bin-3': 'Tail'}\n",
    "for idx, col in template.T.iterrows():\n",
    "    bars = axes[count].barh(ind, col.values, color=cell_type_colors)\n",
    "    axes[count].set_xlabel(idx_map[idx] + '\\n{} Cells'.format(int(col.sum())), fontsize=26.5)\n",
    "    axes[count].tick_params(axis='x', which='major', labelsize=22) # Ex 14\n",
    "    axes[count].tick_params(axis='y', which='major', labelsize=26.5)\n",
    "    axes[count].set_yticks(ind) \n",
    "    axes[count].set_yticklabels(template.index.str.replace('_', ' '))\n",
    "    if count != 0:\n",
    "        axes[count].yaxis.set_ticks_position('none') \n",
    "    count += 1\n",
    "\n",
    "plt.xlim((0,50))\n",
    "plt.xticks(np.arange(0,50,10))\n",
    "plt.ylim((-0.5, len(template.index)-0.5))\n",
    "plt.gca().invert_yaxis()\n",
    "\n",
    "plt.subplots_adjust(wspace = 0.1)\n",
    "plt.savefig('../Figures/Spatial-Cell-Distribution.svg',\n",
    "            dpi=300,\n",
    "            bbox_inches='tight')"
   ]
  },
  {
   "cell_type": "code",
   "execution_count": null,
   "metadata": {},
   "outputs": [],
   "source": [
    "atlas.groupby('Cell Type')['Cell Type'].count().plot(kind='bar')"
   ]
  },
  {
   "cell_type": "markdown",
   "metadata": {},
   "source": [
    "**Spatial LRs**"
   ]
  },
  {
   "cell_type": "code",
   "execution_count": null,
   "metadata": {},
   "outputs": [],
   "source": [
    "import scipy.cluster.hierarchy as hc\n",
    "import scipy.spatial as sp\n",
    "from sklearn.metrics import pairwise_distances"
   ]
  },
  {
   "cell_type": "code",
   "execution_count": null,
   "metadata": {
    "scrolled": false
   },
   "outputs": [],
   "source": [
    "fontsize = 26\n",
    "\n",
    "\n",
    "X = spatial_lr[(spatial_lr.T != 0).any()]\n",
    "D = pairwise_distances(X)\n",
    "\n",
    "row_Z = hc.linkage(D, method='ward')\n",
    "opt_row_Z = hc.optimal_leaf_ordering(row_Z, D)\n",
    "\n",
    "fig = sns.clustermap(X,\n",
    "                     col_cluster=False,\n",
    "                     row_linkage=opt_row_Z,\n",
    "                     cmap='Blues',\n",
    "                     figsize = (20,40)\n",
    "                    )\n",
    "\n",
    "fig.ax_heatmap.set_yticklabels(fig.ax_heatmap.yaxis.get_majorticklabels(),\n",
    "                               rotation=0,\n",
    "                               ha='left', \n",
    "                               fontsize=fontsize)\n",
    "fig.ax_heatmap.set_xticklabels(fig.ax_heatmap.xaxis.get_majorticklabels(),\n",
    "                               rotation=90,\n",
    "                               fontsize=fontsize*1.5)\n",
    "\n",
    "cbar = fig.ax_heatmap.collections[0].colorbar\n",
    "cbar_label = 'Fraction of Interactions'#'# Interactions / Total Interactions'\n",
    "cbar.ax.set_ylabel(cbar_label, fontsize=fontsize)\n",
    "cbar.ax.tick_params(labelsize=fontsize*0.8)\n",
    "cbar.ax.yaxis.set_label_position(\"left\")\n",
    "\n",
    "plt.savefig('../Figures/Spatial-LRs.svg',\n",
    "            dpi=300,\n",
    "            bbox_inches='tight')"
   ]
  },
  {
   "cell_type": "code",
   "execution_count": null,
   "metadata": {},
   "outputs": [],
   "source": [
    "# LRs that are not used\n",
    "spatial_lr[~(spatial_lr.T != 0).any()].index"
   ]
  },
  {
   "cell_type": "code",
   "execution_count": null,
   "metadata": {},
   "outputs": [],
   "source": [
    "-1*np.log(0.05)"
   ]
  },
  {
   "cell_type": "code",
   "execution_count": null,
   "metadata": {
    "scrolled": false
   },
   "outputs": [],
   "source": [
    "fontsize = 26\n",
    "\n",
    "\n",
    "X = spatial_pvals[(spatial_lr.T != 0).any()].values\n",
    "if raw_pval == False:\n",
    "    D = pairwise_distances(X, metric='cosine')\n",
    "else:\n",
    "    D = pairwise_distances(X)\n",
    "X = spatial_pvals[(spatial_lr.T != 0).any()]\n",
    "\n",
    "row_Z = hc.linkage(D, method='ward')\n",
    "opt_row_Z_2 = hc.optimal_leaf_ordering(row_Z, D)\n",
    "\n",
    "fig2 = sns.clustermap(X,\n",
    "                      col_cluster=False,\n",
    "                      row_linkage=opt_row_Z_2,\n",
    "                      cmap='Blues',\n",
    "                      figsize = (20,40),\n",
    "                      linewidths=.5\n",
    "                     )\n",
    "\n",
    "fig2.ax_heatmap.set_yticklabels(fig2.ax_heatmap.yaxis.get_majorticklabels(),\n",
    "                                rotation=0,\n",
    "                                ha='left', \n",
    "                                fontsize=fontsize)\n",
    "fig2.ax_heatmap.set_xticklabels(fig2.ax_heatmap.xaxis.get_majorticklabels(),\n",
    "                                rotation=90,\n",
    "                                fontsize=fontsize*1.5)\n",
    "\n",
    "cbar2 = fig2.ax_heatmap.collections[0].colorbar\n",
    "if raw_pval == False:\n",
    "    cbar_label = 'Significance'\n",
    "else:\n",
    "    cbar_label = '$-log_{10}$(q-value)'\n",
    "cbar2.ax.set_ylabel(cbar_label, fontsize=fontsize)\n",
    "cbar2.ax.tick_params(labelsize=fontsize*0.8)\n",
    "cbar2.ax.yaxis.set_label_position(\"left\")\n",
    "\n",
    "plt.savefig('../Figures/Spatial-LRs-Enr-pvals.svg',\n",
    "            dpi=300,\n",
    "            bbox_inches='tight')"
   ]
  },
  {
   "cell_type": "code",
   "execution_count": null,
   "metadata": {},
   "outputs": [],
   "source": [
    "fontsize = 26\n",
    "\n",
    "\n",
    "X = spatial_pvals2[(spatial_lr.T != 0).any()]\n",
    "\n",
    "fig2 = sns.clustermap(-1*X,\n",
    "                      col_cluster=False,\n",
    "                      row_linkage=opt_row_Z_2,\n",
    "                      cmap='Blues',\n",
    "                      figsize = (20,40),\n",
    "                      linewidths=.5\n",
    "                     )\n",
    "\n",
    "fig2.ax_heatmap.set_yticklabels(fig2.ax_heatmap.yaxis.get_majorticklabels(),\n",
    "                                rotation=0,\n",
    "                                ha='left', \n",
    "                                fontsize=fontsize)\n",
    "fig2.ax_heatmap.set_xticklabels(fig2.ax_heatmap.xaxis.get_majorticklabels(),\n",
    "                                rotation=90,\n",
    "                                fontsize=fontsize*1.5)\n",
    "\n",
    "cbar2 = fig2.ax_heatmap.collections[0].colorbar\n",
    "if raw_pval == False:\n",
    "    cbar_label = 'Significance'\n",
    "else:\n",
    "    cbar_label = '$-log_{10}$(q-value)'\n",
    "cbar2.ax.set_ylabel(cbar_label, fontsize=fontsize)\n",
    "cbar2.ax.tick_params(labelsize=fontsize*0.8)\n",
    "cbar2.ax.yaxis.set_label_position(\"left\")\n",
    "\n",
    "plt.savefig('../Figures/Spatial-LRs-Dep-pvals.svg',\n",
    "            dpi=300,\n",
    "            bbox_inches='tight')"
   ]
  },
  {
   "cell_type": "code",
   "execution_count": null,
   "metadata": {
    "scrolled": false
   },
   "outputs": [],
   "source": [
    "fontsize = 26\n",
    "\n",
    "\n",
    "X = spatial_pvals + spatial_pvals2\n",
    "X = X[(X.T != 0).any()]\n",
    "if raw_pval == False:\n",
    "    D = pairwise_distances(X, metric='cosine')\n",
    "else:\n",
    "    D = pairwise_distances(X)\n",
    "\n",
    "row_Z = hc.linkage(D, method='ward')\n",
    "opt_row_Z_2 = hc.optimal_leaf_ordering(row_Z, D)\n",
    "\n",
    "X.columns = [idx_map[idx] for idx in X.columns]\n",
    "fig2 = sns.clustermap(X,\n",
    "                      col_cluster=False,\n",
    "                      row_cluster=False,\n",
    "                      row_linkage=opt_row_Z_2,\n",
    "                      cmap='RdBu_r',\n",
    "                      figsize = (10,30),\n",
    "                      linewidths=.5,\n",
    "                      row_colors=row_cols\n",
    "                     )\n",
    "\n",
    "fig2.ax_heatmap.set_yticklabels(fig2.ax_heatmap.yaxis.get_majorticklabels(),\n",
    "                                rotation=0,\n",
    "                                ha='left', \n",
    "                                fontsize=fontsize)\n",
    "fig2.ax_heatmap.set_xticklabels(fig2.ax_heatmap.xaxis.get_majorticklabels(),\n",
    "                                rotation=90,\n",
    "                                fontsize=fontsize*1.5)\n",
    "\n",
    "cbar2 = fig2.ax_heatmap.collections[0].colorbar\n",
    "if raw_pval == False:\n",
    "    cbar_label = 'Significance'\n",
    "else:\n",
    "    cbar_label = '$-log_{10}$(q-value)'\n",
    "cbar2.ax.set_ylabel(cbar_label, fontsize=fontsize)\n",
    "cbar2.ax.tick_params(labelsize=fontsize*0.8)\n",
    "cbar2.ax.yaxis.set_label_position(\"left\")\n",
    "\n",
    "plt.savefig('../Figures/Spatial-LRs-EnrDep-pvals.svg',\n",
    "            dpi=300,\n",
    "            bbox_inches='tight')"
   ]
  },
  {
   "cell_type": "code",
   "execution_count": null,
   "metadata": {},
   "outputs": [],
   "source": [
    "ax = sns.palplot(function_colors.values())\n",
    "for i, text in enumerate(function_colors.keys()):\n",
    "    plt.text(i, 0.6, text, rotation=90, horizontalalignment='center', verticalalignment='top',fontsize=14)\n",
    "    \n",
    "plt.savefig('../Figures/Spatial-LR-Functions.svg',\n",
    "            dpi=300,\n",
    "            bbox_inches='tight')"
   ]
  },
  {
   "cell_type": "code",
   "execution_count": null,
   "metadata": {},
   "outputs": [],
   "source": []
  }
 ],
 "metadata": {
  "kernelspec": {
   "display_name": "Python 3",
   "language": "python",
   "name": "python3"
  },
  "language_info": {
   "codemirror_mode": {
    "name": "ipython",
    "version": 3
   },
   "file_extension": ".py",
   "mimetype": "text/x-python",
   "name": "python",
   "nbconvert_exporter": "python",
   "pygments_lexer": "ipython3",
   "version": "3.7.8"
  }
 },
 "nbformat": 4,
 "nbformat_minor": 4
}
